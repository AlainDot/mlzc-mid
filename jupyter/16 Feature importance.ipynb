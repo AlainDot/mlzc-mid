{
 "cells": [
  {
   "cell_type": "markdown",
   "id": "5ace2bc5",
   "metadata": {},
   "source": [
    "### <center>MLZC Mid-Term project - Q4/2022<img align=\"right\" width=\"60\" height=\"60\" src=\"../media/heart.png\">"
   ]
  },
  {
   "cell_type": "markdown",
   "id": "14dfe89b",
   "metadata": {},
   "source": [
    "# mid 16 Feature importance"
   ]
  },
  {
   "cell_type": "markdown",
   "id": "132cbdca",
   "metadata": {},
   "source": [
    "<div class=\"alert alert-block alert-warning\">\n",
    "<b>Warning: </b>Using the <b>Train Full</b> dataset to compare the Features (number of rows is small: 299)\n",
    "<i>and it is what has been used in our lesson ;-)</i>\n",
    "</div>"
   ]
  },
  {
   "cell_type": "code",
   "execution_count": 1,
   "id": "09d78c2e",
   "metadata": {},
   "outputs": [
    {
     "data": {
      "text/plain": [
       "('1.23.4', '1.5.1')"
      ]
     },
     "execution_count": 1,
     "metadata": {},
     "output_type": "execute_result"
    }
   ],
   "source": [
    "import pandas as pda\n",
    "import numpy as npy\n",
    "\n",
    "npy.__version__ , pda.__version__"
   ]
  },
  {
   "cell_type": "code",
   "execution_count": 2,
   "id": "e00371a9",
   "metadata": {},
   "outputs": [],
   "source": [
    "import pickle\n",
    "from IPython.display import display"
   ]
  },
  {
   "cell_type": "code",
   "execution_count": 3,
   "id": "35d5cd27",
   "metadata": {},
   "outputs": [
    {
     "data": {
      "text/plain": [
       "'0.12.1'"
      ]
     },
     "execution_count": 3,
     "metadata": {},
     "output_type": "execute_result"
    }
   ],
   "source": [
    "import matplotlib.pyplot as plt\n",
    "import seaborn as sns\n",
    "\n",
    "%matplotlib inline\n",
    "sns.__version__ "
   ]
  },
  {
   "cell_type": "code",
   "execution_count": 4,
   "id": "cd0f8d56",
   "metadata": {},
   "outputs": [],
   "source": [
    "from sklearn.metrics import mutual_info_score\n",
    "from sklearn.metrics import roc_auc_score"
   ]
  },
  {
   "cell_type": "markdown",
   "id": "2753bb6b",
   "metadata": {},
   "source": [
    "#### Reload data from previous notebooks"
   ]
  },
  {
   "cell_type": "code",
   "execution_count": 5,
   "id": "23cac446",
   "metadata": {},
   "outputs": [
    {
     "data": {
      "text/plain": [
       "((239, 13), 239)"
      ]
     },
     "execution_count": 5,
     "metadata": {},
     "output_type": "execute_result"
    }
   ],
   "source": [
    "# use TRAin FULL dataset\n",
    "strFil = '.\\pickle\\dstTraFul.bin'\n",
    "with open(strFil, 'rb') as filIn: \n",
    "    dfrTraFul, y_TraFul = pickle.load(filIn)\n",
    "dfrTraFul.shape , len(y_TraFul)"
   ]
  },
  {
   "cell_type": "code",
   "execution_count": 6,
   "id": "69fbd76e",
   "metadata": {},
   "outputs": [
    {
     "data": {
      "text/plain": [
       "'death_event'"
      ]
     },
     "execution_count": 6,
     "metadata": {},
     "output_type": "execute_result"
    }
   ],
   "source": [
    "strFil = '.\\pickle\\strTar.bin'\n",
    "with open(strFil, 'rb') as filIn: \n",
    "    strTar = pickle.load(filIn)\n",
    "strTar"
   ]
  },
  {
   "cell_type": "code",
   "execution_count": 7,
   "id": "7e13ff95",
   "metadata": {},
   "outputs": [
    {
     "data": {
      "text/plain": [
       "['anaemia', 'diabetes', 'high_blood_pressure', 'sex', 'smoking']"
      ]
     },
     "execution_count": 7,
     "metadata": {},
     "output_type": "execute_result"
    }
   ],
   "source": [
    "strFil = '.\\pickle\\lstFeaCat.bin'\n",
    "with open(strFil, 'rb') as filIn: \n",
    "    lstFeaCat = pickle.load(filIn)\n",
    "lstFeaCat"
   ]
  },
  {
   "cell_type": "code",
   "execution_count": 8,
   "id": "4836c244",
   "metadata": {},
   "outputs": [
    {
     "data": {
      "text/plain": [
       "['age',\n",
       " 'creatinine_phosphokinase',\n",
       " 'ejection_fraction',\n",
       " 'platelets',\n",
       " 'serum_creatinine',\n",
       " 'serum_sodium',\n",
       " 'time']"
      ]
     },
     "execution_count": 8,
     "metadata": {},
     "output_type": "execute_result"
    }
   ],
   "source": [
    "strFil = '.\\pickle\\lstFeaNum.bin'\n",
    "with open(strFil, 'rb') as filIn: \n",
    "    lstFeaNum = pickle.load(filIn)\n",
    "lstFeaNum"
   ]
  },
  {
   "cell_type": "markdown",
   "id": "e1d6d016",
   "metadata": {},
   "source": [
    "## Risks of death by Categorical Features "
   ]
  },
  {
   "cell_type": "code",
   "execution_count": 9,
   "id": "b7cfccdb",
   "metadata": {},
   "outputs": [
    {
     "data": {
      "text/plain": [
       "0.3431"
      ]
     },
     "execution_count": 9,
     "metadata": {},
     "output_type": "execute_result"
    }
   ],
   "source": [
    "dead_risk = y_TraFul.mean()\n",
    "dead_risk.round(5)"
   ]
  },
  {
   "cell_type": "code",
   "execution_count": 10,
   "id": "dd96eda0",
   "metadata": {},
   "outputs": [
    {
     "data": {
      "text/plain": [
       "0.3431"
      ]
     },
     "execution_count": 10,
     "metadata": {},
     "output_type": "execute_result"
    }
   ],
   "source": [
    "# double check ;-)\n",
    "dead_risk = dfrTraFul[strTar].mean()\n",
    "dead_risk.round(5)"
   ]
  },
  {
   "cell_type": "code",
   "execution_count": 11,
   "id": "5dc6b064",
   "metadata": {},
   "outputs": [
    {
     "data": {
      "text/html": [
       "<div>\n",
       "<style scoped>\n",
       "    .dataframe tbody tr th:only-of-type {\n",
       "        vertical-align: middle;\n",
       "    }\n",
       "\n",
       "    .dataframe tbody tr th {\n",
       "        vertical-align: top;\n",
       "    }\n",
       "\n",
       "    .dataframe thead th {\n",
       "        text-align: right;\n",
       "    }\n",
       "</style>\n",
       "<table border=\"1\" class=\"dataframe\">\n",
       "  <thead>\n",
       "    <tr style=\"text-align: right;\">\n",
       "      <th></th>\n",
       "      <th>mean</th>\n",
       "      <th>count</th>\n",
       "      <th>diff</th>\n",
       "      <th>risk</th>\n",
       "    </tr>\n",
       "    <tr>\n",
       "      <th>anaemia</th>\n",
       "      <th></th>\n",
       "      <th></th>\n",
       "      <th></th>\n",
       "      <th></th>\n",
       "    </tr>\n",
       "  </thead>\n",
       "  <tbody>\n",
       "    <tr>\n",
       "      <th>0</th>\n",
       "      <td>0.325758</td>\n",
       "      <td>132</td>\n",
       "      <td>-0.017339</td>\n",
       "      <td>0.949464</td>\n",
       "    </tr>\n",
       "    <tr>\n",
       "      <th>1</th>\n",
       "      <td>0.364486</td>\n",
       "      <td>107</td>\n",
       "      <td>0.021390</td>\n",
       "      <td>1.062343</td>\n",
       "    </tr>\n",
       "  </tbody>\n",
       "</table>\n",
       "</div>"
      ],
      "text/plain": [
       "             mean  count      diff      risk\n",
       "anaemia                                     \n",
       "0        0.325758    132 -0.017339  0.949464\n",
       "1        0.364486    107  0.021390  1.062343"
      ]
     },
     "metadata": {},
     "output_type": "display_data"
    },
    {
     "name": "stdout",
     "output_type": "stream",
     "text": [
      "anaemia difference in dead_risk :  0.113\n",
      "__________________________________________________\n"
     ]
    },
    {
     "data": {
      "text/html": [
       "<div>\n",
       "<style scoped>\n",
       "    .dataframe tbody tr th:only-of-type {\n",
       "        vertical-align: middle;\n",
       "    }\n",
       "\n",
       "    .dataframe tbody tr th {\n",
       "        vertical-align: top;\n",
       "    }\n",
       "\n",
       "    .dataframe thead th {\n",
       "        text-align: right;\n",
       "    }\n",
       "</style>\n",
       "<table border=\"1\" class=\"dataframe\">\n",
       "  <thead>\n",
       "    <tr style=\"text-align: right;\">\n",
       "      <th></th>\n",
       "      <th>mean</th>\n",
       "      <th>count</th>\n",
       "      <th>diff</th>\n",
       "      <th>risk</th>\n",
       "    </tr>\n",
       "    <tr>\n",
       "      <th>diabetes</th>\n",
       "      <th></th>\n",
       "      <th></th>\n",
       "      <th></th>\n",
       "      <th></th>\n",
       "    </tr>\n",
       "  </thead>\n",
       "  <tbody>\n",
       "    <tr>\n",
       "      <th>0</th>\n",
       "      <td>0.330935</td>\n",
       "      <td>139</td>\n",
       "      <td>-0.012161</td>\n",
       "      <td>0.964555</td>\n",
       "    </tr>\n",
       "    <tr>\n",
       "      <th>1</th>\n",
       "      <td>0.360000</td>\n",
       "      <td>100</td>\n",
       "      <td>0.016904</td>\n",
       "      <td>1.049268</td>\n",
       "    </tr>\n",
       "  </tbody>\n",
       "</table>\n",
       "</div>"
      ],
      "text/plain": [
       "              mean  count      diff      risk\n",
       "diabetes                                     \n",
       "0         0.330935    139 -0.012161  0.964555\n",
       "1         0.360000    100  0.016904  1.049268"
      ]
     },
     "metadata": {},
     "output_type": "display_data"
    },
    {
     "name": "stdout",
     "output_type": "stream",
     "text": [
      "diabetes difference in dead_risk :  0.085\n",
      "__________________________________________________\n"
     ]
    },
    {
     "data": {
      "text/html": [
       "<div>\n",
       "<style scoped>\n",
       "    .dataframe tbody tr th:only-of-type {\n",
       "        vertical-align: middle;\n",
       "    }\n",
       "\n",
       "    .dataframe tbody tr th {\n",
       "        vertical-align: top;\n",
       "    }\n",
       "\n",
       "    .dataframe thead th {\n",
       "        text-align: right;\n",
       "    }\n",
       "</style>\n",
       "<table border=\"1\" class=\"dataframe\">\n",
       "  <thead>\n",
       "    <tr style=\"text-align: right;\">\n",
       "      <th></th>\n",
       "      <th>mean</th>\n",
       "      <th>count</th>\n",
       "      <th>diff</th>\n",
       "      <th>risk</th>\n",
       "    </tr>\n",
       "    <tr>\n",
       "      <th>high_blood_pressure</th>\n",
       "      <th></th>\n",
       "      <th></th>\n",
       "      <th></th>\n",
       "      <th></th>\n",
       "    </tr>\n",
       "  </thead>\n",
       "  <tbody>\n",
       "    <tr>\n",
       "      <th>0</th>\n",
       "      <td>0.324841</td>\n",
       "      <td>157</td>\n",
       "      <td>-0.018255</td>\n",
       "      <td>0.946792</td>\n",
       "    </tr>\n",
       "    <tr>\n",
       "      <th>1</th>\n",
       "      <td>0.378049</td>\n",
       "      <td>82</td>\n",
       "      <td>0.034953</td>\n",
       "      <td>1.101874</td>\n",
       "    </tr>\n",
       "  </tbody>\n",
       "</table>\n",
       "</div>"
      ],
      "text/plain": [
       "                         mean  count      diff      risk\n",
       "high_blood_pressure                                     \n",
       "0                    0.324841    157 -0.018255  0.946792\n",
       "1                    0.378049     82  0.034953  1.101874"
      ]
     },
     "metadata": {},
     "output_type": "display_data"
    },
    {
     "name": "stdout",
     "output_type": "stream",
     "text": [
      "high_blood_pressure difference in dead_risk :  0.155\n",
      "__________________________________________________\n"
     ]
    },
    {
     "data": {
      "text/html": [
       "<div>\n",
       "<style scoped>\n",
       "    .dataframe tbody tr th:only-of-type {\n",
       "        vertical-align: middle;\n",
       "    }\n",
       "\n",
       "    .dataframe tbody tr th {\n",
       "        vertical-align: top;\n",
       "    }\n",
       "\n",
       "    .dataframe thead th {\n",
       "        text-align: right;\n",
       "    }\n",
       "</style>\n",
       "<table border=\"1\" class=\"dataframe\">\n",
       "  <thead>\n",
       "    <tr style=\"text-align: right;\">\n",
       "      <th></th>\n",
       "      <th>mean</th>\n",
       "      <th>count</th>\n",
       "      <th>diff</th>\n",
       "      <th>risk</th>\n",
       "    </tr>\n",
       "    <tr>\n",
       "      <th>sex</th>\n",
       "      <th></th>\n",
       "      <th></th>\n",
       "      <th></th>\n",
       "      <th></th>\n",
       "    </tr>\n",
       "  </thead>\n",
       "  <tbody>\n",
       "    <tr>\n",
       "      <th>0</th>\n",
       "      <td>0.337349</td>\n",
       "      <td>83</td>\n",
       "      <td>-0.005747</td>\n",
       "      <td>0.983250</td>\n",
       "    </tr>\n",
       "    <tr>\n",
       "      <th>1</th>\n",
       "      <td>0.346154</td>\n",
       "      <td>156</td>\n",
       "      <td>0.003058</td>\n",
       "      <td>1.008912</td>\n",
       "    </tr>\n",
       "  </tbody>\n",
       "</table>\n",
       "</div>"
      ],
      "text/plain": [
       "         mean  count      diff      risk\n",
       "sex                                     \n",
       "0    0.337349     83 -0.005747  0.983250\n",
       "1    0.346154    156  0.003058  1.008912"
      ]
     },
     "metadata": {},
     "output_type": "display_data"
    },
    {
     "name": "stdout",
     "output_type": "stream",
     "text": [
      "sex difference in dead_risk :  0.026\n",
      "__________________________________________________\n"
     ]
    },
    {
     "data": {
      "text/html": [
       "<div>\n",
       "<style scoped>\n",
       "    .dataframe tbody tr th:only-of-type {\n",
       "        vertical-align: middle;\n",
       "    }\n",
       "\n",
       "    .dataframe tbody tr th {\n",
       "        vertical-align: top;\n",
       "    }\n",
       "\n",
       "    .dataframe thead th {\n",
       "        text-align: right;\n",
       "    }\n",
       "</style>\n",
       "<table border=\"1\" class=\"dataframe\">\n",
       "  <thead>\n",
       "    <tr style=\"text-align: right;\">\n",
       "      <th></th>\n",
       "      <th>mean</th>\n",
       "      <th>count</th>\n",
       "      <th>diff</th>\n",
       "      <th>risk</th>\n",
       "    </tr>\n",
       "    <tr>\n",
       "      <th>smoking</th>\n",
       "      <th></th>\n",
       "      <th></th>\n",
       "      <th></th>\n",
       "      <th></th>\n",
       "    </tr>\n",
       "  </thead>\n",
       "  <tbody>\n",
       "    <tr>\n",
       "      <th>0</th>\n",
       "      <td>0.347305</td>\n",
       "      <td>167</td>\n",
       "      <td>0.004209</td>\n",
       "      <td>1.012268</td>\n",
       "    </tr>\n",
       "    <tr>\n",
       "      <th>1</th>\n",
       "      <td>0.333333</td>\n",
       "      <td>72</td>\n",
       "      <td>-0.009763</td>\n",
       "      <td>0.971545</td>\n",
       "    </tr>\n",
       "  </tbody>\n",
       "</table>\n",
       "</div>"
      ],
      "text/plain": [
       "             mean  count      diff      risk\n",
       "smoking                                     \n",
       "0        0.347305    167  0.004209  1.012268\n",
       "1        0.333333     72 -0.009763  0.971545"
      ]
     },
     "metadata": {},
     "output_type": "display_data"
    },
    {
     "name": "stdout",
     "output_type": "stream",
     "text": [
      "smoking difference in dead_risk :  -0.041\n",
      "__________________________________________________\n"
     ]
    }
   ],
   "source": [
    "# store the difference of Risk in a dataFrame to sort later\n",
    "dfrRsk = pda.DataFrame(columns=['RskDif'])\n",
    "\n",
    "# evaluate each CAT column regarding the dead risk\n",
    "for col in lstFeaCat:\n",
    "    #print(col)\n",
    "    df_group = dfrTraFul.groupby(col)[strTar].agg(['mean', 'count'])\n",
    "    df_group['diff'] = df_group['mean'] - dead_risk\n",
    "    df_group['risk'] = df_group['mean'] / dead_risk\n",
    "    display(df_group)\n",
    "    floRskDif = df_group['risk'][1] - df_group['risk'][0]\n",
    "    print(col , 'difference in dead_risk : ' , floRskDif.round(3) )\n",
    "    dfrRsk.loc[col] = [floRskDif]\n",
    "    print('_'*50)"
   ]
  },
  {
   "cell_type": "code",
   "execution_count": 12,
   "id": "30e91d75",
   "metadata": {},
   "outputs": [
    {
     "data": {
      "text/html": [
       "<div>\n",
       "<style scoped>\n",
       "    .dataframe tbody tr th:only-of-type {\n",
       "        vertical-align: middle;\n",
       "    }\n",
       "\n",
       "    .dataframe tbody tr th {\n",
       "        vertical-align: top;\n",
       "    }\n",
       "\n",
       "    .dataframe thead th {\n",
       "        text-align: right;\n",
       "    }\n",
       "</style>\n",
       "<table border=\"1\" class=\"dataframe\">\n",
       "  <thead>\n",
       "    <tr style=\"text-align: right;\">\n",
       "      <th></th>\n",
       "      <th>RskDif</th>\n",
       "    </tr>\n",
       "  </thead>\n",
       "  <tbody>\n",
       "    <tr>\n",
       "      <th>high_blood_pressure</th>\n",
       "      <td>0.155082</td>\n",
       "    </tr>\n",
       "    <tr>\n",
       "      <th>anaemia</th>\n",
       "      <td>0.112879</td>\n",
       "    </tr>\n",
       "    <tr>\n",
       "      <th>diabetes</th>\n",
       "      <td>0.084713</td>\n",
       "    </tr>\n",
       "    <tr>\n",
       "      <th>sex</th>\n",
       "      <td>0.025662</td>\n",
       "    </tr>\n",
       "    <tr>\n",
       "      <th>smoking</th>\n",
       "      <td>-0.040723</td>\n",
       "    </tr>\n",
       "  </tbody>\n",
       "</table>\n",
       "</div>"
      ],
      "text/plain": [
       "                       RskDif\n",
       "high_blood_pressure  0.155082\n",
       "anaemia              0.112879\n",
       "diabetes             0.084713\n",
       "sex                  0.025662\n",
       "smoking             -0.040723"
      ]
     },
     "execution_count": 12,
     "metadata": {},
     "output_type": "execute_result"
    }
   ],
   "source": [
    "dfrRsk.sort_values(by='RskDif' , ascending=False)"
   ]
  },
  {
   "cell_type": "markdown",
   "id": "c0551538",
   "metadata": {},
   "source": [
    "<div class=\"alert alert-block alert-warning\">\n",
    "In this dataset, for our categorical features :\n",
    "<ul>\n",
    "<li><b>high_blood_pressure</b> increases the risk of death by the most importance.\n",
    "<li><b>anemia and diabetes</b> increase also the risk of death.  \n",
    "<li><b>sex and smoking</b> do not influence much the risk of death (amazing for smoking!).   \n",
    "</ul>\n",
    "</div>"
   ]
  },
  {
   "cell_type": "markdown",
   "id": "9403a117",
   "metadata": {},
   "source": [
    "# Categorical Features importance (Mutual information)"
   ]
  },
  {
   "cell_type": "code",
   "execution_count": 13,
   "id": "5ee50e25",
   "metadata": {},
   "outputs": [
    {
     "data": {
      "text/plain": [
       "0.0014059051620281537"
      ]
     },
     "execution_count": 13,
     "metadata": {},
     "output_type": "execute_result"
    }
   ],
   "source": [
    "mutual_info_score(dfrTraFul[strTar], dfrTraFul['high_blood_pressure'] )"
   ]
  },
  {
   "cell_type": "code",
   "execution_count": 14,
   "id": "5772cc6c",
   "metadata": {},
   "outputs": [
    {
     "name": "stdout",
     "output_type": "stream",
     "text": [
      "anaemia Mutual information vs dead_risk :  0.000822\n",
      "diabetes Mutual information vs dead_risk :  0.000455\n",
      "high_blood_pressure Mutual information vs dead_risk :  0.001406\n",
      "sex Mutual information vs dead_risk :  3.9e-05\n",
      "smoking Mutual information vs dead_risk :  9.1e-05\n"
     ]
    },
    {
     "data": {
      "text/html": [
       "<div>\n",
       "<style scoped>\n",
       "    .dataframe tbody tr th:only-of-type {\n",
       "        vertical-align: middle;\n",
       "    }\n",
       "\n",
       "    .dataframe tbody tr th {\n",
       "        vertical-align: top;\n",
       "    }\n",
       "\n",
       "    .dataframe thead th {\n",
       "        text-align: right;\n",
       "    }\n",
       "</style>\n",
       "<table border=\"1\" class=\"dataframe\">\n",
       "  <thead>\n",
       "    <tr style=\"text-align: right;\">\n",
       "      <th></th>\n",
       "      <th>MutInf</th>\n",
       "    </tr>\n",
       "  </thead>\n",
       "  <tbody>\n",
       "    <tr>\n",
       "      <th>high_blood_pressure</th>\n",
       "      <td>0.001406</td>\n",
       "    </tr>\n",
       "    <tr>\n",
       "      <th>anaemia</th>\n",
       "      <td>0.000822</td>\n",
       "    </tr>\n",
       "    <tr>\n",
       "      <th>diabetes</th>\n",
       "      <td>0.000455</td>\n",
       "    </tr>\n",
       "    <tr>\n",
       "      <th>smoking</th>\n",
       "      <td>0.000091</td>\n",
       "    </tr>\n",
       "    <tr>\n",
       "      <th>sex</th>\n",
       "      <td>0.000039</td>\n",
       "    </tr>\n",
       "  </tbody>\n",
       "</table>\n",
       "</div>"
      ],
      "text/plain": [
       "                       MutInf\n",
       "high_blood_pressure  0.001406\n",
       "anaemia              0.000822\n",
       "diabetes             0.000455\n",
       "smoking              0.000091\n",
       "sex                  0.000039"
      ]
     },
     "execution_count": 14,
     "metadata": {},
     "output_type": "execute_result"
    }
   ],
   "source": [
    "# store the difference of Risk in a dataFrame to sort later\n",
    "dfrMui = pda.DataFrame(columns=['MutInf'])\n",
    "\n",
    "# evaluate each CAT column regarding the dead risk\n",
    "for col in lstFeaCat:\n",
    "    #print(col)\n",
    "    floMutInf = mutual_info_score(dfrTraFul[strTar], dfrTraFul[col] )\n",
    "    dfrMui.loc[col] = [floMutInf]\n",
    "    print(col , 'Mutual information vs dead_risk : ' , floMutInf.round(6) )\n",
    "    \n",
    "dfrMui.sort_values(by='MutInf' , ascending=False)"
   ]
  },
  {
   "cell_type": "markdown",
   "id": "8e948d2a",
   "metadata": {},
   "source": [
    "# Correlation of numerical features"
   ]
  },
  {
   "cell_type": "markdown",
   "id": "4fe97e84",
   "metadata": {},
   "source": [
    "#### corrwith"
   ]
  },
  {
   "cell_type": "code",
   "execution_count": 15,
   "id": "5b30d750",
   "metadata": {},
   "outputs": [
    {
     "data": {
      "text/plain": [
       "serum_creatinine            0.312228\n",
       "age                         0.226820\n",
       "creatinine_phosphokinase    0.085204\n",
       "platelets                  -0.069756\n",
       "serum_sodium               -0.203004\n",
       "ejection_fraction          -0.252100\n",
       "time                       -0.519556\n",
       "dtype: float64"
      ]
     },
     "execution_count": 15,
     "metadata": {},
     "output_type": "execute_result"
    }
   ],
   "source": [
    "dfrTraFul[lstFeaNum].corrwith(dfrTraFul[strTar]).sort_values(ascending=False)"
   ]
  },
  {
   "cell_type": "markdown",
   "id": "e5436c30",
   "metadata": {},
   "source": [
    "#### abs(corrwith)"
   ]
  },
  {
   "cell_type": "code",
   "execution_count": 17,
   "id": "8cdd23fd",
   "metadata": {},
   "outputs": [
    {
     "data": {
      "text/plain": [
       "time                        0.519556\n",
       "serum_creatinine            0.312228\n",
       "ejection_fraction           0.252100\n",
       "age                         0.226820\n",
       "serum_sodium                0.203004\n",
       "creatinine_phosphokinase    0.085204\n",
       "platelets                   0.069756\n",
       "dtype: float64"
      ]
     },
     "execution_count": 17,
     "metadata": {},
     "output_type": "execute_result"
    }
   ],
   "source": [
    "dfrTraFul[lstFeaNum].corrwith(dfrTraFul[strTar]).abs().sort_values(ascending=False)"
   ]
  },
  {
   "cell_type": "markdown",
   "id": "ccdc715a",
   "metadata": {},
   "source": [
    "# Correlation of log1p(numerical features)"
   ]
  },
  {
   "cell_type": "markdown",
   "id": "7814d77b",
   "metadata": {},
   "source": [
    "#### corrwith( log1p( ) )"
   ]
  },
  {
   "cell_type": "code",
   "execution_count": 18,
   "id": "21546070",
   "metadata": {
    "scrolled": false
   },
   "outputs": [
    {
     "data": {
      "text/plain": [
       "serum_creatinine            0.359451\n",
       "age                         0.215981\n",
       "creatinine_phosphokinase    0.057817\n",
       "platelets                  -0.087695\n",
       "serum_sodium               -0.202032\n",
       "ejection_fraction          -0.299468\n",
       "time                       -0.567556\n",
       "dtype: float64"
      ]
     },
     "execution_count": 18,
     "metadata": {},
     "output_type": "execute_result"
    }
   ],
   "source": [
    "npy.log1p(dfrTraFul[lstFeaNum]).corrwith(dfrTraFul[strTar]).sort_values(ascending=False)"
   ]
  },
  {
   "cell_type": "markdown",
   "id": "0edbd330",
   "metadata": {},
   "source": [
    "#### abs( corrwith( log1p( ) ) )"
   ]
  },
  {
   "cell_type": "code",
   "execution_count": 19,
   "id": "2a1f0431",
   "metadata": {
    "scrolled": true
   },
   "outputs": [
    {
     "data": {
      "text/plain": [
       "time                        0.567556\n",
       "serum_creatinine            0.359451\n",
       "ejection_fraction           0.299468\n",
       "age                         0.215981\n",
       "serum_sodium                0.202032\n",
       "platelets                   0.087695\n",
       "creatinine_phosphokinase    0.057817\n",
       "dtype: float64"
      ]
     },
     "execution_count": 19,
     "metadata": {},
     "output_type": "execute_result"
    }
   ],
   "source": [
    "npy.log1p(dfrTraFul[lstFeaNum]).corrwith(dfrTraFul[strTar]).abs().sort_values(ascending=False)"
   ]
  },
  {
   "cell_type": "markdown",
   "id": "bea441e0",
   "metadata": {},
   "source": [
    "<div class=\"alert alert-block alert-warning\">\n",
    "<b>log1p :  </b>3 features seems to give better correlation with log1p:\n",
    "<ul>\n",
    "<li>time :                      0.567556\n",
    "<li>serum_creatinine :          0.359451\n",
    "<li>ejection_fraction :         0.299468\n",
    "<li>platelets :                 0.087695\n",
    "</div>"
   ]
  },
  {
   "cell_type": "markdown",
   "id": "47b20f7e",
   "metadata": {},
   "source": [
    "# Correlation of Categorical Features\n",
    "### Confirm previous analysys ;-)"
   ]
  },
  {
   "cell_type": "code",
   "execution_count": 20,
   "id": "7f58b5ec",
   "metadata": {},
   "outputs": [
    {
     "data": {
      "text/plain": [
       "high_blood_pressure    0.053208\n",
       "anaemia                0.040565\n",
       "diabetes               0.030201\n",
       "smoking                0.013503\n",
       "sex                    0.008830\n",
       "dtype: float64"
      ]
     },
     "execution_count": 20,
     "metadata": {},
     "output_type": "execute_result"
    }
   ],
   "source": [
    "# try it with Categorical too (confirms previous findings -in order of importance-)\n",
    "dfrTraFul[lstFeaCat].corrwith(dfrTraFul[strTar]).abs().sort_values(ascending=False)"
   ]
  },
  {
   "cell_type": "markdown",
   "id": "5436bb1d",
   "metadata": {},
   "source": [
    "# Correlation of *all* Features"
   ]
  },
  {
   "cell_type": "markdown",
   "id": "4d7dee85",
   "metadata": {},
   "source": [
    "#### corrwith()"
   ]
  },
  {
   "cell_type": "code",
   "execution_count": 21,
   "id": "85c3f10f",
   "metadata": {},
   "outputs": [
    {
     "data": {
      "text/plain": [
       "serum_creatinine            0.312228\n",
       "age                         0.226820\n",
       "creatinine_phosphokinase    0.085204\n",
       "high_blood_pressure         0.053208\n",
       "anaemia                     0.040565\n",
       "diabetes                    0.030201\n",
       "sex                         0.008830\n",
       "smoking                    -0.013503\n",
       "platelets                  -0.069756\n",
       "serum_sodium               -0.203004\n",
       "ejection_fraction          -0.252100\n",
       "time                       -0.519556\n",
       "dtype: float64"
      ]
     },
     "execution_count": 21,
     "metadata": {},
     "output_type": "execute_result"
    }
   ],
   "source": [
    "serCorFea = dfrTraFul[ lstFeaCat + lstFeaNum ].corrwith(dfrTraFul[strTar]).sort_values(ascending=False)\n",
    "serCorFea"
   ]
  },
  {
   "cell_type": "markdown",
   "id": "bf7a0e65",
   "metadata": {},
   "source": [
    "#### abs( corrwith() )"
   ]
  },
  {
   "cell_type": "code",
   "execution_count": 22,
   "id": "db32c650",
   "metadata": {},
   "outputs": [
    {
     "data": {
      "text/plain": [
       "time                        0.519556\n",
       "serum_creatinine            0.312228\n",
       "ejection_fraction           0.252100\n",
       "age                         0.226820\n",
       "serum_sodium                0.203004\n",
       "creatinine_phosphokinase    0.085204\n",
       "platelets                   0.069756\n",
       "high_blood_pressure         0.053208\n",
       "anaemia                     0.040565\n",
       "diabetes                    0.030201\n",
       "smoking                     0.013503\n",
       "sex                         0.008830\n",
       "dtype: float64"
      ]
     },
     "execution_count": 22,
     "metadata": {},
     "output_type": "execute_result"
    }
   ],
   "source": [
    "serCorFea = dfrTraFul[ lstFeaCat + lstFeaNum ].corrwith(dfrTraFul[strTar]).abs().sort_values(ascending=False)\n",
    "serCorFea"
   ]
  },
  {
   "cell_type": "code",
   "execution_count": 23,
   "id": "cb871857",
   "metadata": {},
   "outputs": [
    {
     "name": "stdout",
     "output_type": "stream",
     "text": [
      "anaemia ( Cat ) : 0.04056502234023351  -  0.04056502234023351 \n",
      "         log1p: nan nan nan nan\n",
      "diabetes ( Cat ) : 0.030200714138686517  -  0.030200714138686517 \n",
      "         log1p: nan nan nan nan\n",
      "high_blood_pressure ( Cat ) : 0.053208016156594595  -  0.053208016156594595 \n",
      "         log1p: nan nan nan nan\n",
      "sex ( Cat ) : 0.008829716375519618  -  0.008829716375519618 \n",
      "         log1p: nan nan nan nan\n",
      "smoking ( Cat ) : -0.013502930910508273  -  0.013502930910508273 \n",
      "         log1p: nan nan nan nan\n",
      "age ( Num ) : 0.22681984868703398  -  0.22681984868703398 \n",
      "         log1p: - -5.0 0.2159810909422658 0.2159810909422658\n",
      "creatinine_phosphokinase ( Num ) : 0.08520413190517025  -  0.08520413190517025 \n",
      "         log1p: - -32.0 0.05781666705109902 0.05781666705109902\n",
      "ejection_fraction ( Num ) : -0.2520997642755393  -  0.2520997642755393 \n",
      "         log1p: + 19.0 -0.29946841764049315 0.29946841764049315\n",
      "platelets ( Num ) : -0.06975556099096998  -  0.06975556099096998 \n",
      "         log1p: + 26.0 -0.08769469251202802 0.08769469251202802\n",
      "serum_creatinine ( Num ) : 0.3122283228479506  -  0.3122283228479506 \n",
      "         log1p: + 15.0 0.359450972526034 0.359450972526034\n",
      "serum_sodium ( Num ) : -0.20300429151528407  -  0.20300429151528407 \n",
      "         log1p: - -0.0 -0.20203230698491842 0.20203230698491842\n",
      "time ( Num ) : -0.5195562071032395  -  0.5195562071032395 \n",
      "         log1p: + 9.0 -0.5675555580324214 0.5675555580324214\n"
     ]
    },
    {
     "data": {
      "text/html": [
       "<div>\n",
       "<style scoped>\n",
       "    .dataframe tbody tr th:only-of-type {\n",
       "        vertical-align: middle;\n",
       "    }\n",
       "\n",
       "    .dataframe tbody tr th {\n",
       "        vertical-align: top;\n",
       "    }\n",
       "\n",
       "    .dataframe thead th {\n",
       "        text-align: right;\n",
       "    }\n",
       "</style>\n",
       "<table border=\"1\" class=\"dataframe\">\n",
       "  <thead>\n",
       "    <tr style=\"text-align: right;\">\n",
       "      <th></th>\n",
       "      <th>FeaTyp</th>\n",
       "      <th>Cor</th>\n",
       "      <th>CorAbs</th>\n",
       "      <th>Log</th>\n",
       "      <th>LogBst</th>\n",
       "      <th>LogCor</th>\n",
       "      <th>LogCorAbs</th>\n",
       "    </tr>\n",
       "  </thead>\n",
       "  <tbody>\n",
       "    <tr>\n",
       "      <th>time</th>\n",
       "      <td>Num</td>\n",
       "      <td>-0.519556</td>\n",
       "      <td>0.519556</td>\n",
       "      <td>+</td>\n",
       "      <td>9.0</td>\n",
       "      <td>-0.567556</td>\n",
       "      <td>0.567556</td>\n",
       "    </tr>\n",
       "    <tr>\n",
       "      <th>serum_creatinine</th>\n",
       "      <td>Num</td>\n",
       "      <td>0.312228</td>\n",
       "      <td>0.312228</td>\n",
       "      <td>+</td>\n",
       "      <td>15.0</td>\n",
       "      <td>0.359451</td>\n",
       "      <td>0.359451</td>\n",
       "    </tr>\n",
       "    <tr>\n",
       "      <th>ejection_fraction</th>\n",
       "      <td>Num</td>\n",
       "      <td>-0.252100</td>\n",
       "      <td>0.252100</td>\n",
       "      <td>+</td>\n",
       "      <td>19.0</td>\n",
       "      <td>-0.299468</td>\n",
       "      <td>0.299468</td>\n",
       "    </tr>\n",
       "    <tr>\n",
       "      <th>age</th>\n",
       "      <td>Num</td>\n",
       "      <td>0.226820</td>\n",
       "      <td>0.226820</td>\n",
       "      <td>-</td>\n",
       "      <td>-5.0</td>\n",
       "      <td>0.215981</td>\n",
       "      <td>0.215981</td>\n",
       "    </tr>\n",
       "    <tr>\n",
       "      <th>serum_sodium</th>\n",
       "      <td>Num</td>\n",
       "      <td>-0.203004</td>\n",
       "      <td>0.203004</td>\n",
       "      <td>-</td>\n",
       "      <td>-0.0</td>\n",
       "      <td>-0.202032</td>\n",
       "      <td>0.202032</td>\n",
       "    </tr>\n",
       "    <tr>\n",
       "      <th>creatinine_phosphokinase</th>\n",
       "      <td>Num</td>\n",
       "      <td>0.085204</td>\n",
       "      <td>0.085204</td>\n",
       "      <td>-</td>\n",
       "      <td>-32.0</td>\n",
       "      <td>0.057817</td>\n",
       "      <td>0.057817</td>\n",
       "    </tr>\n",
       "    <tr>\n",
       "      <th>platelets</th>\n",
       "      <td>Num</td>\n",
       "      <td>-0.069756</td>\n",
       "      <td>0.069756</td>\n",
       "      <td>+</td>\n",
       "      <td>26.0</td>\n",
       "      <td>-0.087695</td>\n",
       "      <td>0.087695</td>\n",
       "    </tr>\n",
       "    <tr>\n",
       "      <th>high_blood_pressure</th>\n",
       "      <td>Cat</td>\n",
       "      <td>0.053208</td>\n",
       "      <td>0.053208</td>\n",
       "      <td>NaN</td>\n",
       "      <td>NaN</td>\n",
       "      <td>NaN</td>\n",
       "      <td>NaN</td>\n",
       "    </tr>\n",
       "    <tr>\n",
       "      <th>anaemia</th>\n",
       "      <td>Cat</td>\n",
       "      <td>0.040565</td>\n",
       "      <td>0.040565</td>\n",
       "      <td>NaN</td>\n",
       "      <td>NaN</td>\n",
       "      <td>NaN</td>\n",
       "      <td>NaN</td>\n",
       "    </tr>\n",
       "    <tr>\n",
       "      <th>diabetes</th>\n",
       "      <td>Cat</td>\n",
       "      <td>0.030201</td>\n",
       "      <td>0.030201</td>\n",
       "      <td>NaN</td>\n",
       "      <td>NaN</td>\n",
       "      <td>NaN</td>\n",
       "      <td>NaN</td>\n",
       "    </tr>\n",
       "    <tr>\n",
       "      <th>smoking</th>\n",
       "      <td>Cat</td>\n",
       "      <td>-0.013503</td>\n",
       "      <td>0.013503</td>\n",
       "      <td>NaN</td>\n",
       "      <td>NaN</td>\n",
       "      <td>NaN</td>\n",
       "      <td>NaN</td>\n",
       "    </tr>\n",
       "    <tr>\n",
       "      <th>sex</th>\n",
       "      <td>Cat</td>\n",
       "      <td>0.008830</td>\n",
       "      <td>0.008830</td>\n",
       "      <td>NaN</td>\n",
       "      <td>NaN</td>\n",
       "      <td>NaN</td>\n",
       "      <td>NaN</td>\n",
       "    </tr>\n",
       "  </tbody>\n",
       "</table>\n",
       "</div>"
      ],
      "text/plain": [
       "                         FeaTyp       Cor    CorAbs  Log  LogBst    LogCor  \\\n",
       "time                        Num -0.519556  0.519556    +     9.0 -0.567556   \n",
       "serum_creatinine            Num  0.312228  0.312228    +    15.0  0.359451   \n",
       "ejection_fraction           Num -0.252100  0.252100    +    19.0 -0.299468   \n",
       "age                         Num  0.226820  0.226820    -    -5.0  0.215981   \n",
       "serum_sodium                Num -0.203004  0.203004    -    -0.0 -0.202032   \n",
       "creatinine_phosphokinase    Num  0.085204  0.085204    -   -32.0  0.057817   \n",
       "platelets                   Num -0.069756  0.069756    +    26.0 -0.087695   \n",
       "high_blood_pressure         Cat  0.053208  0.053208  NaN     NaN       NaN   \n",
       "anaemia                     Cat  0.040565  0.040565  NaN     NaN       NaN   \n",
       "diabetes                    Cat  0.030201  0.030201  NaN     NaN       NaN   \n",
       "smoking                     Cat -0.013503  0.013503  NaN     NaN       NaN   \n",
       "sex                         Cat  0.008830  0.008830  NaN     NaN       NaN   \n",
       "\n",
       "                          LogCorAbs  \n",
       "time                       0.567556  \n",
       "serum_creatinine           0.359451  \n",
       "ejection_fraction          0.299468  \n",
       "age                        0.215981  \n",
       "serum_sodium               0.202032  \n",
       "creatinine_phosphokinase   0.057817  \n",
       "platelets                  0.087695  \n",
       "high_blood_pressure             NaN  \n",
       "anaemia                         NaN  \n",
       "diabetes                        NaN  \n",
       "smoking                         NaN  \n",
       "sex                             NaN  "
      ]
     },
     "execution_count": 23,
     "metadata": {},
     "output_type": "execute_result"
    }
   ],
   "source": [
    "# store the Features in a dataFrame to use later\n",
    "dfrFea = pda.DataFrame(columns=['FeaTyp' , 'Cor' , 'CorAbs' , 'Log' , 'LogBst' , 'LogCor' , 'LogCorAbs'])\n",
    "\n",
    "\n",
    "# for each feature calculate Correlation.\n",
    "# for each numercic feature calculate also the Correlation on the log1p(feature)\n",
    "# mark it \"+\" if log1p(fea) is better and indicate the percentage of improvement\n",
    "for fea in lstFeaCat + lstFeaNum:\n",
    "    \n",
    "    floCor = dfrTraFul[[ fea] ].corrwith(dfrTraFul[strTar])[0]\n",
    "    \n",
    "    if fea in lstFeaCat:\n",
    "        feaTyp = 'Cat'\n",
    "        floCorLog = npy.nan\n",
    "        LogBst = npy.nan\n",
    "        floBst = npy.nan\n",
    "    else:\n",
    "        feaTyp = 'Num'\n",
    "        floCorLog = npy.log1p(dfrTraFul[ [fea] ] ).corrwith(dfrTraFul[strTar])[0]\n",
    "        # log1p better?\n",
    "        if abs(floCor) < abs(floCorLog):\n",
    "            LogBst = '+'\n",
    "            floBst = ( abs(floCorLog) - abs(floCor) ) / abs(floCor) \n",
    "        else:\n",
    "            LogBst = '-'\n",
    "            floBst = ( abs(floCorLog) - abs(floCor) ) / abs(floCor) \n",
    "    \n",
    "    print(fea , '(', feaTyp , ') :' , floCor , ' - ' , abs(floCor) , \n",
    "           '\\n         log1p:' ,  LogBst , round(floBst,2)*100 , floCorLog , abs(floCorLog) )\n",
    "    \n",
    "    dfrFea.loc[fea] = [ feaTyp, floCor , abs(floCor) , LogBst , round(floBst,2)*100 , floCorLog , abs(floCorLog) ]\n",
    "\n",
    "dfrFea.sort_values(by='CorAbs' , ascending=False)   "
   ]
  },
  {
   "cell_type": "code",
   "execution_count": 24,
   "id": "e42ce67c",
   "metadata": {
    "scrolled": true
   },
   "outputs": [
    {
     "data": {
      "text/plain": [
       "['anaemia',\n",
       " 'diabetes',\n",
       " 'high_blood_pressure',\n",
       " 'sex',\n",
       " 'smoking',\n",
       " 'age',\n",
       " 'creatinine_phosphokinase',\n",
       " 'ejection_fraction',\n",
       " 'platelets',\n",
       " 'serum_creatinine',\n",
       " 'serum_sodium',\n",
       " 'time']"
      ]
     },
     "execution_count": 24,
     "metadata": {},
     "output_type": "execute_result"
    }
   ],
   "source": [
    "# List of all features\n",
    "dfrFea.index.values.tolist()"
   ]
  },
  {
   "cell_type": "code",
   "execution_count": 25,
   "id": "cc962511",
   "metadata": {},
   "outputs": [
    {
     "data": {
      "text/plain": [
       "['time',\n",
       " 'serum_creatinine',\n",
       " 'ejection_fraction',\n",
       " 'age',\n",
       " 'serum_sodium',\n",
       " 'creatinine_phosphokinase',\n",
       " 'platelets',\n",
       " 'high_blood_pressure',\n",
       " 'anaemia',\n",
       " 'diabetes',\n",
       " 'smoking',\n",
       " 'sex']"
      ]
     },
     "execution_count": 25,
     "metadata": {},
     "output_type": "execute_result"
    }
   ],
   "source": [
    "# List of all features sorted by Abs of correlation to death\n",
    "dfrFea.sort_values(by='CorAbs' , ascending=False).index.values.tolist()"
   ]
  },
  {
   "cell_type": "code",
   "execution_count": 26,
   "id": "7cd9690a",
   "metadata": {},
   "outputs": [
    {
     "data": {
      "text/plain": [
       "['high_blood_pressure', 'anaemia', 'diabetes', 'smoking', 'sex']"
      ]
     },
     "execution_count": 26,
     "metadata": {},
     "output_type": "execute_result"
    }
   ],
   "source": [
    "# List of all Categorical features sorted by Abs of correlation to death\n",
    "dfrFea[dfrFea.FeaTyp == 'Cat'].sort_values(by='CorAbs' , ascending=False).index.values.tolist()"
   ]
  },
  {
   "cell_type": "code",
   "execution_count": 27,
   "id": "028f80e7",
   "metadata": {},
   "outputs": [
    {
     "data": {
      "text/plain": [
       "['time',\n",
       " 'serum_creatinine',\n",
       " 'ejection_fraction',\n",
       " 'age',\n",
       " 'serum_sodium',\n",
       " 'creatinine_phosphokinase',\n",
       " 'platelets']"
      ]
     },
     "execution_count": 27,
     "metadata": {},
     "output_type": "execute_result"
    }
   ],
   "source": [
    "# List of all Numerical features sorted by Abs of correlation to death\n",
    "dfrFea[dfrFea.FeaTyp == 'Num'].sort_values(by='CorAbs' , ascending=False).index.values.tolist()"
   ]
  },
  {
   "cell_type": "markdown",
   "id": "f559be12",
   "metadata": {},
   "source": [
    "# ROC AUC of all Features"
   ]
  },
  {
   "cell_type": "code",
   "execution_count": 28,
   "id": "79464888",
   "metadata": {},
   "outputs": [
    {
     "name": "stdout",
     "output_type": "stream",
     "text": [
      "anaemia  floAuc= 0.5212443684946404\n",
      "diabetes  floAuc= 0.5156905390709958\n",
      "high_blood_pressure  floAuc= 0.5266040080782973\n",
      "sex  floAuc= 0.5044275283517167\n",
      "smoking  floAuc= 0.49347522137641764\n",
      "         ! <0.5 => -floAuc= 0.5065247786235825\n",
      "age  floAuc= 0.6160090104085754\n",
      "creatinine_phosphokinase  floAuc= 0.5262933043343172\n",
      "ejection_fraction  floAuc= 0.33622028895448186\n",
      "         ! <0.5 => -floAuc= 0.6637797110455181\n",
      "platelets  floAuc= 0.4557247164828337\n",
      "         ! <0.5 => -floAuc= 0.5442752835171664\n",
      "serum_creatinine  floAuc= 0.7251825384495884\n",
      "serum_sodium  floAuc= 0.3577753611931024\n",
      "         ! <0.5 => -floAuc= 0.6422246388068976\n",
      "time  floAuc= 0.1726736057169489\n",
      "         ! <0.5 => -floAuc= 0.8273263942830511\n"
     ]
    },
    {
     "data": {
      "text/html": [
       "<div>\n",
       "<style scoped>\n",
       "    .dataframe tbody tr th:only-of-type {\n",
       "        vertical-align: middle;\n",
       "    }\n",
       "\n",
       "    .dataframe tbody tr th {\n",
       "        vertical-align: top;\n",
       "    }\n",
       "\n",
       "    .dataframe thead th {\n",
       "        text-align: right;\n",
       "    }\n",
       "</style>\n",
       "<table border=\"1\" class=\"dataframe\">\n",
       "  <thead>\n",
       "    <tr style=\"text-align: right;\">\n",
       "      <th></th>\n",
       "      <th>Auc</th>\n",
       "    </tr>\n",
       "  </thead>\n",
       "  <tbody>\n",
       "    <tr>\n",
       "      <th>time</th>\n",
       "      <td>0.827326</td>\n",
       "    </tr>\n",
       "    <tr>\n",
       "      <th>serum_creatinine</th>\n",
       "      <td>0.725183</td>\n",
       "    </tr>\n",
       "    <tr>\n",
       "      <th>ejection_fraction</th>\n",
       "      <td>0.663780</td>\n",
       "    </tr>\n",
       "    <tr>\n",
       "      <th>serum_sodium</th>\n",
       "      <td>0.642225</td>\n",
       "    </tr>\n",
       "    <tr>\n",
       "      <th>age</th>\n",
       "      <td>0.616009</td>\n",
       "    </tr>\n",
       "    <tr>\n",
       "      <th>platelets</th>\n",
       "      <td>0.544275</td>\n",
       "    </tr>\n",
       "    <tr>\n",
       "      <th>high_blood_pressure</th>\n",
       "      <td>0.526604</td>\n",
       "    </tr>\n",
       "    <tr>\n",
       "      <th>creatinine_phosphokinase</th>\n",
       "      <td>0.526293</td>\n",
       "    </tr>\n",
       "    <tr>\n",
       "      <th>anaemia</th>\n",
       "      <td>0.521244</td>\n",
       "    </tr>\n",
       "    <tr>\n",
       "      <th>diabetes</th>\n",
       "      <td>0.515691</td>\n",
       "    </tr>\n",
       "    <tr>\n",
       "      <th>smoking</th>\n",
       "      <td>0.506525</td>\n",
       "    </tr>\n",
       "    <tr>\n",
       "      <th>sex</th>\n",
       "      <td>0.504428</td>\n",
       "    </tr>\n",
       "  </tbody>\n",
       "</table>\n",
       "</div>"
      ],
      "text/plain": [
       "                               Auc\n",
       "time                      0.827326\n",
       "serum_creatinine          0.725183\n",
       "ejection_fraction         0.663780\n",
       "serum_sodium              0.642225\n",
       "age                       0.616009\n",
       "platelets                 0.544275\n",
       "high_blood_pressure       0.526604\n",
       "creatinine_phosphokinase  0.526293\n",
       "anaemia                   0.521244\n",
       "diabetes                  0.515691\n",
       "smoking                   0.506525\n",
       "sex                       0.504428"
      ]
     },
     "execution_count": 28,
     "metadata": {},
     "output_type": "execute_result"
    }
   ],
   "source": [
    "# Dataframe to save result index=column name\n",
    "dfrAuc = pda.DataFrame(columns=[ 'Auc'])\n",
    "\n",
    "# ROC for each Num Col\n",
    "#for fea in dfrFea[dfrFea.FeaTyp == 'Num'].index.values.tolist():\n",
    "for fea in dfrFea.index.values.tolist():\n",
    "\n",
    "    floAuc = roc_auc_score(y_TraFul, dfrTraFul[fea])\n",
    "    print( fea ,' floAuc=' , floAuc)\n",
    "    \n",
    "    if floAuc < 0.5:\n",
    "        floAuc = roc_auc_score(y_TraFul, -dfrTraFul[fea])\n",
    "        print('         ! <0.5 => -floAuc=' , floAuc)\n",
    "    \n",
    "    dfrAuc.loc[fea] = [ floAuc ]\n",
    "    \n",
    "dfrAuc.sort_values(by='Auc' , ascending=False)"
   ]
  },
  {
   "cell_type": "code",
   "execution_count": 29,
   "id": "7a6f8350",
   "metadata": {},
   "outputs": [],
   "source": [
    "dfrFea = dfrFea.join(dfrAuc)"
   ]
  },
  {
   "cell_type": "code",
   "execution_count": 30,
   "id": "e9cd191b",
   "metadata": {},
   "outputs": [
    {
     "data": {
      "text/html": [
       "<div>\n",
       "<style scoped>\n",
       "    .dataframe tbody tr th:only-of-type {\n",
       "        vertical-align: middle;\n",
       "    }\n",
       "\n",
       "    .dataframe tbody tr th {\n",
       "        vertical-align: top;\n",
       "    }\n",
       "\n",
       "    .dataframe thead th {\n",
       "        text-align: right;\n",
       "    }\n",
       "</style>\n",
       "<table border=\"1\" class=\"dataframe\">\n",
       "  <thead>\n",
       "    <tr style=\"text-align: right;\">\n",
       "      <th></th>\n",
       "      <th>FeaTyp</th>\n",
       "      <th>Cor</th>\n",
       "      <th>CorAbs</th>\n",
       "      <th>Log</th>\n",
       "      <th>LogBst</th>\n",
       "      <th>LogCor</th>\n",
       "      <th>LogCorAbs</th>\n",
       "      <th>Auc</th>\n",
       "    </tr>\n",
       "  </thead>\n",
       "  <tbody>\n",
       "    <tr>\n",
       "      <th>time</th>\n",
       "      <td>Num</td>\n",
       "      <td>-0.519556</td>\n",
       "      <td>0.519556</td>\n",
       "      <td>+</td>\n",
       "      <td>9.0</td>\n",
       "      <td>-0.567556</td>\n",
       "      <td>0.567556</td>\n",
       "      <td>0.827326</td>\n",
       "    </tr>\n",
       "    <tr>\n",
       "      <th>serum_creatinine</th>\n",
       "      <td>Num</td>\n",
       "      <td>0.312228</td>\n",
       "      <td>0.312228</td>\n",
       "      <td>+</td>\n",
       "      <td>15.0</td>\n",
       "      <td>0.359451</td>\n",
       "      <td>0.359451</td>\n",
       "      <td>0.725183</td>\n",
       "    </tr>\n",
       "    <tr>\n",
       "      <th>ejection_fraction</th>\n",
       "      <td>Num</td>\n",
       "      <td>-0.252100</td>\n",
       "      <td>0.252100</td>\n",
       "      <td>+</td>\n",
       "      <td>19.0</td>\n",
       "      <td>-0.299468</td>\n",
       "      <td>0.299468</td>\n",
       "      <td>0.663780</td>\n",
       "    </tr>\n",
       "    <tr>\n",
       "      <th>serum_sodium</th>\n",
       "      <td>Num</td>\n",
       "      <td>-0.203004</td>\n",
       "      <td>0.203004</td>\n",
       "      <td>-</td>\n",
       "      <td>-0.0</td>\n",
       "      <td>-0.202032</td>\n",
       "      <td>0.202032</td>\n",
       "      <td>0.642225</td>\n",
       "    </tr>\n",
       "    <tr>\n",
       "      <th>age</th>\n",
       "      <td>Num</td>\n",
       "      <td>0.226820</td>\n",
       "      <td>0.226820</td>\n",
       "      <td>-</td>\n",
       "      <td>-5.0</td>\n",
       "      <td>0.215981</td>\n",
       "      <td>0.215981</td>\n",
       "      <td>0.616009</td>\n",
       "    </tr>\n",
       "    <tr>\n",
       "      <th>platelets</th>\n",
       "      <td>Num</td>\n",
       "      <td>-0.069756</td>\n",
       "      <td>0.069756</td>\n",
       "      <td>+</td>\n",
       "      <td>26.0</td>\n",
       "      <td>-0.087695</td>\n",
       "      <td>0.087695</td>\n",
       "      <td>0.544275</td>\n",
       "    </tr>\n",
       "    <tr>\n",
       "      <th>high_blood_pressure</th>\n",
       "      <td>Cat</td>\n",
       "      <td>0.053208</td>\n",
       "      <td>0.053208</td>\n",
       "      <td>NaN</td>\n",
       "      <td>NaN</td>\n",
       "      <td>NaN</td>\n",
       "      <td>NaN</td>\n",
       "      <td>0.526604</td>\n",
       "    </tr>\n",
       "    <tr>\n",
       "      <th>creatinine_phosphokinase</th>\n",
       "      <td>Num</td>\n",
       "      <td>0.085204</td>\n",
       "      <td>0.085204</td>\n",
       "      <td>-</td>\n",
       "      <td>-32.0</td>\n",
       "      <td>0.057817</td>\n",
       "      <td>0.057817</td>\n",
       "      <td>0.526293</td>\n",
       "    </tr>\n",
       "    <tr>\n",
       "      <th>anaemia</th>\n",
       "      <td>Cat</td>\n",
       "      <td>0.040565</td>\n",
       "      <td>0.040565</td>\n",
       "      <td>NaN</td>\n",
       "      <td>NaN</td>\n",
       "      <td>NaN</td>\n",
       "      <td>NaN</td>\n",
       "      <td>0.521244</td>\n",
       "    </tr>\n",
       "    <tr>\n",
       "      <th>diabetes</th>\n",
       "      <td>Cat</td>\n",
       "      <td>0.030201</td>\n",
       "      <td>0.030201</td>\n",
       "      <td>NaN</td>\n",
       "      <td>NaN</td>\n",
       "      <td>NaN</td>\n",
       "      <td>NaN</td>\n",
       "      <td>0.515691</td>\n",
       "    </tr>\n",
       "    <tr>\n",
       "      <th>smoking</th>\n",
       "      <td>Cat</td>\n",
       "      <td>-0.013503</td>\n",
       "      <td>0.013503</td>\n",
       "      <td>NaN</td>\n",
       "      <td>NaN</td>\n",
       "      <td>NaN</td>\n",
       "      <td>NaN</td>\n",
       "      <td>0.506525</td>\n",
       "    </tr>\n",
       "    <tr>\n",
       "      <th>sex</th>\n",
       "      <td>Cat</td>\n",
       "      <td>0.008830</td>\n",
       "      <td>0.008830</td>\n",
       "      <td>NaN</td>\n",
       "      <td>NaN</td>\n",
       "      <td>NaN</td>\n",
       "      <td>NaN</td>\n",
       "      <td>0.504428</td>\n",
       "    </tr>\n",
       "  </tbody>\n",
       "</table>\n",
       "</div>"
      ],
      "text/plain": [
       "                         FeaTyp       Cor    CorAbs  Log  LogBst    LogCor  \\\n",
       "time                        Num -0.519556  0.519556    +     9.0 -0.567556   \n",
       "serum_creatinine            Num  0.312228  0.312228    +    15.0  0.359451   \n",
       "ejection_fraction           Num -0.252100  0.252100    +    19.0 -0.299468   \n",
       "serum_sodium                Num -0.203004  0.203004    -    -0.0 -0.202032   \n",
       "age                         Num  0.226820  0.226820    -    -5.0  0.215981   \n",
       "platelets                   Num -0.069756  0.069756    +    26.0 -0.087695   \n",
       "high_blood_pressure         Cat  0.053208  0.053208  NaN     NaN       NaN   \n",
       "creatinine_phosphokinase    Num  0.085204  0.085204    -   -32.0  0.057817   \n",
       "anaemia                     Cat  0.040565  0.040565  NaN     NaN       NaN   \n",
       "diabetes                    Cat  0.030201  0.030201  NaN     NaN       NaN   \n",
       "smoking                     Cat -0.013503  0.013503  NaN     NaN       NaN   \n",
       "sex                         Cat  0.008830  0.008830  NaN     NaN       NaN   \n",
       "\n",
       "                          LogCorAbs       Auc  \n",
       "time                       0.567556  0.827326  \n",
       "serum_creatinine           0.359451  0.725183  \n",
       "ejection_fraction          0.299468  0.663780  \n",
       "serum_sodium               0.202032  0.642225  \n",
       "age                        0.215981  0.616009  \n",
       "platelets                  0.087695  0.544275  \n",
       "high_blood_pressure             NaN  0.526604  \n",
       "creatinine_phosphokinase   0.057817  0.526293  \n",
       "anaemia                         NaN  0.521244  \n",
       "diabetes                        NaN  0.515691  \n",
       "smoking                         NaN  0.506525  \n",
       "sex                             NaN  0.504428  "
      ]
     },
     "execution_count": 30,
     "metadata": {},
     "output_type": "execute_result"
    }
   ],
   "source": [
    "dfrFea.sort_values(by='Auc' , ascending=False)"
   ]
  },
  {
   "cell_type": "markdown",
   "id": "6527088a",
   "metadata": {},
   "source": [
    "## Saving object for next notebooks (\\\\pickle)"
   ]
  },
  {
   "cell_type": "code",
   "execution_count": 31,
   "id": "f7b073ed",
   "metadata": {},
   "outputs": [],
   "source": [
    "strFil = '.\\pickle\\dfrFea.bin'\n",
    "with open(strFil, 'wb') as filOut: \n",
    "    pickle.dump(dfrFea, filOut)"
   ]
  }
 ],
 "metadata": {
  "celltoolbar": "Raw Cell Format",
  "kernelspec": {
   "display_name": "Python 3 (ipykernel)",
   "language": "python",
   "name": "python3"
  },
  "language_info": {
   "codemirror_mode": {
    "name": "ipython",
    "version": 3
   },
   "file_extension": ".py",
   "mimetype": "text/x-python",
   "name": "python",
   "nbconvert_exporter": "python",
   "pygments_lexer": "ipython3",
   "version": "3.9.11"
  }
 },
 "nbformat": 4,
 "nbformat_minor": 5
}
