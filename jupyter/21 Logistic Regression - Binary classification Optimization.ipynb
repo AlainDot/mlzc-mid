{
 "cells": [
  {
   "cell_type": "markdown",
   "id": "5ace2bc5",
   "metadata": {},
   "source": [
    "### <center>MLZC Mid-Term project - Q4/2022<img align=\"right\" width=\"60\" height=\"60\" src=\"../media/heart.png\">"
   ]
  },
  {
   "cell_type": "markdown",
   "id": "14dfe89b",
   "metadata": {},
   "source": [
    "# 21 Logistic Regression - Binary classification Optimization"
   ]
  },
  {
   "cell_type": "code",
   "execution_count": 1,
   "id": "09d78c2e",
   "metadata": {},
   "outputs": [
    {
     "data": {
      "text/plain": [
       "('1.23.4', '1.5.1')"
      ]
     },
     "execution_count": 1,
     "metadata": {},
     "output_type": "execute_result"
    }
   ],
   "source": [
    "import pandas as pda\n",
    "import numpy as npy\n",
    "\n",
    "npy.__version__ , pda.__version__"
   ]
  },
  {
   "cell_type": "code",
   "execution_count": 2,
   "id": "e00371a9",
   "metadata": {},
   "outputs": [],
   "source": [
    "import pickle\n",
    "from IPython.display import display"
   ]
  },
  {
   "cell_type": "code",
   "execution_count": 3,
   "id": "35d5cd27",
   "metadata": {
    "scrolled": true
   },
   "outputs": [
    {
     "data": {
      "text/plain": [
       "'0.12.1'"
      ]
     },
     "execution_count": 3,
     "metadata": {},
     "output_type": "execute_result"
    }
   ],
   "source": [
    "import matplotlib.pyplot as plt\n",
    "import seaborn as sns\n",
    "\n",
    "%matplotlib inline\n",
    "sns.__version__ "
   ]
  },
  {
   "cell_type": "code",
   "execution_count": 4,
   "id": "e9b8d20d",
   "metadata": {},
   "outputs": [],
   "source": [
    "from sklearn.feature_extraction import DictVectorizer\n",
    "from sklearn.linear_model import LogisticRegression\n",
    "from sklearn.metrics import mean_squared_error\n",
    "from sklearn.metrics import roc_auc_score\n",
    "\n",
    "from sklearn.preprocessing import StandardScaler\n",
    "from sklearn.preprocessing import MinMaxScaler\n",
    "from sklearn.preprocessing import OneHotEncoder\n",
    "from sklearn.model_selection import KFold"
   ]
  },
  {
   "cell_type": "markdown",
   "id": "2753bb6b",
   "metadata": {},
   "source": [
    "#### Reload data from previous notebooks"
   ]
  },
  {
   "cell_type": "code",
   "execution_count": 5,
   "id": "7702daa0",
   "metadata": {},
   "outputs": [
    {
     "data": {
      "text/plain": [
       "((239, 13), 239)"
      ]
     },
     "execution_count": 5,
     "metadata": {},
     "output_type": "execute_result"
    }
   ],
   "source": [
    "# use TRAin FULL dataset\n",
    "strFil = '.\\pickle\\dstTraFul.bin'\n",
    "with open(strFil, 'rb') as filIn: \n",
    "    dfrTraFul, y_TraFul = pickle.load(filIn)\n",
    "dfrTraFul.shape , len(y_TraFul)"
   ]
  },
  {
   "cell_type": "code",
   "execution_count": 6,
   "id": "23cac446",
   "metadata": {},
   "outputs": [
    {
     "data": {
      "text/plain": [
       "((179, 12), 179)"
      ]
     },
     "execution_count": 6,
     "metadata": {},
     "output_type": "execute_result"
    }
   ],
   "source": [
    "# use TRAin dataset\n",
    "strFil = '.\\pickle\\dstTra.bin'\n",
    "with open(strFil, 'rb') as filIn: \n",
    "    dfrTra, y_Tra = pickle.load(filIn)\n",
    "dfrTra.shape , len(y_Tra)"
   ]
  },
  {
   "cell_type": "code",
   "execution_count": 7,
   "id": "7357644c",
   "metadata": {},
   "outputs": [
    {
     "data": {
      "text/plain": [
       "((60, 12), 60)"
      ]
     },
     "execution_count": 7,
     "metadata": {},
     "output_type": "execute_result"
    }
   ],
   "source": [
    "# use Tst dataset\n",
    "strFil = '.\\pickle\\dstTst.bin'\n",
    "with open(strFil, 'rb') as filIn: \n",
    "    dfrTst, y_Tst = pickle.load(filIn)\n",
    "dfrTst.shape , len(y_Tst)"
   ]
  },
  {
   "cell_type": "code",
   "execution_count": 8,
   "id": "046e2ad9",
   "metadata": {},
   "outputs": [
    {
     "data": {
      "text/plain": [
       "((60, 12), 60)"
      ]
     },
     "execution_count": 8,
     "metadata": {},
     "output_type": "execute_result"
    }
   ],
   "source": [
    "# check wil VALidation dataset\n",
    "strFil = '.\\pickle\\dstVal.bin'\n",
    "with open(strFil, 'rb') as filIn: \n",
    "    dfrVal, y_Val = pickle.load(filIn)\n",
    "dfrVal.shape , len(y_Val)"
   ]
  },
  {
   "cell_type": "code",
   "execution_count": 9,
   "id": "69fbd76e",
   "metadata": {},
   "outputs": [
    {
     "data": {
      "text/plain": [
       "'death_event'"
      ]
     },
     "execution_count": 9,
     "metadata": {},
     "output_type": "execute_result"
    }
   ],
   "source": [
    "strFil = '.\\pickle\\strTar.bin'\n",
    "with open(strFil, 'rb') as filIn: \n",
    "    strTar = pickle.load(filIn)\n",
    "strTar"
   ]
  },
  {
   "cell_type": "code",
   "execution_count": 10,
   "id": "7e13ff95",
   "metadata": {},
   "outputs": [
    {
     "data": {
      "text/html": [
       "<div>\n",
       "<style scoped>\n",
       "    .dataframe tbody tr th:only-of-type {\n",
       "        vertical-align: middle;\n",
       "    }\n",
       "\n",
       "    .dataframe tbody tr th {\n",
       "        vertical-align: top;\n",
       "    }\n",
       "\n",
       "    .dataframe thead th {\n",
       "        text-align: right;\n",
       "    }\n",
       "</style>\n",
       "<table border=\"1\" class=\"dataframe\">\n",
       "  <thead>\n",
       "    <tr style=\"text-align: right;\">\n",
       "      <th></th>\n",
       "      <th>FeaTyp</th>\n",
       "      <th>Cor</th>\n",
       "      <th>CorAbs</th>\n",
       "      <th>Log</th>\n",
       "      <th>LogBst</th>\n",
       "      <th>LogCor</th>\n",
       "      <th>LogCorAbs</th>\n",
       "      <th>Auc</th>\n",
       "    </tr>\n",
       "  </thead>\n",
       "  <tbody>\n",
       "    <tr>\n",
       "      <th>anaemia</th>\n",
       "      <td>Cat</td>\n",
       "      <td>0.040565</td>\n",
       "      <td>0.040565</td>\n",
       "      <td>NaN</td>\n",
       "      <td>NaN</td>\n",
       "      <td>NaN</td>\n",
       "      <td>NaN</td>\n",
       "      <td>0.521244</td>\n",
       "    </tr>\n",
       "    <tr>\n",
       "      <th>diabetes</th>\n",
       "      <td>Cat</td>\n",
       "      <td>0.030201</td>\n",
       "      <td>0.030201</td>\n",
       "      <td>NaN</td>\n",
       "      <td>NaN</td>\n",
       "      <td>NaN</td>\n",
       "      <td>NaN</td>\n",
       "      <td>0.515691</td>\n",
       "    </tr>\n",
       "    <tr>\n",
       "      <th>high_blood_pressure</th>\n",
       "      <td>Cat</td>\n",
       "      <td>0.053208</td>\n",
       "      <td>0.053208</td>\n",
       "      <td>NaN</td>\n",
       "      <td>NaN</td>\n",
       "      <td>NaN</td>\n",
       "      <td>NaN</td>\n",
       "      <td>0.526604</td>\n",
       "    </tr>\n",
       "    <tr>\n",
       "      <th>sex</th>\n",
       "      <td>Cat</td>\n",
       "      <td>0.008830</td>\n",
       "      <td>0.008830</td>\n",
       "      <td>NaN</td>\n",
       "      <td>NaN</td>\n",
       "      <td>NaN</td>\n",
       "      <td>NaN</td>\n",
       "      <td>0.504428</td>\n",
       "    </tr>\n",
       "    <tr>\n",
       "      <th>smoking</th>\n",
       "      <td>Cat</td>\n",
       "      <td>-0.013503</td>\n",
       "      <td>0.013503</td>\n",
       "      <td>NaN</td>\n",
       "      <td>NaN</td>\n",
       "      <td>NaN</td>\n",
       "      <td>NaN</td>\n",
       "      <td>0.506525</td>\n",
       "    </tr>\n",
       "    <tr>\n",
       "      <th>age</th>\n",
       "      <td>Num</td>\n",
       "      <td>0.226820</td>\n",
       "      <td>0.226820</td>\n",
       "      <td>-</td>\n",
       "      <td>-5.0</td>\n",
       "      <td>0.215981</td>\n",
       "      <td>0.215981</td>\n",
       "      <td>0.616009</td>\n",
       "    </tr>\n",
       "    <tr>\n",
       "      <th>creatinine_phosphokinase</th>\n",
       "      <td>Num</td>\n",
       "      <td>0.085204</td>\n",
       "      <td>0.085204</td>\n",
       "      <td>-</td>\n",
       "      <td>-32.0</td>\n",
       "      <td>0.057817</td>\n",
       "      <td>0.057817</td>\n",
       "      <td>0.526293</td>\n",
       "    </tr>\n",
       "    <tr>\n",
       "      <th>ejection_fraction</th>\n",
       "      <td>Num</td>\n",
       "      <td>-0.252100</td>\n",
       "      <td>0.252100</td>\n",
       "      <td>+</td>\n",
       "      <td>19.0</td>\n",
       "      <td>-0.299468</td>\n",
       "      <td>0.299468</td>\n",
       "      <td>0.663780</td>\n",
       "    </tr>\n",
       "    <tr>\n",
       "      <th>platelets</th>\n",
       "      <td>Num</td>\n",
       "      <td>-0.069756</td>\n",
       "      <td>0.069756</td>\n",
       "      <td>+</td>\n",
       "      <td>26.0</td>\n",
       "      <td>-0.087695</td>\n",
       "      <td>0.087695</td>\n",
       "      <td>0.544275</td>\n",
       "    </tr>\n",
       "    <tr>\n",
       "      <th>serum_creatinine</th>\n",
       "      <td>Num</td>\n",
       "      <td>0.312228</td>\n",
       "      <td>0.312228</td>\n",
       "      <td>+</td>\n",
       "      <td>15.0</td>\n",
       "      <td>0.359451</td>\n",
       "      <td>0.359451</td>\n",
       "      <td>0.725183</td>\n",
       "    </tr>\n",
       "    <tr>\n",
       "      <th>serum_sodium</th>\n",
       "      <td>Num</td>\n",
       "      <td>-0.203004</td>\n",
       "      <td>0.203004</td>\n",
       "      <td>-</td>\n",
       "      <td>-0.0</td>\n",
       "      <td>-0.202032</td>\n",
       "      <td>0.202032</td>\n",
       "      <td>0.642225</td>\n",
       "    </tr>\n",
       "    <tr>\n",
       "      <th>time</th>\n",
       "      <td>Num</td>\n",
       "      <td>-0.519556</td>\n",
       "      <td>0.519556</td>\n",
       "      <td>+</td>\n",
       "      <td>9.0</td>\n",
       "      <td>-0.567556</td>\n",
       "      <td>0.567556</td>\n",
       "      <td>0.827326</td>\n",
       "    </tr>\n",
       "  </tbody>\n",
       "</table>\n",
       "</div>"
      ],
      "text/plain": [
       "                         FeaTyp       Cor    CorAbs  Log  LogBst    LogCor  \\\n",
       "anaemia                     Cat  0.040565  0.040565  NaN     NaN       NaN   \n",
       "diabetes                    Cat  0.030201  0.030201  NaN     NaN       NaN   \n",
       "high_blood_pressure         Cat  0.053208  0.053208  NaN     NaN       NaN   \n",
       "sex                         Cat  0.008830  0.008830  NaN     NaN       NaN   \n",
       "smoking                     Cat -0.013503  0.013503  NaN     NaN       NaN   \n",
       "age                         Num  0.226820  0.226820    -    -5.0  0.215981   \n",
       "creatinine_phosphokinase    Num  0.085204  0.085204    -   -32.0  0.057817   \n",
       "ejection_fraction           Num -0.252100  0.252100    +    19.0 -0.299468   \n",
       "platelets                   Num -0.069756  0.069756    +    26.0 -0.087695   \n",
       "serum_creatinine            Num  0.312228  0.312228    +    15.0  0.359451   \n",
       "serum_sodium                Num -0.203004  0.203004    -    -0.0 -0.202032   \n",
       "time                        Num -0.519556  0.519556    +     9.0 -0.567556   \n",
       "\n",
       "                          LogCorAbs       Auc  \n",
       "anaemia                         NaN  0.521244  \n",
       "diabetes                        NaN  0.515691  \n",
       "high_blood_pressure             NaN  0.526604  \n",
       "sex                             NaN  0.504428  \n",
       "smoking                         NaN  0.506525  \n",
       "age                        0.215981  0.616009  \n",
       "creatinine_phosphokinase   0.057817  0.526293  \n",
       "ejection_fraction          0.299468  0.663780  \n",
       "platelets                  0.087695  0.544275  \n",
       "serum_creatinine           0.359451  0.725183  \n",
       "serum_sodium               0.202032  0.642225  \n",
       "time                       0.567556  0.827326  "
      ]
     },
     "execution_count": 10,
     "metadata": {},
     "output_type": "execute_result"
    }
   ],
   "source": [
    "strFil = '.\\pickle\\dfrFea.bin'\n",
    "with open(strFil, 'rb') as filIn: \n",
    "    dfrFea = pickle.load(filIn)\n",
    "dfrFea"
   ]
  },
  {
   "cell_type": "markdown",
   "id": "e1d6d016",
   "metadata": {},
   "source": [
    "# Logistic Regression - Test 3 Solvers"
   ]
  },
  {
   "cell_type": "code",
   "execution_count": 11,
   "id": "1ca04cbc",
   "metadata": {},
   "outputs": [
    {
     "name": "stderr",
     "output_type": "stream",
     "text": [
      "C:\\Users\\alain\\.virtualenvs\\mlzc-mid-xr52rCJ4\\lib\\site-packages\\scipy\\optimize\\_linesearch.py:456: LineSearchWarning: The line search algorithm did not converge\n",
      "  warn('The line search algorithm did not converge', LineSearchWarning)\n",
      "C:\\Users\\alain\\.virtualenvs\\mlzc-mid-xr52rCJ4\\lib\\site-packages\\scipy\\optimize\\_linesearch.py:305: LineSearchWarning: The line search algorithm did not converge\n",
      "  warn('The line search algorithm did not converge', LineSearchWarning)\n",
      "C:\\Users\\alain\\.virtualenvs\\mlzc-mid-xr52rCJ4\\lib\\site-packages\\scipy\\optimize\\_linesearch.py:415: LineSearchWarning: Rounding errors prevent the line search from converging\n",
      "  warn(msg, LineSearchWarning)\n",
      "C:\\Users\\alain\\.virtualenvs\\mlzc-mid-xr52rCJ4\\lib\\site-packages\\sklearn\\utils\\optimize.py:203: UserWarning: Line Search failed\n",
      "  warnings.warn(\"Line Search failed\")\n"
     ]
    },
    {
     "data": {
      "text/plain": [
       "(0.15986, 0.39983, 0.84254)"
      ]
     },
     "execution_count": 11,
     "metadata": {},
     "output_type": "execute_result"
    }
   ],
   "source": [
    "dvt = DictVectorizer(sparse=False)\n",
    "dicTra = dfrTra.to_dict(orient='records')\n",
    "X_Tra = dvt.fit_transform(dicTra)\n",
    "\n",
    "dicVal = dfrVal.to_dict(orient='records')\n",
    "X_Val = dvt.transform(dicVal)\n",
    "\n",
    "modLoR = LogisticRegression(solver='newton-cg', C=1.0, max_iter=1000, random_state=1)\n",
    "modLoR.fit(X_Tra, y_Tra)\n",
    "\n",
    "y_prdVal = modLoR.predict_proba(X_Val)[:,1]\n",
    "\n",
    "floMse = mean_squared_error(y_Val, y_prdVal) \n",
    "floRms = npy.sqrt(floMse)\n",
    "floAuc = roc_auc_score(y_Val, y_prdVal)\n",
    "floMse.round(5) , floRms.round(5) , floAuc.round(5)"
   ]
  },
  {
   "cell_type": "code",
   "execution_count": 12,
   "id": "d9175ea1",
   "metadata": {},
   "outputs": [
    {
     "data": {
      "text/plain": [
       "(0.15762, 0.39701, 0.83196)"
      ]
     },
     "execution_count": 12,
     "metadata": {},
     "output_type": "execute_result"
    }
   ],
   "source": [
    "dvt = DictVectorizer(sparse=False)\n",
    "dicTra = dfrTra.to_dict(orient='records')\n",
    "X_Tra = dvt.fit_transform(dicTra)\n",
    "\n",
    "dicVal = dfrVal.to_dict(orient='records')\n",
    "X_Val = dvt.transform(dicVal)\n",
    "\n",
    "modLoR = LogisticRegression(solver='lbfgs', C=1.0, max_iter=1000, random_state=1)\n",
    "modLoR.fit(X_Tra, y_Tra)\n",
    "\n",
    "y_prdVal = modLoR.predict_proba(X_Val)[:,1]\n",
    "\n",
    "floMse = mean_squared_error(y_Val, y_prdVal) \n",
    "floRms = npy.sqrt(floMse)\n",
    "floAuc = roc_auc_score(y_Val, y_prdVal)\n",
    "floMse.round(5) , floRms.round(5) , floAuc.round(5)"
   ]
  },
  {
   "cell_type": "code",
   "execution_count": 13,
   "id": "9e04a8d0",
   "metadata": {},
   "outputs": [
    {
     "data": {
      "text/plain": [
       "(0.1498, 0.38705, 0.83901)"
      ]
     },
     "execution_count": 13,
     "metadata": {},
     "output_type": "execute_result"
    }
   ],
   "source": [
    "dvt = DictVectorizer(sparse=False)\n",
    "dicTra = dfrTra.to_dict(orient='records')\n",
    "X_Tra = dvt.fit_transform(dicTra)\n",
    "\n",
    "dicVal = dfrVal.to_dict(orient='records')\n",
    "X_Val = dvt.transform(dicVal)\n",
    "\n",
    "modLoR = LogisticRegression(solver='liblinear', C=1.0, max_iter=1000, random_state=1)\n",
    "modLoR.fit(X_Tra, y_Tra)\n",
    "\n",
    "y_prdVal = modLoR.predict_proba(X_Val)[:,1]\n",
    "\n",
    "floMse = mean_squared_error(y_Val, y_prdVal) \n",
    "floRms = npy.sqrt(floMse)\n",
    "floAuc = roc_auc_score(y_Val, y_prdVal)\n",
    "floMse.round(5) , floRms.round(5) , floAuc.round(5)"
   ]
  },
  {
   "cell_type": "markdown",
   "id": "bfa4551b",
   "metadata": {},
   "source": [
    "<div class=\"alert alert-block alert-success\">\n",
    "<b>solver='liblinear' : </b>\n",
    "    provide the best model!\n",
    "</div>"
   ]
  },
  {
   "cell_type": "markdown",
   "id": "b0a96308",
   "metadata": {},
   "source": [
    "## Try Feature Scaling + OHE"
   ]
  },
  {
   "cell_type": "code",
   "execution_count": 14,
   "id": "6eaea9fa",
   "metadata": {},
   "outputs": [
    {
     "data": {
      "text/plain": [
       "['age',\n",
       " 'creatinine_phosphokinase',\n",
       " 'ejection_fraction',\n",
       " 'platelets',\n",
       " 'serum_creatinine',\n",
       " 'serum_sodium',\n",
       " 'time']"
      ]
     },
     "execution_count": 14,
     "metadata": {},
     "output_type": "execute_result"
    }
   ],
   "source": [
    "lstFeaNum = dfrFea[ dfrFea.FeaTyp == 'Num'].index.values.tolist()\n",
    "lstFeaNum"
   ]
  },
  {
   "cell_type": "code",
   "execution_count": 15,
   "id": "ed5c9920",
   "metadata": {
    "scrolled": true
   },
   "outputs": [],
   "source": [
    "X_TraNum = dfrTra[lstFeaNum].values"
   ]
  },
  {
   "cell_type": "code",
   "execution_count": 16,
   "id": "3261c5ae",
   "metadata": {},
   "outputs": [],
   "source": [
    "scaler = StandardScaler()\n",
    "#scaler = MinMaxScaler()\n",
    "X_TraNum = scaler.fit_transform(X_TraNum)"
   ]
  },
  {
   "cell_type": "code",
   "execution_count": 17,
   "id": "a2dcc288",
   "metadata": {},
   "outputs": [],
   "source": [
    "ohe = OneHotEncoder(sparse=False, handle_unknown='ignore')"
   ]
  },
  {
   "cell_type": "code",
   "execution_count": 18,
   "id": "04d21ea7",
   "metadata": {},
   "outputs": [
    {
     "data": {
      "text/plain": [
       "['anaemia', 'diabetes', 'high_blood_pressure', 'sex', 'smoking']"
      ]
     },
     "execution_count": 18,
     "metadata": {},
     "output_type": "execute_result"
    }
   ],
   "source": [
    "lstFeaCat = dfrFea[ dfrFea.FeaTyp == 'Cat'].index.values.tolist()\n",
    "lstFeaCat"
   ]
  },
  {
   "cell_type": "code",
   "execution_count": 19,
   "id": "2202d67a",
   "metadata": {},
   "outputs": [],
   "source": [
    "X_TraCat = ohe.fit_transform(dfrTra[lstFeaCat].values)"
   ]
  },
  {
   "cell_type": "code",
   "execution_count": 20,
   "id": "bd5e598f",
   "metadata": {},
   "outputs": [
    {
     "data": {
      "text/plain": [
       "array(['x0_0', 'x0_1', 'x1_0', 'x1_1', 'x2_0', 'x2_1', 'x3_0', 'x3_1',\n",
       "       'x4_0', 'x4_1'], dtype=object)"
      ]
     },
     "execution_count": 20,
     "metadata": {},
     "output_type": "execute_result"
    }
   ],
   "source": [
    "ohe.get_feature_names_out()"
   ]
  },
  {
   "cell_type": "code",
   "execution_count": 21,
   "id": "e302d84a",
   "metadata": {},
   "outputs": [],
   "source": [
    "X_Tra = npy.column_stack([X_TraNum, X_TraCat])"
   ]
  },
  {
   "cell_type": "code",
   "execution_count": 22,
   "id": "5e6d1eea",
   "metadata": {},
   "outputs": [
    {
     "data": {
      "text/html": [
       "<style>#sk-container-id-1 {color: black;background-color: white;}#sk-container-id-1 pre{padding: 0;}#sk-container-id-1 div.sk-toggleable {background-color: white;}#sk-container-id-1 label.sk-toggleable__label {cursor: pointer;display: block;width: 100%;margin-bottom: 0;padding: 0.3em;box-sizing: border-box;text-align: center;}#sk-container-id-1 label.sk-toggleable__label-arrow:before {content: \"▸\";float: left;margin-right: 0.25em;color: #696969;}#sk-container-id-1 label.sk-toggleable__label-arrow:hover:before {color: black;}#sk-container-id-1 div.sk-estimator:hover label.sk-toggleable__label-arrow:before {color: black;}#sk-container-id-1 div.sk-toggleable__content {max-height: 0;max-width: 0;overflow: hidden;text-align: left;background-color: #f0f8ff;}#sk-container-id-1 div.sk-toggleable__content pre {margin: 0.2em;color: black;border-radius: 0.25em;background-color: #f0f8ff;}#sk-container-id-1 input.sk-toggleable__control:checked~div.sk-toggleable__content {max-height: 200px;max-width: 100%;overflow: auto;}#sk-container-id-1 input.sk-toggleable__control:checked~label.sk-toggleable__label-arrow:before {content: \"▾\";}#sk-container-id-1 div.sk-estimator input.sk-toggleable__control:checked~label.sk-toggleable__label {background-color: #d4ebff;}#sk-container-id-1 div.sk-label input.sk-toggleable__control:checked~label.sk-toggleable__label {background-color: #d4ebff;}#sk-container-id-1 input.sk-hidden--visually {border: 0;clip: rect(1px 1px 1px 1px);clip: rect(1px, 1px, 1px, 1px);height: 1px;margin: -1px;overflow: hidden;padding: 0;position: absolute;width: 1px;}#sk-container-id-1 div.sk-estimator {font-family: monospace;background-color: #f0f8ff;border: 1px dotted black;border-radius: 0.25em;box-sizing: border-box;margin-bottom: 0.5em;}#sk-container-id-1 div.sk-estimator:hover {background-color: #d4ebff;}#sk-container-id-1 div.sk-parallel-item::after {content: \"\";width: 100%;border-bottom: 1px solid gray;flex-grow: 1;}#sk-container-id-1 div.sk-label:hover label.sk-toggleable__label {background-color: #d4ebff;}#sk-container-id-1 div.sk-serial::before {content: \"\";position: absolute;border-left: 1px solid gray;box-sizing: border-box;top: 0;bottom: 0;left: 50%;z-index: 0;}#sk-container-id-1 div.sk-serial {display: flex;flex-direction: column;align-items: center;background-color: white;padding-right: 0.2em;padding-left: 0.2em;position: relative;}#sk-container-id-1 div.sk-item {position: relative;z-index: 1;}#sk-container-id-1 div.sk-parallel {display: flex;align-items: stretch;justify-content: center;background-color: white;position: relative;}#sk-container-id-1 div.sk-item::before, #sk-container-id-1 div.sk-parallel-item::before {content: \"\";position: absolute;border-left: 1px solid gray;box-sizing: border-box;top: 0;bottom: 0;left: 50%;z-index: -1;}#sk-container-id-1 div.sk-parallel-item {display: flex;flex-direction: column;z-index: 1;position: relative;background-color: white;}#sk-container-id-1 div.sk-parallel-item:first-child::after {align-self: flex-end;width: 50%;}#sk-container-id-1 div.sk-parallel-item:last-child::after {align-self: flex-start;width: 50%;}#sk-container-id-1 div.sk-parallel-item:only-child::after {width: 0;}#sk-container-id-1 div.sk-dashed-wrapped {border: 1px dashed gray;margin: 0 0.4em 0.5em 0.4em;box-sizing: border-box;padding-bottom: 0.4em;background-color: white;}#sk-container-id-1 div.sk-label label {font-family: monospace;font-weight: bold;display: inline-block;line-height: 1.2em;}#sk-container-id-1 div.sk-label-container {text-align: center;}#sk-container-id-1 div.sk-container {/* jupyter's `normalize.less` sets `[hidden] { display: none; }` but bootstrap.min.css set `[hidden] { display: none !important; }` so we also need the `!important` here to be able to override the default hidden behavior on the sphinx rendered scikit-learn.org. See: https://github.com/scikit-learn/scikit-learn/issues/21755 */display: inline-block !important;position: relative;}#sk-container-id-1 div.sk-text-repr-fallback {display: none;}</style><div id=\"sk-container-id-1\" class=\"sk-top-container\"><div class=\"sk-text-repr-fallback\"><pre>LogisticRegression(max_iter=1000, random_state=1, solver=&#x27;liblinear&#x27;)</pre><b>In a Jupyter environment, please rerun this cell to show the HTML representation or trust the notebook. <br />On GitHub, the HTML representation is unable to render, please try loading this page with nbviewer.org.</b></div><div class=\"sk-container\" hidden><div class=\"sk-item\"><div class=\"sk-estimator sk-toggleable\"><input class=\"sk-toggleable__control sk-hidden--visually\" id=\"sk-estimator-id-1\" type=\"checkbox\" checked><label for=\"sk-estimator-id-1\" class=\"sk-toggleable__label sk-toggleable__label-arrow\">LogisticRegression</label><div class=\"sk-toggleable__content\"><pre>LogisticRegression(max_iter=1000, random_state=1, solver=&#x27;liblinear&#x27;)</pre></div></div></div></div></div>"
      ],
      "text/plain": [
       "LogisticRegression(max_iter=1000, random_state=1, solver='liblinear')"
      ]
     },
     "execution_count": 22,
     "metadata": {},
     "output_type": "execute_result"
    }
   ],
   "source": [
    "modLoR = LogisticRegression(solver='liblinear', C=1.0, max_iter=1000, random_state=1)\n",
    "modLoR.fit(X_Tra, y_Tra)"
   ]
  },
  {
   "cell_type": "code",
   "execution_count": 23,
   "id": "6e9725e7",
   "metadata": {},
   "outputs": [],
   "source": [
    "X_ValNum = dfrVal[lstFeaNum].values\n",
    "X_ValNum = scaler.transform(X_ValNum)\n",
    "X_ValCat = ohe.transform(dfrVal[lstFeaCat].values)\n",
    "X_Val = npy.column_stack([X_ValNum, X_ValCat])"
   ]
  },
  {
   "cell_type": "code",
   "execution_count": 24,
   "id": "3eeb0966",
   "metadata": {},
   "outputs": [
    {
     "data": {
      "text/plain": [
       "((0.1498, 0.38705, 0.83901), (0.15933, 0.39916, 0.84019))"
      ]
     },
     "execution_count": 24,
     "metadata": {},
     "output_type": "execute_result"
    }
   ],
   "source": [
    "y_prdValSca = modLoR.predict_proba(X_Val)[:,1]\n",
    "\n",
    "floMseSca = mean_squared_error(y_Val, y_prdValSca) \n",
    "floRmsSca = npy.sqrt(floMseSca)\n",
    "floAucSca = roc_auc_score(y_Val, y_prdValSca)\n",
    "( floMse.round(5) , floRms.round(5) , floAuc.round(5) ) , ( floMseSca.round(5) , floRmsSca.round(5) , floAucSca.round(5) )"
   ]
  },
  {
   "cell_type": "markdown",
   "id": "68dca7d8",
   "metadata": {},
   "source": [
    "<div class=\"alert alert-block alert-success\">\n",
    "<b>Feature Scaling : </b> improves the quality. Keep it !\n",
    "</div>"
   ]
  },
  {
   "cell_type": "markdown",
   "id": "26d2943e",
   "metadata": {},
   "source": [
    "### Standard Scaler vs MixMaxScaler"
   ]
  },
  {
   "cell_type": "code",
   "execution_count": 26,
   "id": "2be8540a",
   "metadata": {},
   "outputs": [
    {
     "data": {
      "text/plain": [
       "(0.17115, 0.4137, 0.81551)"
      ]
     },
     "execution_count": 26,
     "metadata": {},
     "output_type": "execute_result"
    }
   ],
   "source": [
    "lstFeaNum = dfrFea[ dfrFea.FeaTyp == 'Num'].index.values.tolist()\n",
    "\n",
    "X_TraNum = dfrTra[lstFeaNum].values\n",
    "\n",
    "#scaler = StandardScaler()\n",
    "scaler = MinMaxScaler()\n",
    "#########################\n",
    "\n",
    "X_TraNum = scaler.fit_transform(X_TraNum)\n",
    "\n",
    "ohe = OneHotEncoder(sparse=False, handle_unknown='ignore')\n",
    "lstFeaCat = dfrFea[ dfrFea.FeaTyp == 'Cat'].index.values.tolist()\n",
    "X_TraCat = ohe.fit_transform(dfrTra[lstFeaCat].values)\n",
    "\n",
    "X_Tra = npy.column_stack([X_TraNum, X_TraCat])\n",
    "modLoR = LogisticRegression(solver='liblinear', C=1.0, max_iter=1000, random_state=1)\n",
    "modLoR.fit(X_Tra, y_Tra)\n",
    "\n",
    "X_ValNum = dfrVal[lstFeaNum].values\n",
    "X_ValNum = scaler.transform(X_ValNum)\n",
    "X_ValCat = ohe.transform(dfrVal[lstFeaCat].values)\n",
    "X_Val = npy.column_stack([X_ValNum, X_ValCat])\n",
    "\n",
    "y_prdValSca = modLoR.predict_proba(X_Val)[:,1]\n",
    "\n",
    "floMseSca = mean_squared_error(y_Val, y_prdValSca) \n",
    "floRmsSca = npy.sqrt(floMseSca)\n",
    "floAucSca = roc_auc_score(y_Val, y_prdValSca)\n",
    "\n",
    "( floMseSca.round(5) , floRmsSca.round(5) , floAucSca.round(5) )"
   ]
  },
  {
   "cell_type": "code",
   "execution_count": 27,
   "id": "2a4f4108",
   "metadata": {},
   "outputs": [
    {
     "data": {
      "text/plain": [
       "(0.15933, 0.39916, 0.84019)"
      ]
     },
     "execution_count": 27,
     "metadata": {},
     "output_type": "execute_result"
    }
   ],
   "source": [
    "lstFeaNum = dfrFea[ dfrFea.FeaTyp == 'Num'].index.values.tolist()\n",
    "\n",
    "X_TraNum = dfrTra[lstFeaNum].values\n",
    "\n",
    "scaler = StandardScaler()\n",
    "#########################\n",
    "#scaler = MinMaxScaler()\n",
    "\n",
    "X_TraNum = scaler.fit_transform(X_TraNum)\n",
    "\n",
    "ohe = OneHotEncoder(sparse=False, handle_unknown='ignore')\n",
    "lstFeaCat = dfrFea[ dfrFea.FeaTyp == 'Cat'].index.values.tolist()\n",
    "X_TraCat = ohe.fit_transform(dfrTra[lstFeaCat].values)\n",
    "\n",
    "X_Tra = npy.column_stack([X_TraNum, X_TraCat])\n",
    "modLoR = LogisticRegression(solver='liblinear', C=1.0, max_iter=1000, random_state=1)\n",
    "modLoR.fit(X_Tra, y_Tra)\n",
    "\n",
    "X_ValNum = dfrVal[lstFeaNum].values\n",
    "X_ValNum = scaler.transform(X_ValNum)\n",
    "X_ValCat = ohe.transform(dfrVal[lstFeaCat].values)\n",
    "X_Val = npy.column_stack([X_ValNum, X_ValCat])\n",
    "\n",
    "y_prdValSca = modLoR.predict_proba(X_Val)[:,1]\n",
    "\n",
    "floMseSca = mean_squared_error(y_Val, y_prdValSca) \n",
    "floRmsSca = npy.sqrt(floMseSca)\n",
    "floAucSca = roc_auc_score(y_Val, y_prdValSca)\n",
    "\n",
    "( floMseSca.round(5) , floRmsSca.round(5) , floAucSca.round(5) )"
   ]
  },
  {
   "cell_type": "markdown",
   "id": "5969d184",
   "metadata": {},
   "source": [
    "<div class=\"alert alert-block alert-success\">\n",
    "<b>StandardScaler() </b> providfes best results. Keep It\n",
    "</div>"
   ]
  },
  {
   "cell_type": "markdown",
   "id": "fbfb2061",
   "metadata": {},
   "source": [
    "###  Evaluate various values of C"
   ]
  },
  {
   "cell_type": "code",
   "execution_count": 28,
   "id": "4c4f9462",
   "metadata": {},
   "outputs": [
    {
     "data": {
      "text/plain": [
       "[0.001, 0.01, 0.1, 0.5, 1, 5, 10]"
      ]
     },
     "execution_count": 28,
     "metadata": {},
     "output_type": "execute_result"
    }
   ],
   "source": [
    "lstC = [0.001, 0.01, 0.1, 0.5, 1, 5, 10]\n",
    "lstC"
   ]
  },
  {
   "cell_type": "code",
   "execution_count": 29,
   "id": "80005c9c",
   "metadata": {},
   "outputs": [
    {
     "name": "stdout",
     "output_type": "stream",
     "text": [
      "0.001 (0.23836, 0.48822, 0.81316)\n",
      "0.01 (0.19684, 0.44367, 0.82374)\n",
      "0.1 (0.16115, 0.40144, 0.82726)\n",
      "0.5 (0.15864, 0.39829, 0.83784)\n",
      "1 (0.15933, 0.39916, 0.84019)\n",
      "5 (0.16052, 0.40065, 0.83784)\n",
      "10 (0.16074, 0.40092, 0.83784)\n"
     ]
    }
   ],
   "source": [
    "for C in lstC:\n",
    "\n",
    "    lstFeaNum = dfrFea[ dfrFea.FeaTyp == 'Num'].index.values.tolist()\n",
    "    X_TraNum = dfrTra[lstFeaNum].values\n",
    "\n",
    "    scaler = StandardScaler()\n",
    "    X_TraNum = scaler.fit_transform(X_TraNum)\n",
    "\n",
    "    ohe = OneHotEncoder(sparse=False, handle_unknown='ignore')\n",
    "    lstFeaCat = dfrFea[ dfrFea.FeaTyp == 'Cat'].index.values.tolist()\n",
    "    X_TraCat = ohe.fit_transform(dfrTra[lstFeaCat].values)\n",
    "\n",
    "    X_Tra = npy.column_stack([X_TraNum, X_TraCat])\n",
    "    modLoR = LogisticRegression(solver='liblinear', C=C, max_iter=1000, random_state=1)\n",
    "    modLoR.fit(X_Tra, y_Tra)\n",
    "\n",
    "    X_ValNum = dfrVal[lstFeaNum].values\n",
    "    X_ValNum = scaler.transform(X_ValNum)\n",
    "    X_ValCat = ohe.transform(dfrVal[lstFeaCat].values)\n",
    "    X_Val = npy.column_stack([X_ValNum, X_ValCat])\n",
    "\n",
    "    y_prdValSca = modLoR.predict_proba(X_Val)[:,1]\n",
    "\n",
    "    floMseSca = mean_squared_error(y_Val, y_prdValSca) \n",
    "    floRmsSca = npy.sqrt(floMseSca)\n",
    "    floAucSca = roc_auc_score(y_Val, y_prdValSca)\n",
    "\n",
    "    print( C , ( floMseSca.round(5) , floRmsSca.round(5) , floAucSca.round(5) ) )"
   ]
  },
  {
   "cell_type": "markdown",
   "id": "5cfa749f",
   "metadata": {},
   "source": [
    "<div class=\"alert alert-block alert-success\">\n",
    "<b>Linear Regression: </b> from all experiements, for this dataset:\n",
    "    <ul>\n",
    "    <li>Categorical features give better model if encoded as string\n",
    "    <li>StandardScaler is improving the model\n",
    "    <li>Optimal value of C=1\n",
    "</div>"
   ]
  },
  {
   "cell_type": "markdown",
   "id": "235b3387",
   "metadata": {},
   "source": [
    "## Logistic Regression: Final"
   ]
  },
  {
   "cell_type": "code",
   "execution_count": 30,
   "id": "f56d2b38",
   "metadata": {},
   "outputs": [
    {
     "name": "stdout",
     "output_type": "stream",
     "text": [
      "(0.15933, 0.39916, 0.84019)\n"
     ]
    }
   ],
   "source": [
    "lstFeaNum = dfrFea[ dfrFea.FeaTyp == 'Num'].index.values.tolist()\n",
    "X_TraNum = dfrTra[lstFeaNum].values\n",
    "\n",
    "scaler = StandardScaler()\n",
    "X_TraNum = scaler.fit_transform(X_TraNum)\n",
    "\n",
    "ohe = OneHotEncoder(sparse=False, handle_unknown='ignore')\n",
    "lstFeaCat = dfrFea[ dfrFea.FeaTyp == 'Cat'].index.values.tolist()\n",
    "X_TraCat = ohe.fit_transform(dfrTra[lstFeaCat].values)\n",
    "\n",
    "X_Tra = npy.column_stack([X_TraNum, X_TraCat])\n",
    "modLoR = LogisticRegression(solver='liblinear', C=1, max_iter=1000, random_state=1)\n",
    "modLoR.fit(X_Tra, y_Tra)\n",
    "\n",
    "X_ValNum = dfrVal[lstFeaNum].values\n",
    "X_ValNum = scaler.transform(X_ValNum)\n",
    "X_ValCat = ohe.transform(dfrVal[lstFeaCat].values)\n",
    "X_Val = npy.column_stack([X_ValNum, X_ValCat])\n",
    "\n",
    "y_prdValSca = modLoR.predict_proba(X_Val)[:,1]\n",
    "\n",
    "floMseSca = mean_squared_error(y_Val, y_prdValSca) \n",
    "floRmsSca = npy.sqrt(floMseSca)\n",
    "floAucSca = roc_auc_score(y_Val, y_prdValSca)\n",
    "\n",
    "print(  ( floMseSca.round(5) , floRmsSca.round(5) , floAucSca.round(5) ) )"
   ]
  },
  {
   "cell_type": "markdown",
   "id": "1c39a311",
   "metadata": {},
   "source": [
    "## Logistic Regression: Prediction on Test"
   ]
  },
  {
   "cell_type": "code",
   "execution_count": 31,
   "id": "56dbe812",
   "metadata": {},
   "outputs": [
    {
     "name": "stdout",
     "output_type": "stream",
     "text": [
      "(0.09285, 0.30472, 0.93944)\n"
     ]
    }
   ],
   "source": [
    "X_TstNum = dfrTst[lstFeaNum].values\n",
    "X_TstNum = scaler.transform(X_TstNum)\n",
    "X_TstCat = ohe.transform(dfrTst[lstFeaCat].values)\n",
    "X_Tst = npy.column_stack([X_TstNum, X_TstCat])\n",
    "\n",
    "y_prdTstSca = modLoR.predict_proba(X_Tst)[:,1]\n",
    "\n",
    "floMseSca = mean_squared_error(y_Tst, y_prdTstSca) \n",
    "floRmsSca = npy.sqrt(floMseSca)\n",
    "floAucSca = roc_auc_score(y_Tst, y_prdTstSca)\n",
    "\n",
    "print(  ( floMseSca.round(5) , floRmsSca.round(5) , floAucSca.round(5) ) )"
   ]
  },
  {
   "cell_type": "markdown",
   "id": "3b06351b",
   "metadata": {},
   "source": [
    "## Saving model for deployment (\\\\pickle)"
   ]
  },
  {
   "cell_type": "code",
   "execution_count": 32,
   "id": "5dfb5bf1",
   "metadata": {},
   "outputs": [],
   "source": [
    "strFil = '.\\pickle\\modLoR.bin'\n",
    "with open(strFil, 'wb') as filOut:\n",
    "    # scaler + ohe + model\n",
    "    pickle.dump(( scaler, ohe , modLoR ), filOut)"
   ]
  },
  {
   "cell_type": "markdown",
   "id": "e8dfbd41",
   "metadata": {},
   "source": [
    "### Test Evaluation with saved model"
   ]
  },
  {
   "cell_type": "code",
   "execution_count": 33,
   "id": "c5b39534",
   "metadata": {},
   "outputs": [],
   "source": [
    "strFil = '.\\pickle\\modLoR.bin'\n",
    "with open(strFil, 'rb') as filIn: \n",
    "    My_sca, My_ohe , My_modLoR  = pickle.load(filIn)"
   ]
  },
  {
   "cell_type": "code",
   "execution_count": 34,
   "id": "bf42d205",
   "metadata": {},
   "outputs": [
    {
     "name": "stdout",
     "output_type": "stream",
     "text": [
      "(0.15933, 0.39916, 0.84019)\n"
     ]
    }
   ],
   "source": [
    "X_ValNum = dfrVal[lstFeaNum].values\n",
    "X_ValNum = My_sca.transform(X_ValNum)\n",
    "X_ValCat = My_ohe.transform(dfrVal[lstFeaCat].values)\n",
    "X_Val = npy.column_stack([X_ValNum, X_ValCat])\n",
    "\n",
    "y_prdValSca = My_modLoR.predict_proba(X_Val)[:,1]\n",
    "\n",
    "floMseSca = mean_squared_error(y_Val, y_prdValSca) \n",
    "floRmsSca = npy.sqrt(floMseSca)\n",
    "floAucSca = roc_auc_score(y_Val, y_prdValSca)\n",
    "\n",
    "print(  ( floMseSca.round(5) , floRmsSca.round(5) , floAucSca.round(5) ) )"
   ]
  },
  {
   "cell_type": "code",
   "execution_count": 35,
   "id": "b9ffa2f7",
   "metadata": {},
   "outputs": [
    {
     "name": "stdout",
     "output_type": "stream",
     "text": [
      " Volume in drive C has no label.\n",
      " Volume Serial Number is E8A5-BC16\n",
      "\n",
      " Directory of C:\\Users\\alain\\Documents\\prv\\IT\\mlzc-mid\\jupyter\\pickle\n",
      "\n",
      "30/10/2022  20:42    <DIR>          .\n",
      "30/10/2022  20:42    <DIR>          ..\n",
      "06/11/2022  18:45             1,730 dfrFea.bin\n",
      "06/11/2022  18:32            32,141 dfrMid.bin\n",
      "06/11/2022  19:29            15,523 dstTra.bin\n",
      "06/11/2022  19:29            23,469 dstTraFul.bin\n",
      "06/11/2022  19:29             6,003 dstTst.bin\n",
      "06/11/2022  19:29             6,003 dstVal.bin\n",
      "06/11/2022  18:32               195 lstCol.bin\n",
      "06/11/2022  18:36                89 lstColCat.bin\n",
      "06/11/2022  18:36               122 lstColNum.bin\n",
      "06/11/2022  19:29                75 lstFeaCat.bin\n",
      "06/11/2022  19:29               122 lstFeaNum.bin\n",
      "06/11/2022  19:32             1,742 modLoR.bin\n",
      "06/11/2022  19:29                26 strTar.bin\n",
      "              13 File(s)         87,240 bytes\n",
      "               2 Dir(s)  88,255,881,216 bytes free\n"
     ]
    }
   ],
   "source": [
    "!dir .\\pickle\\*.*"
   ]
  }
 ],
 "metadata": {
  "celltoolbar": "Raw Cell Format",
  "kernelspec": {
   "display_name": "Python 3 (ipykernel)",
   "language": "python",
   "name": "python3"
  },
  "language_info": {
   "codemirror_mode": {
    "name": "ipython",
    "version": 3
   },
   "file_extension": ".py",
   "mimetype": "text/x-python",
   "name": "python",
   "nbconvert_exporter": "python",
   "pygments_lexer": "ipython3",
   "version": "3.9.11"
  }
 },
 "nbformat": 4,
 "nbformat_minor": 5
}
