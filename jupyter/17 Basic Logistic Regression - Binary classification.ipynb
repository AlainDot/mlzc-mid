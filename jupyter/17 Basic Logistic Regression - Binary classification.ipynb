{
 "cells": [
  {
   "cell_type": "markdown",
   "id": "5ace2bc5",
   "metadata": {},
   "source": [
    "### <center>MLZC Mid-Term project - Q4/2022<img align=\"right\" width=\"60\" height=\"60\" src=\"../media/heart.png\">"
   ]
  },
  {
   "cell_type": "markdown",
   "id": "14dfe89b",
   "metadata": {},
   "source": [
    "# 17 Basic Logistic Regression - Binary classification"
   ]
  },
  {
   "cell_type": "code",
   "execution_count": 1,
   "id": "09d78c2e",
   "metadata": {},
   "outputs": [
    {
     "data": {
      "text/plain": [
       "('1.23.4', '1.5.1')"
      ]
     },
     "execution_count": 1,
     "metadata": {},
     "output_type": "execute_result"
    }
   ],
   "source": [
    "import pandas as pda\n",
    "import numpy as npy\n",
    "\n",
    "npy.__version__ , pda.__version__"
   ]
  },
  {
   "cell_type": "code",
   "execution_count": 2,
   "id": "e00371a9",
   "metadata": {},
   "outputs": [],
   "source": [
    "import pickle\n",
    "from IPython.display import display"
   ]
  },
  {
   "cell_type": "code",
   "execution_count": 3,
   "id": "35d5cd27",
   "metadata": {},
   "outputs": [
    {
     "data": {
      "text/plain": [
       "'0.12.1'"
      ]
     },
     "execution_count": 3,
     "metadata": {},
     "output_type": "execute_result"
    }
   ],
   "source": [
    "import matplotlib.pyplot as plt\n",
    "import seaborn as sns\n",
    "\n",
    "%matplotlib inline\n",
    "sns.__version__ "
   ]
  },
  {
   "cell_type": "code",
   "execution_count": 4,
   "id": "cd0f8d56",
   "metadata": {},
   "outputs": [],
   "source": [
    "from sklearn.feature_extraction import DictVectorizer\n",
    "from sklearn.linear_model import LogisticRegression\n",
    "from sklearn.metrics import mean_squared_error\n",
    "from sklearn.metrics import roc_auc_score"
   ]
  },
  {
   "cell_type": "markdown",
   "id": "2753bb6b",
   "metadata": {},
   "source": [
    "#### Reload data from previous notebooks"
   ]
  },
  {
   "cell_type": "code",
   "execution_count": 5,
   "id": "23cac446",
   "metadata": {},
   "outputs": [
    {
     "data": {
      "text/plain": [
       "((179, 12), 179)"
      ]
     },
     "execution_count": 5,
     "metadata": {},
     "output_type": "execute_result"
    }
   ],
   "source": [
    "# use TRAin dataset\n",
    "strFil = '.\\pickle\\dstTra.bin'\n",
    "with open(strFil, 'rb') as filIn: \n",
    "    dfrTra, y_Tra = pickle.load(filIn)\n",
    "dfrTra.shape , len(y_Tra)"
   ]
  },
  {
   "cell_type": "code",
   "execution_count": 6,
   "id": "046e2ad9",
   "metadata": {},
   "outputs": [
    {
     "data": {
      "text/plain": [
       "((60, 12), 60)"
      ]
     },
     "execution_count": 6,
     "metadata": {},
     "output_type": "execute_result"
    }
   ],
   "source": [
    "# check wil VALidation dataset\n",
    "strFil = '.\\pickle\\dstVal.bin'\n",
    "with open(strFil, 'rb') as filIn: \n",
    "    dfrVal, y_Val = pickle.load(filIn)\n",
    "dfrVal.shape , len(y_Val)"
   ]
  },
  {
   "cell_type": "code",
   "execution_count": 7,
   "id": "69fbd76e",
   "metadata": {},
   "outputs": [
    {
     "data": {
      "text/plain": [
       "'death_event'"
      ]
     },
     "execution_count": 7,
     "metadata": {},
     "output_type": "execute_result"
    }
   ],
   "source": [
    "strFil = '.\\pickle\\strTar.bin'\n",
    "with open(strFil, 'rb') as filIn: \n",
    "    strTar = pickle.load(filIn)\n",
    "strTar"
   ]
  },
  {
   "cell_type": "code",
   "execution_count": 8,
   "id": "7e13ff95",
   "metadata": {},
   "outputs": [
    {
     "data": {
      "text/html": [
       "<div>\n",
       "<style scoped>\n",
       "    .dataframe tbody tr th:only-of-type {\n",
       "        vertical-align: middle;\n",
       "    }\n",
       "\n",
       "    .dataframe tbody tr th {\n",
       "        vertical-align: top;\n",
       "    }\n",
       "\n",
       "    .dataframe thead th {\n",
       "        text-align: right;\n",
       "    }\n",
       "</style>\n",
       "<table border=\"1\" class=\"dataframe\">\n",
       "  <thead>\n",
       "    <tr style=\"text-align: right;\">\n",
       "      <th></th>\n",
       "      <th>FeaTyp</th>\n",
       "      <th>Cor</th>\n",
       "      <th>CorAbs</th>\n",
       "      <th>Log</th>\n",
       "      <th>LogBst</th>\n",
       "      <th>LogCor</th>\n",
       "      <th>LogCorAbs</th>\n",
       "      <th>Auc</th>\n",
       "    </tr>\n",
       "  </thead>\n",
       "  <tbody>\n",
       "    <tr>\n",
       "      <th>anaemia</th>\n",
       "      <td>Cat</td>\n",
       "      <td>0.040565</td>\n",
       "      <td>0.040565</td>\n",
       "      <td>NaN</td>\n",
       "      <td>NaN</td>\n",
       "      <td>NaN</td>\n",
       "      <td>NaN</td>\n",
       "      <td>0.521244</td>\n",
       "    </tr>\n",
       "    <tr>\n",
       "      <th>diabetes</th>\n",
       "      <td>Cat</td>\n",
       "      <td>0.030201</td>\n",
       "      <td>0.030201</td>\n",
       "      <td>NaN</td>\n",
       "      <td>NaN</td>\n",
       "      <td>NaN</td>\n",
       "      <td>NaN</td>\n",
       "      <td>0.515691</td>\n",
       "    </tr>\n",
       "    <tr>\n",
       "      <th>high_blood_pressure</th>\n",
       "      <td>Cat</td>\n",
       "      <td>0.053208</td>\n",
       "      <td>0.053208</td>\n",
       "      <td>NaN</td>\n",
       "      <td>NaN</td>\n",
       "      <td>NaN</td>\n",
       "      <td>NaN</td>\n",
       "      <td>0.526604</td>\n",
       "    </tr>\n",
       "    <tr>\n",
       "      <th>sex</th>\n",
       "      <td>Cat</td>\n",
       "      <td>0.008830</td>\n",
       "      <td>0.008830</td>\n",
       "      <td>NaN</td>\n",
       "      <td>NaN</td>\n",
       "      <td>NaN</td>\n",
       "      <td>NaN</td>\n",
       "      <td>0.504428</td>\n",
       "    </tr>\n",
       "    <tr>\n",
       "      <th>smoking</th>\n",
       "      <td>Cat</td>\n",
       "      <td>-0.013503</td>\n",
       "      <td>0.013503</td>\n",
       "      <td>NaN</td>\n",
       "      <td>NaN</td>\n",
       "      <td>NaN</td>\n",
       "      <td>NaN</td>\n",
       "      <td>0.506525</td>\n",
       "    </tr>\n",
       "    <tr>\n",
       "      <th>age</th>\n",
       "      <td>Num</td>\n",
       "      <td>0.226820</td>\n",
       "      <td>0.226820</td>\n",
       "      <td>-</td>\n",
       "      <td>-5.0</td>\n",
       "      <td>0.215981</td>\n",
       "      <td>0.215981</td>\n",
       "      <td>0.616009</td>\n",
       "    </tr>\n",
       "    <tr>\n",
       "      <th>creatinine_phosphokinase</th>\n",
       "      <td>Num</td>\n",
       "      <td>0.085204</td>\n",
       "      <td>0.085204</td>\n",
       "      <td>-</td>\n",
       "      <td>-32.0</td>\n",
       "      <td>0.057817</td>\n",
       "      <td>0.057817</td>\n",
       "      <td>0.526293</td>\n",
       "    </tr>\n",
       "    <tr>\n",
       "      <th>ejection_fraction</th>\n",
       "      <td>Num</td>\n",
       "      <td>-0.252100</td>\n",
       "      <td>0.252100</td>\n",
       "      <td>+</td>\n",
       "      <td>19.0</td>\n",
       "      <td>-0.299468</td>\n",
       "      <td>0.299468</td>\n",
       "      <td>0.663780</td>\n",
       "    </tr>\n",
       "    <tr>\n",
       "      <th>platelets</th>\n",
       "      <td>Num</td>\n",
       "      <td>-0.069756</td>\n",
       "      <td>0.069756</td>\n",
       "      <td>+</td>\n",
       "      <td>26.0</td>\n",
       "      <td>-0.087695</td>\n",
       "      <td>0.087695</td>\n",
       "      <td>0.544275</td>\n",
       "    </tr>\n",
       "    <tr>\n",
       "      <th>serum_creatinine</th>\n",
       "      <td>Num</td>\n",
       "      <td>0.312228</td>\n",
       "      <td>0.312228</td>\n",
       "      <td>+</td>\n",
       "      <td>15.0</td>\n",
       "      <td>0.359451</td>\n",
       "      <td>0.359451</td>\n",
       "      <td>0.725183</td>\n",
       "    </tr>\n",
       "    <tr>\n",
       "      <th>serum_sodium</th>\n",
       "      <td>Num</td>\n",
       "      <td>-0.203004</td>\n",
       "      <td>0.203004</td>\n",
       "      <td>-</td>\n",
       "      <td>-0.0</td>\n",
       "      <td>-0.202032</td>\n",
       "      <td>0.202032</td>\n",
       "      <td>0.642225</td>\n",
       "    </tr>\n",
       "    <tr>\n",
       "      <th>time</th>\n",
       "      <td>Num</td>\n",
       "      <td>-0.519556</td>\n",
       "      <td>0.519556</td>\n",
       "      <td>+</td>\n",
       "      <td>9.0</td>\n",
       "      <td>-0.567556</td>\n",
       "      <td>0.567556</td>\n",
       "      <td>0.827326</td>\n",
       "    </tr>\n",
       "  </tbody>\n",
       "</table>\n",
       "</div>"
      ],
      "text/plain": [
       "                         FeaTyp       Cor    CorAbs  Log  LogBst    LogCor  \\\n",
       "anaemia                     Cat  0.040565  0.040565  NaN     NaN       NaN   \n",
       "diabetes                    Cat  0.030201  0.030201  NaN     NaN       NaN   \n",
       "high_blood_pressure         Cat  0.053208  0.053208  NaN     NaN       NaN   \n",
       "sex                         Cat  0.008830  0.008830  NaN     NaN       NaN   \n",
       "smoking                     Cat -0.013503  0.013503  NaN     NaN       NaN   \n",
       "age                         Num  0.226820  0.226820    -    -5.0  0.215981   \n",
       "creatinine_phosphokinase    Num  0.085204  0.085204    -   -32.0  0.057817   \n",
       "ejection_fraction           Num -0.252100  0.252100    +    19.0 -0.299468   \n",
       "platelets                   Num -0.069756  0.069756    +    26.0 -0.087695   \n",
       "serum_creatinine            Num  0.312228  0.312228    +    15.0  0.359451   \n",
       "serum_sodium                Num -0.203004  0.203004    -    -0.0 -0.202032   \n",
       "time                        Num -0.519556  0.519556    +     9.0 -0.567556   \n",
       "\n",
       "                          LogCorAbs       Auc  \n",
       "anaemia                         NaN  0.521244  \n",
       "diabetes                        NaN  0.515691  \n",
       "high_blood_pressure             NaN  0.526604  \n",
       "sex                             NaN  0.504428  \n",
       "smoking                         NaN  0.506525  \n",
       "age                        0.215981  0.616009  \n",
       "creatinine_phosphokinase   0.057817  0.526293  \n",
       "ejection_fraction          0.299468  0.663780  \n",
       "platelets                  0.087695  0.544275  \n",
       "serum_creatinine           0.359451  0.725183  \n",
       "serum_sodium               0.202032  0.642225  \n",
       "time                       0.567556  0.827326  "
      ]
     },
     "execution_count": 8,
     "metadata": {},
     "output_type": "execute_result"
    }
   ],
   "source": [
    "strFil = '.\\pickle\\dfrFea.bin'\n",
    "with open(strFil, 'rb') as filIn: \n",
    "    dfrFea = pickle.load(filIn)\n",
    "dfrFea"
   ]
  },
  {
   "cell_type": "markdown",
   "id": "e1d6d016",
   "metadata": {},
   "source": [
    "# One-hot encoding (version-1)"
   ]
  },
  {
   "cell_type": "code",
   "execution_count": 9,
   "id": "cf908b8c",
   "metadata": {},
   "outputs": [],
   "source": [
    "# create an instance of dictvectorizer\n",
    "#                    no sparse matrixes\n",
    "dvt = DictVectorizer(sparse=False)"
   ]
  },
  {
   "cell_type": "code",
   "execution_count": 10,
   "id": "7827b0d5",
   "metadata": {},
   "outputs": [
    {
     "data": {
      "text/plain": [
       "[{'age': 60.0,\n",
       "  'anaemia': 0,\n",
       "  'creatinine_phosphokinase': 166,\n",
       "  'diabetes': 0,\n",
       "  'ejection_fraction': 30,\n",
       "  'high_blood_pressure': 0,\n",
       "  'platelets': 62000.0,\n",
       "  'serum_creatinine': 1.7,\n",
       "  'serum_sodium': 127,\n",
       "  'sex': 0,\n",
       "  'smoking': 0,\n",
       "  'time': 207}]"
      ]
     },
     "execution_count": 10,
     "metadata": {},
     "output_type": "execute_result"
    }
   ],
   "source": [
    "# create a dictionary with all fileds and values - one entry by record - check one record (random ;-)\n",
    "dicTra = dfrTra.to_dict(orient='records')\n",
    "dicTra[25:26]"
   ]
  },
  {
   "cell_type": "code",
   "execution_count": 11,
   "id": "805cc552",
   "metadata": {},
   "outputs": [
    {
     "data": {
      "text/plain": [
       "array([[6.00e+01, 0.00e+00, 1.66e+02, 0.00e+00, 3.00e+01, 0.00e+00,\n",
       "        6.20e+04, 1.70e+00, 1.27e+02, 0.00e+00, 0.00e+00, 2.07e+02]])"
      ]
     },
     "execution_count": 11,
     "metadata": {},
     "output_type": "execute_result"
    }
   ],
   "source": [
    "X_Tra = dvt.fit_transform(dicTra)\n",
    "X_Tra[25:26]"
   ]
  },
  {
   "cell_type": "code",
   "execution_count": 12,
   "id": "9188474c",
   "metadata": {},
   "outputs": [
    {
     "data": {
      "text/plain": [
       "array(['age', 'anaemia', 'creatinine_phosphokinase', 'diabetes',\n",
       "       'ejection_fraction', 'high_blood_pressure', 'platelets',\n",
       "       'serum_creatinine', 'serum_sodium', 'sex', 'smoking', 'time'],\n",
       "      dtype=object)"
      ]
     },
     "execution_count": 12,
     "metadata": {},
     "output_type": "execute_result"
    }
   ],
   "source": [
    "# Check the names of the ohe columns \n",
    "dvt.get_feature_names_out()"
   ]
  },
  {
   "cell_type": "markdown",
   "id": "370a35e0",
   "metadata": {},
   "source": [
    "<div class=\"alert alert-block alert-danger\">\n",
    "<b>No One-Hot-Encoding for Categorical variables!!</b> \n",
    "<br>All Features are considered as numeric because of datatype. \n",
    "<br>It is <b>not</b> what was expected but for curiosity we will train the model as is and compare later with categorical variables converted to string\n",
    "</div>"
   ]
  },
  {
   "cell_type": "code",
   "execution_count": 13,
   "id": "b381112e",
   "metadata": {},
   "outputs": [
    {
     "data": {
      "text/plain": [
       "(60, 12)"
      ]
     },
     "execution_count": 13,
     "metadata": {},
     "output_type": "execute_result"
    }
   ],
   "source": [
    "# same for VAL dataset\n",
    "dicVal = dfrVal.to_dict(orient='records')\n",
    "X_Val = dvt.transform(dicVal)\n",
    "X_Val.shape"
   ]
  },
  {
   "cell_type": "markdown",
   "id": "93cf5490",
   "metadata": {},
   "source": [
    "# Logistic regression with Scikit-Learn (version 1)"
   ]
  },
  {
   "cell_type": "code",
   "execution_count": 14,
   "id": "4b632186",
   "metadata": {},
   "outputs": [
    {
     "data": {
      "text/plain": [
       "(0, 1)"
      ]
     },
     "execution_count": 14,
     "metadata": {},
     "output_type": "execute_result"
    }
   ],
   "source": [
    "# Double chek Target is binary {0,1} id not LofRev will run forever !!!!\n",
    "y_Tra.min() , y_Tra.max()"
   ]
  },
  {
   "cell_type": "code",
   "execution_count": 15,
   "id": "b0d77e3b",
   "metadata": {},
   "outputs": [
    {
     "data": {
      "text/plain": [
       "((179, 12), (179,))"
      ]
     },
     "execution_count": 15,
     "metadata": {},
     "output_type": "execute_result"
    }
   ],
   "source": [
    "X_Tra.shape , y_Tra.shape"
   ]
  },
  {
   "cell_type": "code",
   "execution_count": 16,
   "id": "73c5a780",
   "metadata": {},
   "outputs": [
    {
     "data": {
      "text/html": [
       "<style>#sk-container-id-1 {color: black;background-color: white;}#sk-container-id-1 pre{padding: 0;}#sk-container-id-1 div.sk-toggleable {background-color: white;}#sk-container-id-1 label.sk-toggleable__label {cursor: pointer;display: block;width: 100%;margin-bottom: 0;padding: 0.3em;box-sizing: border-box;text-align: center;}#sk-container-id-1 label.sk-toggleable__label-arrow:before {content: \"▸\";float: left;margin-right: 0.25em;color: #696969;}#sk-container-id-1 label.sk-toggleable__label-arrow:hover:before {color: black;}#sk-container-id-1 div.sk-estimator:hover label.sk-toggleable__label-arrow:before {color: black;}#sk-container-id-1 div.sk-toggleable__content {max-height: 0;max-width: 0;overflow: hidden;text-align: left;background-color: #f0f8ff;}#sk-container-id-1 div.sk-toggleable__content pre {margin: 0.2em;color: black;border-radius: 0.25em;background-color: #f0f8ff;}#sk-container-id-1 input.sk-toggleable__control:checked~div.sk-toggleable__content {max-height: 200px;max-width: 100%;overflow: auto;}#sk-container-id-1 input.sk-toggleable__control:checked~label.sk-toggleable__label-arrow:before {content: \"▾\";}#sk-container-id-1 div.sk-estimator input.sk-toggleable__control:checked~label.sk-toggleable__label {background-color: #d4ebff;}#sk-container-id-1 div.sk-label input.sk-toggleable__control:checked~label.sk-toggleable__label {background-color: #d4ebff;}#sk-container-id-1 input.sk-hidden--visually {border: 0;clip: rect(1px 1px 1px 1px);clip: rect(1px, 1px, 1px, 1px);height: 1px;margin: -1px;overflow: hidden;padding: 0;position: absolute;width: 1px;}#sk-container-id-1 div.sk-estimator {font-family: monospace;background-color: #f0f8ff;border: 1px dotted black;border-radius: 0.25em;box-sizing: border-box;margin-bottom: 0.5em;}#sk-container-id-1 div.sk-estimator:hover {background-color: #d4ebff;}#sk-container-id-1 div.sk-parallel-item::after {content: \"\";width: 100%;border-bottom: 1px solid gray;flex-grow: 1;}#sk-container-id-1 div.sk-label:hover label.sk-toggleable__label {background-color: #d4ebff;}#sk-container-id-1 div.sk-serial::before {content: \"\";position: absolute;border-left: 1px solid gray;box-sizing: border-box;top: 0;bottom: 0;left: 50%;z-index: 0;}#sk-container-id-1 div.sk-serial {display: flex;flex-direction: column;align-items: center;background-color: white;padding-right: 0.2em;padding-left: 0.2em;position: relative;}#sk-container-id-1 div.sk-item {position: relative;z-index: 1;}#sk-container-id-1 div.sk-parallel {display: flex;align-items: stretch;justify-content: center;background-color: white;position: relative;}#sk-container-id-1 div.sk-item::before, #sk-container-id-1 div.sk-parallel-item::before {content: \"\";position: absolute;border-left: 1px solid gray;box-sizing: border-box;top: 0;bottom: 0;left: 50%;z-index: -1;}#sk-container-id-1 div.sk-parallel-item {display: flex;flex-direction: column;z-index: 1;position: relative;background-color: white;}#sk-container-id-1 div.sk-parallel-item:first-child::after {align-self: flex-end;width: 50%;}#sk-container-id-1 div.sk-parallel-item:last-child::after {align-self: flex-start;width: 50%;}#sk-container-id-1 div.sk-parallel-item:only-child::after {width: 0;}#sk-container-id-1 div.sk-dashed-wrapped {border: 1px dashed gray;margin: 0 0.4em 0.5em 0.4em;box-sizing: border-box;padding-bottom: 0.4em;background-color: white;}#sk-container-id-1 div.sk-label label {font-family: monospace;font-weight: bold;display: inline-block;line-height: 1.2em;}#sk-container-id-1 div.sk-label-container {text-align: center;}#sk-container-id-1 div.sk-container {/* jupyter's `normalize.less` sets `[hidden] { display: none; }` but bootstrap.min.css set `[hidden] { display: none !important; }` so we also need the `!important` here to be able to override the default hidden behavior on the sphinx rendered scikit-learn.org. See: https://github.com/scikit-learn/scikit-learn/issues/21755 */display: inline-block !important;position: relative;}#sk-container-id-1 div.sk-text-repr-fallback {display: none;}</style><div id=\"sk-container-id-1\" class=\"sk-top-container\"><div class=\"sk-text-repr-fallback\"><pre>LogisticRegression(max_iter=1000, random_state=1, solver=&#x27;liblinear&#x27;)</pre><b>In a Jupyter environment, please rerun this cell to show the HTML representation or trust the notebook. <br />On GitHub, the HTML representation is unable to render, please try loading this page with nbviewer.org.</b></div><div class=\"sk-container\" hidden><div class=\"sk-item\"><div class=\"sk-estimator sk-toggleable\"><input class=\"sk-toggleable__control sk-hidden--visually\" id=\"sk-estimator-id-1\" type=\"checkbox\" checked><label for=\"sk-estimator-id-1\" class=\"sk-toggleable__label sk-toggleable__label-arrow\">LogisticRegression</label><div class=\"sk-toggleable__content\"><pre>LogisticRegression(max_iter=1000, random_state=1, solver=&#x27;liblinear&#x27;)</pre></div></div></div></div></div>"
      ],
      "text/plain": [
       "LogisticRegression(max_iter=1000, random_state=1, solver='liblinear')"
      ]
     },
     "execution_count": 16,
     "metadata": {},
     "output_type": "execute_result"
    }
   ],
   "source": [
    "# BASIC LR with defult parameters\n",
    "modLoR = LogisticRegression(solver=\"liblinear\", C=1.0, max_iter=1000, random_state=1)\n",
    "modLoR.fit(X_Tra, y_Tra)"
   ]
  },
  {
   "cell_type": "markdown",
   "id": "cc1606d7",
   "metadata": {},
   "source": [
    "## Prediction on VAL dataset (version-1)"
   ]
  },
  {
   "cell_type": "code",
   "execution_count": 17,
   "id": "9e04a8d0",
   "metadata": {},
   "outputs": [
    {
     "data": {
      "text/plain": [
       "array([0.283, 0.075, 0.236, 0.203, 0.108, 0.665, 0.618, 0.049, 0.385,\n",
       "       0.804, 0.352, 0.419, 0.625, 0.356, 0.793, 0.917, 0.108, 0.54 ,\n",
       "       0.452, 0.599, 0.309, 0.511, 0.251, 0.394, 0.079, 0.729, 0.844,\n",
       "       0.349, 0.432, 0.318, 0.043, 0.612, 0.306, 0.63 , 0.294, 0.656,\n",
       "       0.159, 0.357, 0.68 , 0.171, 0.614, 0.102, 0.258, 0.604, 0.095,\n",
       "       0.03 , 0.041, 0.631, 0.257, 0.276, 0.145, 0.283, 0.068, 0.299,\n",
       "       0.079, 0.078, 0.611, 0.467, 0.512, 0.735])"
      ]
     },
     "execution_count": 17,
     "metadata": {},
     "output_type": "execute_result"
    }
   ],
   "source": [
    "# keep only prediction of \"1\"\n",
    "y_prdVal = modLoR.predict_proba(X_Val)[:,1]\n",
    "y_prdVal.round(3)"
   ]
  },
  {
   "cell_type": "code",
   "execution_count": 18,
   "id": "59646382",
   "metadata": {},
   "outputs": [
    {
     "data": {
      "text/plain": [
       "(0.15493, 0.39361)"
      ]
     },
     "execution_count": 18,
     "metadata": {},
     "output_type": "execute_result"
    }
   ],
   "source": [
    "# Calc MSE and RMSE with sickit\n",
    "floMse = mean_squared_error(y_Val, y_prdVal) \n",
    "floRms = npy.sqrt(floMse)\n",
    "floMse.round(5) , floRms.round(5)"
   ]
  },
  {
   "cell_type": "code",
   "execution_count": 19,
   "id": "60a4f4b9",
   "metadata": {},
   "outputs": [
    {
     "data": {
      "text/plain": [
       "0.83549"
      ]
     },
     "execution_count": 19,
     "metadata": {},
     "output_type": "execute_result"
    }
   ],
   "source": [
    "# Calc ROC AUC\n",
    "floAuc = roc_auc_score(y_Val, y_prdVal)\n",
    "floAuc.round(5)"
   ]
  },
  {
   "cell_type": "markdown",
   "id": "cf651cf9",
   "metadata": {},
   "source": [
    "# One-hot encoding (version-2)"
   ]
  },
  {
   "cell_type": "code",
   "execution_count": 20,
   "id": "f3d538ac",
   "metadata": {},
   "outputs": [],
   "source": [
    "# create an instance of dictvectorizer\n",
    "#                    no sparse matrixes\n",
    "dvt = DictVectorizer(sparse=False)"
   ]
  },
  {
   "cell_type": "code",
   "execution_count": 21,
   "id": "002a80e8",
   "metadata": {},
   "outputs": [
    {
     "data": {
      "text/plain": [
       "['anaemia', 'diabetes', 'high_blood_pressure', 'sex', 'smoking']"
      ]
     },
     "execution_count": 21,
     "metadata": {},
     "output_type": "execute_result"
    }
   ],
   "source": [
    "lstFeaCat = dfrFea[ dfrFea.FeaTyp == 'Cat'].index.values.tolist()\n",
    "lstFeaCat"
   ]
  },
  {
   "cell_type": "code",
   "execution_count": 22,
   "id": "e46d6019",
   "metadata": {},
   "outputs": [
    {
     "data": {
      "text/plain": [
       "age                         float64\n",
       "anaemia                       int64\n",
       "creatinine_phosphokinase      int64\n",
       "diabetes                      int64\n",
       "ejection_fraction             int64\n",
       "high_blood_pressure           int64\n",
       "platelets                   float64\n",
       "serum_creatinine            float64\n",
       "serum_sodium                  int64\n",
       "sex                           int64\n",
       "smoking                       int64\n",
       "time                          int64\n",
       "dtype: object"
      ]
     },
     "execution_count": 22,
     "metadata": {},
     "output_type": "execute_result"
    }
   ],
   "source": [
    "# copy in temporary dataframe\n",
    "dfrTraStr = dfrTra.copy()\n",
    "dfrTraStr.dtypes"
   ]
  },
  {
   "cell_type": "code",
   "execution_count": 23,
   "id": "e77ac352",
   "metadata": {},
   "outputs": [
    {
     "data": {
      "text/plain": [
       "age                         float64\n",
       "anaemia                      object\n",
       "creatinine_phosphokinase      int64\n",
       "diabetes                     object\n",
       "ejection_fraction             int64\n",
       "high_blood_pressure          object\n",
       "platelets                   float64\n",
       "serum_creatinine            float64\n",
       "serum_sodium                  int64\n",
       "sex                          object\n",
       "smoking                      object\n",
       "time                          int64\n",
       "dtype: object"
      ]
     },
     "execution_count": 23,
     "metadata": {},
     "output_type": "execute_result"
    }
   ],
   "source": [
    "for fea in lstFeaCat:\n",
    "    # convert the \"Num\" column in string\n",
    "    dfrTraStr[fea] = dfrTraStr[fea].astype(str)\n",
    "dfrTraStr.dtypes"
   ]
  },
  {
   "cell_type": "code",
   "execution_count": 24,
   "id": "eca25111",
   "metadata": {},
   "outputs": [
    {
     "data": {
      "text/plain": [
       "[{'age': 60.0,\n",
       "  'anaemia': '0',\n",
       "  'creatinine_phosphokinase': 166,\n",
       "  'diabetes': '0',\n",
       "  'ejection_fraction': 30,\n",
       "  'high_blood_pressure': '0',\n",
       "  'platelets': 62000.0,\n",
       "  'serum_creatinine': 1.7,\n",
       "  'serum_sodium': 127,\n",
       "  'sex': '0',\n",
       "  'smoking': '0',\n",
       "  'time': 207}]"
      ]
     },
     "execution_count": 24,
     "metadata": {},
     "output_type": "execute_result"
    }
   ],
   "source": [
    "# create a dictionary with all fileds and values - one entry by record - check one record (random ;-)\n",
    "dicTraStr = dfrTraStr.to_dict(orient='records')\n",
    "dicTraStr[25:26]"
   ]
  },
  {
   "cell_type": "code",
   "execution_count": 25,
   "id": "235ddff1",
   "metadata": {},
   "outputs": [
    {
     "data": {
      "text/plain": [
       "array([[6.00e+01, 1.00e+00, 0.00e+00, 1.66e+02, 1.00e+00, 0.00e+00,\n",
       "        3.00e+01, 1.00e+00, 0.00e+00, 6.20e+04, 1.70e+00, 1.27e+02,\n",
       "        1.00e+00, 0.00e+00, 1.00e+00, 0.00e+00, 2.07e+02]])"
      ]
     },
     "execution_count": 25,
     "metadata": {},
     "output_type": "execute_result"
    }
   ],
   "source": [
    "X_TraStr = dvt.fit_transform(dicTraStr)\n",
    "X_TraStr[25:26]"
   ]
  },
  {
   "cell_type": "code",
   "execution_count": 26,
   "id": "cbfc16eb",
   "metadata": {},
   "outputs": [
    {
     "data": {
      "text/plain": [
       "array(['age', 'anaemia=0', 'anaemia=1', 'creatinine_phosphokinase',\n",
       "       'diabetes=0', 'diabetes=1', 'ejection_fraction',\n",
       "       'high_blood_pressure=0', 'high_blood_pressure=1', 'platelets',\n",
       "       'serum_creatinine', 'serum_sodium', 'sex=0', 'sex=1', 'smoking=0',\n",
       "       'smoking=1', 'time'], dtype=object)"
      ]
     },
     "execution_count": 26,
     "metadata": {},
     "output_type": "execute_result"
    }
   ],
   "source": [
    "# Check the names of the ohe columns \n",
    "dvt.get_feature_names_out()"
   ]
  },
  {
   "cell_type": "markdown",
   "id": "4aac1710",
   "metadata": {},
   "source": [
    "<div class=\"alert alert-block alert-success\">\n",
    "<b>One-Hot-Encoding OK for Categorical variables!!</b> \n",
    "</div>"
   ]
  },
  {
   "cell_type": "code",
   "execution_count": 27,
   "id": "872ec742",
   "metadata": {},
   "outputs": [
    {
     "data": {
      "text/plain": [
       "(60, 17)"
      ]
     },
     "execution_count": 27,
     "metadata": {},
     "output_type": "execute_result"
    }
   ],
   "source": [
    "# same for VAL dataset\n",
    "\n",
    "# copy in temporary dataframe\n",
    "dfrValStr = dfrVal.copy()\n",
    "dfrTraStr.dtypes\n",
    "\n",
    "for fea in lstFeaCat:\n",
    "    # convert the \"Num\" column in string\n",
    "    dfrValStr[fea] = dfrValStr[fea].astype(str)\n",
    "dfrValStr.dtypes\n",
    "\n",
    "dicValStr = dfrValStr.to_dict(orient='records')\n",
    "X_ValStr = dvt.transform(dicValStr)\n",
    "X_ValStr.shape"
   ]
  },
  {
   "cell_type": "markdown",
   "id": "17929e57",
   "metadata": {},
   "source": [
    "# Logistic regression with Scikit-Learn (version2)"
   ]
  },
  {
   "cell_type": "code",
   "execution_count": 28,
   "id": "acce9ca9",
   "metadata": {},
   "outputs": [
    {
     "data": {
      "text/plain": [
       "(0, 1)"
      ]
     },
     "execution_count": 28,
     "metadata": {},
     "output_type": "execute_result"
    }
   ],
   "source": [
    "# Double chek Target is binary {0,1} id not LofRev will run forever !!!!\n",
    "y_Tra.min() , y_Tra.max()"
   ]
  },
  {
   "cell_type": "code",
   "execution_count": 29,
   "id": "dbb08869",
   "metadata": {},
   "outputs": [
    {
     "data": {
      "text/plain": [
       "((179, 17), (179,))"
      ]
     },
     "execution_count": 29,
     "metadata": {},
     "output_type": "execute_result"
    }
   ],
   "source": [
    "X_TraStr.shape , y_Tra.shape"
   ]
  },
  {
   "cell_type": "code",
   "execution_count": 30,
   "id": "e5b077eb",
   "metadata": {},
   "outputs": [
    {
     "data": {
      "text/html": [
       "<style>#sk-container-id-2 {color: black;background-color: white;}#sk-container-id-2 pre{padding: 0;}#sk-container-id-2 div.sk-toggleable {background-color: white;}#sk-container-id-2 label.sk-toggleable__label {cursor: pointer;display: block;width: 100%;margin-bottom: 0;padding: 0.3em;box-sizing: border-box;text-align: center;}#sk-container-id-2 label.sk-toggleable__label-arrow:before {content: \"▸\";float: left;margin-right: 0.25em;color: #696969;}#sk-container-id-2 label.sk-toggleable__label-arrow:hover:before {color: black;}#sk-container-id-2 div.sk-estimator:hover label.sk-toggleable__label-arrow:before {color: black;}#sk-container-id-2 div.sk-toggleable__content {max-height: 0;max-width: 0;overflow: hidden;text-align: left;background-color: #f0f8ff;}#sk-container-id-2 div.sk-toggleable__content pre {margin: 0.2em;color: black;border-radius: 0.25em;background-color: #f0f8ff;}#sk-container-id-2 input.sk-toggleable__control:checked~div.sk-toggleable__content {max-height: 200px;max-width: 100%;overflow: auto;}#sk-container-id-2 input.sk-toggleable__control:checked~label.sk-toggleable__label-arrow:before {content: \"▾\";}#sk-container-id-2 div.sk-estimator input.sk-toggleable__control:checked~label.sk-toggleable__label {background-color: #d4ebff;}#sk-container-id-2 div.sk-label input.sk-toggleable__control:checked~label.sk-toggleable__label {background-color: #d4ebff;}#sk-container-id-2 input.sk-hidden--visually {border: 0;clip: rect(1px 1px 1px 1px);clip: rect(1px, 1px, 1px, 1px);height: 1px;margin: -1px;overflow: hidden;padding: 0;position: absolute;width: 1px;}#sk-container-id-2 div.sk-estimator {font-family: monospace;background-color: #f0f8ff;border: 1px dotted black;border-radius: 0.25em;box-sizing: border-box;margin-bottom: 0.5em;}#sk-container-id-2 div.sk-estimator:hover {background-color: #d4ebff;}#sk-container-id-2 div.sk-parallel-item::after {content: \"\";width: 100%;border-bottom: 1px solid gray;flex-grow: 1;}#sk-container-id-2 div.sk-label:hover label.sk-toggleable__label {background-color: #d4ebff;}#sk-container-id-2 div.sk-serial::before {content: \"\";position: absolute;border-left: 1px solid gray;box-sizing: border-box;top: 0;bottom: 0;left: 50%;z-index: 0;}#sk-container-id-2 div.sk-serial {display: flex;flex-direction: column;align-items: center;background-color: white;padding-right: 0.2em;padding-left: 0.2em;position: relative;}#sk-container-id-2 div.sk-item {position: relative;z-index: 1;}#sk-container-id-2 div.sk-parallel {display: flex;align-items: stretch;justify-content: center;background-color: white;position: relative;}#sk-container-id-2 div.sk-item::before, #sk-container-id-2 div.sk-parallel-item::before {content: \"\";position: absolute;border-left: 1px solid gray;box-sizing: border-box;top: 0;bottom: 0;left: 50%;z-index: -1;}#sk-container-id-2 div.sk-parallel-item {display: flex;flex-direction: column;z-index: 1;position: relative;background-color: white;}#sk-container-id-2 div.sk-parallel-item:first-child::after {align-self: flex-end;width: 50%;}#sk-container-id-2 div.sk-parallel-item:last-child::after {align-self: flex-start;width: 50%;}#sk-container-id-2 div.sk-parallel-item:only-child::after {width: 0;}#sk-container-id-2 div.sk-dashed-wrapped {border: 1px dashed gray;margin: 0 0.4em 0.5em 0.4em;box-sizing: border-box;padding-bottom: 0.4em;background-color: white;}#sk-container-id-2 div.sk-label label {font-family: monospace;font-weight: bold;display: inline-block;line-height: 1.2em;}#sk-container-id-2 div.sk-label-container {text-align: center;}#sk-container-id-2 div.sk-container {/* jupyter's `normalize.less` sets `[hidden] { display: none; }` but bootstrap.min.css set `[hidden] { display: none !important; }` so we also need the `!important` here to be able to override the default hidden behavior on the sphinx rendered scikit-learn.org. See: https://github.com/scikit-learn/scikit-learn/issues/21755 */display: inline-block !important;position: relative;}#sk-container-id-2 div.sk-text-repr-fallback {display: none;}</style><div id=\"sk-container-id-2\" class=\"sk-top-container\"><div class=\"sk-text-repr-fallback\"><pre>LogisticRegression(max_iter=1000, random_state=1, solver=&#x27;liblinear&#x27;)</pre><b>In a Jupyter environment, please rerun this cell to show the HTML representation or trust the notebook. <br />On GitHub, the HTML representation is unable to render, please try loading this page with nbviewer.org.</b></div><div class=\"sk-container\" hidden><div class=\"sk-item\"><div class=\"sk-estimator sk-toggleable\"><input class=\"sk-toggleable__control sk-hidden--visually\" id=\"sk-estimator-id-2\" type=\"checkbox\" checked><label for=\"sk-estimator-id-2\" class=\"sk-toggleable__label sk-toggleable__label-arrow\">LogisticRegression</label><div class=\"sk-toggleable__content\"><pre>LogisticRegression(max_iter=1000, random_state=1, solver=&#x27;liblinear&#x27;)</pre></div></div></div></div></div>"
      ],
      "text/plain": [
       "LogisticRegression(max_iter=1000, random_state=1, solver='liblinear')"
      ]
     },
     "execution_count": 30,
     "metadata": {},
     "output_type": "execute_result"
    }
   ],
   "source": [
    "# BASIC LR with defult parameters\n",
    "modLoR = LogisticRegression(solver=\"liblinear\", C=1.0, max_iter=1000, random_state=1)\n",
    "modLoR.fit(X_TraStr, y_Tra)"
   ]
  },
  {
   "cell_type": "markdown",
   "id": "d783db5e",
   "metadata": {},
   "source": [
    "## Prediction on VAL dataset (version-2)"
   ]
  },
  {
   "cell_type": "code",
   "execution_count": 31,
   "id": "ded27b56",
   "metadata": {},
   "outputs": [
    {
     "data": {
      "text/plain": [
       "array([0.232, 0.08 , 0.274, 0.194, 0.1  , 0.66 , 0.654, 0.049, 0.327,\n",
       "       0.848, 0.351, 0.483, 0.606, 0.364, 0.842, 0.916, 0.096, 0.577,\n",
       "       0.46 , 0.6  , 0.242, 0.56 , 0.223, 0.38 , 0.074, 0.736, 0.887,\n",
       "       0.394, 0.392, 0.312, 0.044, 0.674, 0.232, 0.689, 0.301, 0.67 ,\n",
       "       0.202, 0.296, 0.698, 0.194, 0.677, 0.123, 0.278, 0.545, 0.089,\n",
       "       0.026, 0.044, 0.573, 0.244, 0.258, 0.164, 0.225, 0.083, 0.313,\n",
       "       0.078, 0.078, 0.704, 0.446, 0.561, 0.762])"
      ]
     },
     "execution_count": 31,
     "metadata": {},
     "output_type": "execute_result"
    }
   ],
   "source": [
    "# keep only prediction of \"1\"\n",
    "y_prdValStr = modLoR.predict_proba(X_ValStr)[:,1]\n",
    "y_prdValStr.round(3)"
   ]
  },
  {
   "cell_type": "code",
   "execution_count": 32,
   "id": "ec49ab81",
   "metadata": {},
   "outputs": [
    {
     "data": {
      "text/plain": [
       "(0.1498, 0.38705)"
      ]
     },
     "execution_count": 32,
     "metadata": {},
     "output_type": "execute_result"
    }
   ],
   "source": [
    "# Calc MSE and RMSE with sickit\n",
    "floMseStr = mean_squared_error(y_Val, y_prdValStr) \n",
    "floRmsStr = npy.sqrt(floMseStr)\n",
    "floMseStr.round(5) , floRmsStr.round(5)   "
   ]
  },
  {
   "cell_type": "code",
   "execution_count": 33,
   "id": "3dedf82d",
   "metadata": {},
   "outputs": [
    {
     "data": {
      "text/plain": [
       "0.83901"
      ]
     },
     "execution_count": 33,
     "metadata": {},
     "output_type": "execute_result"
    }
   ],
   "source": [
    "# Calc ROC AUC\n",
    "floAucStr = roc_auc_score(y_Val, y_prdValStr)\n",
    "floAucStr.round(5)"
   ]
  },
  {
   "cell_type": "code",
   "execution_count": 34,
   "id": "76bb2ccd",
   "metadata": {},
   "outputs": [
    {
     "data": {
      "text/plain": [
       "(0.15493, 0.39361, 0.1498, 0.38705)"
      ]
     },
     "execution_count": 34,
     "metadata": {},
     "output_type": "execute_result"
    }
   ],
   "source": [
    "# Compare model with Fea CAT as numeric or as STR \n",
    "floMse.round(5) , floRms.round(5)   , floMseStr.round(5) , floRmsStr.round(5)   "
   ]
  },
  {
   "cell_type": "code",
   "execution_count": 35,
   "id": "0c398133",
   "metadata": {},
   "outputs": [
    {
     "data": {
      "text/plain": [
       "(0.83549, 0.83901)"
      ]
     },
     "execution_count": 35,
     "metadata": {},
     "output_type": "execute_result"
    }
   ],
   "source": [
    "# Compare model with Fea CAT as numeric or as STR \n",
    "floAuc.round(5) , floAucStr.round(5)"
   ]
  },
  {
   "cell_type": "markdown",
   "id": "8c8971c7",
   "metadata": {},
   "source": [
    "<div class=\"alert alert-block alert-success\">\n",
    "<b>Categorical Features:</b>\n",
    "<br> Results are better when Categorical Features are encoded in OHE ( as String not numeric)\n",
    "</div>"
   ]
  },
  {
   "cell_type": "markdown",
   "id": "a6c93b40",
   "metadata": {},
   "source": [
    "# One-hot encoding (version-3)"
   ]
  },
  {
   "cell_type": "code",
   "execution_count": 36,
   "id": "33ebab45",
   "metadata": {},
   "outputs": [],
   "source": [
    "# create an instance of dictvectorizer\n",
    "#                    no sparse matrixes\n",
    "dvt = DictVectorizer(sparse=False)"
   ]
  },
  {
   "cell_type": "code",
   "execution_count": 37,
   "id": "fcfef4d2",
   "metadata": {},
   "outputs": [
    {
     "data": {
      "text/plain": [
       "['ejection_fraction', 'platelets', 'serum_creatinine', 'time']"
      ]
     },
     "execution_count": 37,
     "metadata": {},
     "output_type": "execute_result"
    }
   ],
   "source": [
    "# retrieve features where log1p seems better\n",
    "lstFeaNumLog = dfrFea[ dfrFea.Log == '+'].index.values.tolist()\n",
    "lstFeaNumLog"
   ]
  },
  {
   "cell_type": "code",
   "execution_count": 38,
   "id": "9b03787d",
   "metadata": {},
   "outputs": [
    {
     "data": {
      "text/html": [
       "<div>\n",
       "<style scoped>\n",
       "    .dataframe tbody tr th:only-of-type {\n",
       "        vertical-align: middle;\n",
       "    }\n",
       "\n",
       "    .dataframe tbody tr th {\n",
       "        vertical-align: top;\n",
       "    }\n",
       "\n",
       "    .dataframe thead th {\n",
       "        text-align: right;\n",
       "    }\n",
       "</style>\n",
       "<table border=\"1\" class=\"dataframe\">\n",
       "  <thead>\n",
       "    <tr style=\"text-align: right;\">\n",
       "      <th></th>\n",
       "      <th>ejection_fraction</th>\n",
       "      <th>platelets</th>\n",
       "      <th>serum_creatinine</th>\n",
       "      <th>time</th>\n",
       "    </tr>\n",
       "  </thead>\n",
       "  <tbody>\n",
       "    <tr>\n",
       "      <th>count</th>\n",
       "      <td>179.000000</td>\n",
       "      <td>179.000000</td>\n",
       "      <td>179.000000</td>\n",
       "      <td>179.000000</td>\n",
       "    </tr>\n",
       "    <tr>\n",
       "      <th>mean</th>\n",
       "      <td>38.569832</td>\n",
       "      <td>252293.544916</td>\n",
       "      <td>1.455642</td>\n",
       "      <td>133.893855</td>\n",
       "    </tr>\n",
       "    <tr>\n",
       "      <th>std</th>\n",
       "      <td>12.133591</td>\n",
       "      <td>85498.579824</td>\n",
       "      <td>1.185189</td>\n",
       "      <td>79.890057</td>\n",
       "    </tr>\n",
       "    <tr>\n",
       "      <th>min</th>\n",
       "      <td>14.000000</td>\n",
       "      <td>25100.000000</td>\n",
       "      <td>0.600000</td>\n",
       "      <td>7.000000</td>\n",
       "    </tr>\n",
       "    <tr>\n",
       "      <th>25%</th>\n",
       "      <td>30.000000</td>\n",
       "      <td>203000.000000</td>\n",
       "      <td>0.900000</td>\n",
       "      <td>72.000000</td>\n",
       "    </tr>\n",
       "    <tr>\n",
       "      <th>50%</th>\n",
       "      <td>38.000000</td>\n",
       "      <td>257000.000000</td>\n",
       "      <td>1.100000</td>\n",
       "      <td>120.000000</td>\n",
       "    </tr>\n",
       "    <tr>\n",
       "      <th>75%</th>\n",
       "      <td>45.000000</td>\n",
       "      <td>299500.000000</td>\n",
       "      <td>1.400000</td>\n",
       "      <td>208.500000</td>\n",
       "    </tr>\n",
       "    <tr>\n",
       "      <th>max</th>\n",
       "      <td>80.000000</td>\n",
       "      <td>507000.000000</td>\n",
       "      <td>9.400000</td>\n",
       "      <td>280.000000</td>\n",
       "    </tr>\n",
       "  </tbody>\n",
       "</table>\n",
       "</div>"
      ],
      "text/plain": [
       "       ejection_fraction      platelets  serum_creatinine        time\n",
       "count         179.000000     179.000000        179.000000  179.000000\n",
       "mean           38.569832  252293.544916          1.455642  133.893855\n",
       "std            12.133591   85498.579824          1.185189   79.890057\n",
       "min            14.000000   25100.000000          0.600000    7.000000\n",
       "25%            30.000000  203000.000000          0.900000   72.000000\n",
       "50%            38.000000  257000.000000          1.100000  120.000000\n",
       "75%            45.000000  299500.000000          1.400000  208.500000\n",
       "max            80.000000  507000.000000          9.400000  280.000000"
      ]
     },
     "execution_count": 38,
     "metadata": {},
     "output_type": "execute_result"
    }
   ],
   "source": [
    "# copy in temporary dataframe\n",
    "dfrTraLog = dfrTraStr.copy()\n",
    "dfrTraLog[lstFeaNumLog].describe()"
   ]
  },
  {
   "cell_type": "code",
   "execution_count": 39,
   "id": "63bfa970",
   "metadata": {},
   "outputs": [
    {
     "data": {
      "text/html": [
       "<div>\n",
       "<style scoped>\n",
       "    .dataframe tbody tr th:only-of-type {\n",
       "        vertical-align: middle;\n",
       "    }\n",
       "\n",
       "    .dataframe tbody tr th {\n",
       "        vertical-align: top;\n",
       "    }\n",
       "\n",
       "    .dataframe thead th {\n",
       "        text-align: right;\n",
       "    }\n",
       "</style>\n",
       "<table border=\"1\" class=\"dataframe\">\n",
       "  <thead>\n",
       "    <tr style=\"text-align: right;\">\n",
       "      <th></th>\n",
       "      <th>ejection_fraction</th>\n",
       "      <th>platelets</th>\n",
       "      <th>serum_creatinine</th>\n",
       "      <th>time</th>\n",
       "    </tr>\n",
       "  </thead>\n",
       "  <tbody>\n",
       "    <tr>\n",
       "      <th>count</th>\n",
       "      <td>179.000000</td>\n",
       "      <td>179.000000</td>\n",
       "      <td>179.000000</td>\n",
       "      <td>179.000000</td>\n",
       "    </tr>\n",
       "    <tr>\n",
       "      <th>mean</th>\n",
       "      <td>3.630502</td>\n",
       "      <td>12.367547</td>\n",
       "      <td>0.835961</td>\n",
       "      <td>4.614203</td>\n",
       "    </tr>\n",
       "    <tr>\n",
       "      <th>std</th>\n",
       "      <td>0.313975</td>\n",
       "      <td>0.416517</td>\n",
       "      <td>0.310799</td>\n",
       "      <td>0.901565</td>\n",
       "    </tr>\n",
       "    <tr>\n",
       "      <th>min</th>\n",
       "      <td>2.708050</td>\n",
       "      <td>10.130663</td>\n",
       "      <td>0.470004</td>\n",
       "      <td>2.079442</td>\n",
       "    </tr>\n",
       "    <tr>\n",
       "      <th>25%</th>\n",
       "      <td>3.433987</td>\n",
       "      <td>12.220966</td>\n",
       "      <td>0.641854</td>\n",
       "      <td>4.290366</td>\n",
       "    </tr>\n",
       "    <tr>\n",
       "      <th>50%</th>\n",
       "      <td>3.663562</td>\n",
       "      <td>12.456835</td>\n",
       "      <td>0.741937</td>\n",
       "      <td>4.795791</td>\n",
       "    </tr>\n",
       "    <tr>\n",
       "      <th>75%</th>\n",
       "      <td>3.828641</td>\n",
       "      <td>12.609860</td>\n",
       "      <td>0.875469</td>\n",
       "      <td>5.344721</td>\n",
       "    </tr>\n",
       "    <tr>\n",
       "      <th>max</th>\n",
       "      <td>4.394449</td>\n",
       "      <td>13.136268</td>\n",
       "      <td>2.341806</td>\n",
       "      <td>5.638355</td>\n",
       "    </tr>\n",
       "  </tbody>\n",
       "</table>\n",
       "</div>"
      ],
      "text/plain": [
       "       ejection_fraction   platelets  serum_creatinine        time\n",
       "count         179.000000  179.000000        179.000000  179.000000\n",
       "mean            3.630502   12.367547          0.835961    4.614203\n",
       "std             0.313975    0.416517          0.310799    0.901565\n",
       "min             2.708050   10.130663          0.470004    2.079442\n",
       "25%             3.433987   12.220966          0.641854    4.290366\n",
       "50%             3.663562   12.456835          0.741937    4.795791\n",
       "75%             3.828641   12.609860          0.875469    5.344721\n",
       "max             4.394449   13.136268          2.341806    5.638355"
      ]
     },
     "execution_count": 39,
     "metadata": {},
     "output_type": "execute_result"
    }
   ],
   "source": [
    "for fea in lstFeaNumLog:\n",
    "    # convert the \"Num\" column with log1p\n",
    "    dfrTraLog[fea] = npy.log1p(dfrTraLog[fea])\n",
    "dfrTraLog[lstFeaNumLog].describe()"
   ]
  },
  {
   "cell_type": "code",
   "execution_count": 40,
   "id": "6c9ec24a",
   "metadata": {},
   "outputs": [
    {
     "data": {
      "text/plain": [
       "[{'age': 60.0,\n",
       "  'anaemia': '0',\n",
       "  'creatinine_phosphokinase': 166,\n",
       "  'diabetes': '0',\n",
       "  'ejection_fraction': 3.4339872044851463,\n",
       "  'high_blood_pressure': '0',\n",
       "  'platelets': 11.034905792929415,\n",
       "  'serum_creatinine': 0.9932517730102833,\n",
       "  'serum_sodium': 127,\n",
       "  'sex': '0',\n",
       "  'smoking': '0',\n",
       "  'time': 5.337538079701318}]"
      ]
     },
     "execution_count": 40,
     "metadata": {},
     "output_type": "execute_result"
    }
   ],
   "source": [
    "# create a dictionary with all fileds and values - one entry by record - check one record (random ;-)\n",
    "dicTraLog = dfrTraLog.to_dict(orient='records')\n",
    "dicTraLog[25:26]"
   ]
  },
  {
   "cell_type": "code",
   "execution_count": 41,
   "id": "a9517b07",
   "metadata": {},
   "outputs": [
    {
     "data": {
      "text/plain": [
       "array([[ 60.        ,   1.        ,   0.        , 166.        ,\n",
       "          1.        ,   0.        ,   3.4339872 ,   1.        ,\n",
       "          0.        ,  11.03490579,   0.99325177, 127.        ,\n",
       "          1.        ,   0.        ,   1.        ,   0.        ,\n",
       "          5.33753808]])"
      ]
     },
     "execution_count": 41,
     "metadata": {},
     "output_type": "execute_result"
    }
   ],
   "source": [
    "X_TraLog = dvt.fit_transform(dicTraLog)\n",
    "X_TraLog[25:26]"
   ]
  },
  {
   "cell_type": "code",
   "execution_count": 42,
   "id": "1a299761",
   "metadata": {},
   "outputs": [
    {
     "data": {
      "text/plain": [
       "array(['age', 'anaemia=0', 'anaemia=1', 'creatinine_phosphokinase',\n",
       "       'diabetes=0', 'diabetes=1', 'ejection_fraction',\n",
       "       'high_blood_pressure=0', 'high_blood_pressure=1', 'platelets',\n",
       "       'serum_creatinine', 'serum_sodium', 'sex=0', 'sex=1', 'smoking=0',\n",
       "       'smoking=1', 'time'], dtype=object)"
      ]
     },
     "execution_count": 42,
     "metadata": {},
     "output_type": "execute_result"
    }
   ],
   "source": [
    "# Check the names of the ohe columns \n",
    "dvt.get_feature_names_out()"
   ]
  },
  {
   "cell_type": "code",
   "execution_count": 43,
   "id": "feac2db7",
   "metadata": {},
   "outputs": [
    {
     "data": {
      "text/plain": [
       "(60, 17)"
      ]
     },
     "execution_count": 43,
     "metadata": {},
     "output_type": "execute_result"
    }
   ],
   "source": [
    "# same for VAL dataset\n",
    "\n",
    "# copy in temporary dataframe\n",
    "dfrValLog = dfrValStr.copy()\n",
    "\n",
    "for fea in lstFeaNumLog:\n",
    "    # convert the \"Num\" column with log1p\n",
    "    dfrValLog[fea] = npy.log1p(dfrValLog[fea])\n",
    "dfrValLog[lstFeaNumLog].describe()\n",
    "\n",
    "dicValLog = dfrValLog.to_dict(orient='records')\n",
    "X_ValLog = dvt.transform(dicValLog)\n",
    "X_ValLog.shape"
   ]
  },
  {
   "cell_type": "markdown",
   "id": "88f940c3",
   "metadata": {},
   "source": [
    "# Logistic regression with Scikit-Learn (version 3)"
   ]
  },
  {
   "cell_type": "code",
   "execution_count": 44,
   "id": "c83ea56c",
   "metadata": {},
   "outputs": [
    {
     "data": {
      "text/plain": [
       "(0, 1)"
      ]
     },
     "execution_count": 44,
     "metadata": {},
     "output_type": "execute_result"
    }
   ],
   "source": [
    "# Double chek Target is binary {0,1} id not LofRev will run forever !!!!\n",
    "y_Tra.min() , y_Tra.max()"
   ]
  },
  {
   "cell_type": "code",
   "execution_count": 45,
   "id": "cd4d73e7",
   "metadata": {},
   "outputs": [
    {
     "data": {
      "text/plain": [
       "((179, 17), (179,))"
      ]
     },
     "execution_count": 45,
     "metadata": {},
     "output_type": "execute_result"
    }
   ],
   "source": [
    "X_TraLog.shape , y_Tra.shape"
   ]
  },
  {
   "cell_type": "code",
   "execution_count": 46,
   "id": "c9eba3ef",
   "metadata": {},
   "outputs": [
    {
     "data": {
      "text/html": [
       "<style>#sk-container-id-3 {color: black;background-color: white;}#sk-container-id-3 pre{padding: 0;}#sk-container-id-3 div.sk-toggleable {background-color: white;}#sk-container-id-3 label.sk-toggleable__label {cursor: pointer;display: block;width: 100%;margin-bottom: 0;padding: 0.3em;box-sizing: border-box;text-align: center;}#sk-container-id-3 label.sk-toggleable__label-arrow:before {content: \"▸\";float: left;margin-right: 0.25em;color: #696969;}#sk-container-id-3 label.sk-toggleable__label-arrow:hover:before {color: black;}#sk-container-id-3 div.sk-estimator:hover label.sk-toggleable__label-arrow:before {color: black;}#sk-container-id-3 div.sk-toggleable__content {max-height: 0;max-width: 0;overflow: hidden;text-align: left;background-color: #f0f8ff;}#sk-container-id-3 div.sk-toggleable__content pre {margin: 0.2em;color: black;border-radius: 0.25em;background-color: #f0f8ff;}#sk-container-id-3 input.sk-toggleable__control:checked~div.sk-toggleable__content {max-height: 200px;max-width: 100%;overflow: auto;}#sk-container-id-3 input.sk-toggleable__control:checked~label.sk-toggleable__label-arrow:before {content: \"▾\";}#sk-container-id-3 div.sk-estimator input.sk-toggleable__control:checked~label.sk-toggleable__label {background-color: #d4ebff;}#sk-container-id-3 div.sk-label input.sk-toggleable__control:checked~label.sk-toggleable__label {background-color: #d4ebff;}#sk-container-id-3 input.sk-hidden--visually {border: 0;clip: rect(1px 1px 1px 1px);clip: rect(1px, 1px, 1px, 1px);height: 1px;margin: -1px;overflow: hidden;padding: 0;position: absolute;width: 1px;}#sk-container-id-3 div.sk-estimator {font-family: monospace;background-color: #f0f8ff;border: 1px dotted black;border-radius: 0.25em;box-sizing: border-box;margin-bottom: 0.5em;}#sk-container-id-3 div.sk-estimator:hover {background-color: #d4ebff;}#sk-container-id-3 div.sk-parallel-item::after {content: \"\";width: 100%;border-bottom: 1px solid gray;flex-grow: 1;}#sk-container-id-3 div.sk-label:hover label.sk-toggleable__label {background-color: #d4ebff;}#sk-container-id-3 div.sk-serial::before {content: \"\";position: absolute;border-left: 1px solid gray;box-sizing: border-box;top: 0;bottom: 0;left: 50%;z-index: 0;}#sk-container-id-3 div.sk-serial {display: flex;flex-direction: column;align-items: center;background-color: white;padding-right: 0.2em;padding-left: 0.2em;position: relative;}#sk-container-id-3 div.sk-item {position: relative;z-index: 1;}#sk-container-id-3 div.sk-parallel {display: flex;align-items: stretch;justify-content: center;background-color: white;position: relative;}#sk-container-id-3 div.sk-item::before, #sk-container-id-3 div.sk-parallel-item::before {content: \"\";position: absolute;border-left: 1px solid gray;box-sizing: border-box;top: 0;bottom: 0;left: 50%;z-index: -1;}#sk-container-id-3 div.sk-parallel-item {display: flex;flex-direction: column;z-index: 1;position: relative;background-color: white;}#sk-container-id-3 div.sk-parallel-item:first-child::after {align-self: flex-end;width: 50%;}#sk-container-id-3 div.sk-parallel-item:last-child::after {align-self: flex-start;width: 50%;}#sk-container-id-3 div.sk-parallel-item:only-child::after {width: 0;}#sk-container-id-3 div.sk-dashed-wrapped {border: 1px dashed gray;margin: 0 0.4em 0.5em 0.4em;box-sizing: border-box;padding-bottom: 0.4em;background-color: white;}#sk-container-id-3 div.sk-label label {font-family: monospace;font-weight: bold;display: inline-block;line-height: 1.2em;}#sk-container-id-3 div.sk-label-container {text-align: center;}#sk-container-id-3 div.sk-container {/* jupyter's `normalize.less` sets `[hidden] { display: none; }` but bootstrap.min.css set `[hidden] { display: none !important; }` so we also need the `!important` here to be able to override the default hidden behavior on the sphinx rendered scikit-learn.org. See: https://github.com/scikit-learn/scikit-learn/issues/21755 */display: inline-block !important;position: relative;}#sk-container-id-3 div.sk-text-repr-fallback {display: none;}</style><div id=\"sk-container-id-3\" class=\"sk-top-container\"><div class=\"sk-text-repr-fallback\"><pre>LogisticRegression(max_iter=1000, random_state=1, solver=&#x27;liblinear&#x27;)</pre><b>In a Jupyter environment, please rerun this cell to show the HTML representation or trust the notebook. <br />On GitHub, the HTML representation is unable to render, please try loading this page with nbviewer.org.</b></div><div class=\"sk-container\" hidden><div class=\"sk-item\"><div class=\"sk-estimator sk-toggleable\"><input class=\"sk-toggleable__control sk-hidden--visually\" id=\"sk-estimator-id-3\" type=\"checkbox\" checked><label for=\"sk-estimator-id-3\" class=\"sk-toggleable__label sk-toggleable__label-arrow\">LogisticRegression</label><div class=\"sk-toggleable__content\"><pre>LogisticRegression(max_iter=1000, random_state=1, solver=&#x27;liblinear&#x27;)</pre></div></div></div></div></div>"
      ],
      "text/plain": [
       "LogisticRegression(max_iter=1000, random_state=1, solver='liblinear')"
      ]
     },
     "execution_count": 46,
     "metadata": {},
     "output_type": "execute_result"
    }
   ],
   "source": [
    "# BASIC LR with defult parameters\n",
    "modLoR = LogisticRegression(solver=\"liblinear\", C=1.0, max_iter=1000, random_state=1)\n",
    "modLoR.fit(X_TraLog, y_Tra)"
   ]
  },
  {
   "cell_type": "markdown",
   "id": "88d77abf",
   "metadata": {},
   "source": [
    "## Prediction on VAL dataset (version-3)"
   ]
  },
  {
   "cell_type": "code",
   "execution_count": 47,
   "id": "1cc5d94b",
   "metadata": {},
   "outputs": [
    {
     "data": {
      "text/plain": [
       "array([0.184, 0.178, 0.349, 0.154, 0.072, 0.883, 0.732, 0.048, 0.143,\n",
       "       0.805, 0.511, 0.488, 0.451, 0.113, 0.945, 0.977, 0.038, 0.492,\n",
       "       0.25 , 0.61 , 0.062, 0.613, 0.126, 0.224, 0.112, 0.73 , 0.995,\n",
       "       0.389, 0.206, 0.192, 0.156, 0.646, 0.322, 0.667, 0.171, 0.574,\n",
       "       0.455, 0.104, 0.575, 0.167, 0.555, 0.655, 0.204, 0.363, 0.094,\n",
       "       0.069, 0.1  , 0.524, 0.063, 0.154, 0.206, 0.074, 0.17 , 0.212,\n",
       "       0.249, 0.086, 0.658, 0.312, 0.47 , 0.857])"
      ]
     },
     "execution_count": 47,
     "metadata": {},
     "output_type": "execute_result"
    }
   ],
   "source": [
    "# keep only prediction of \"1\"\n",
    "y_prdValLog = modLoR.predict_proba(X_ValLog)[:,1]\n",
    "y_prdValLog.round(3)"
   ]
  },
  {
   "cell_type": "code",
   "execution_count": 48,
   "id": "afb401e5",
   "metadata": {},
   "outputs": [
    {
     "data": {
      "text/plain": [
       "(0.15533, 0.39412)"
      ]
     },
     "execution_count": 48,
     "metadata": {},
     "output_type": "execute_result"
    }
   ],
   "source": [
    "# Calc MSE and RMSE with sickit\n",
    "floMseLog = mean_squared_error(y_Val, y_prdValLog) \n",
    "floRmsLog = npy.sqrt(floMseLog)\n",
    "floMseLog.round(5) , floRmsLog.round(5)   "
   ]
  },
  {
   "cell_type": "code",
   "execution_count": 49,
   "id": "b03bd6c1",
   "metadata": {},
   "outputs": [
    {
     "data": {
      "text/plain": [
       "0.83431"
      ]
     },
     "execution_count": 49,
     "metadata": {},
     "output_type": "execute_result"
    }
   ],
   "source": [
    "# Calc ROC AUC\n",
    "floAucLog = roc_auc_score(y_Val, y_prdValLog)\n",
    "floAucLog.round(5)"
   ]
  },
  {
   "cell_type": "code",
   "execution_count": 50,
   "id": "ff91d218",
   "metadata": {},
   "outputs": [
    {
     "data": {
      "text/plain": [
       "((0.15493, 0.39361), (0.1498, 0.38705), (0.15533, 0.39412))"
      ]
     },
     "execution_count": 50,
     "metadata": {},
     "output_type": "execute_result"
    }
   ],
   "source": [
    "# Compare model with Fea CAT as numeric or as STR or Log\n",
    "(floMse.round(5) , floRms.round(5))   , (floMseStr.round(5) , floRmsStr.round(5))  , (floMseLog.round(5) , floRmsLog.round(5))"
   ]
  },
  {
   "cell_type": "code",
   "execution_count": 51,
   "id": "08d9b57c",
   "metadata": {},
   "outputs": [
    {
     "data": {
      "text/plain": [
       "(0.83549, 0.83901, 0.83431)"
      ]
     },
     "execution_count": 51,
     "metadata": {},
     "output_type": "execute_result"
    }
   ],
   "source": [
    "# Compare model with Fea CAT as numeric or as STR or Log\n",
    "floAuc.round(5) , floAucStr.round(5) , floAucLog.round(5)"
   ]
  },
  {
   "cell_type": "markdown",
   "id": "11f3709d",
   "metadata": {},
   "source": [
    "<div class=\"alert alert-block alert-success\">\n",
    "<b>Numerical Features in log1p:</b>\n",
    "    <br>Converting the 5 features with log1p <b>decrease</b> the quality of prediction.\n",
    "Drop the idea.\n",
    "</div>"
   ]
  }
 ],
 "metadata": {
  "celltoolbar": "Raw Cell Format",
  "kernelspec": {
   "display_name": "Python 3 (ipykernel)",
   "language": "python",
   "name": "python3"
  },
  "language_info": {
   "codemirror_mode": {
    "name": "ipython",
    "version": 3
   },
   "file_extension": ".py",
   "mimetype": "text/x-python",
   "name": "python",
   "nbconvert_exporter": "python",
   "pygments_lexer": "ipython3",
   "version": "3.9.11"
  }
 },
 "nbformat": 4,
 "nbformat_minor": 5
}
