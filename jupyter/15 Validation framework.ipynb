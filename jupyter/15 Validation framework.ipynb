{
 "cells": [
  {
   "cell_type": "markdown",
   "id": "5ace2bc5",
   "metadata": {},
   "source": [
    "### <center>MLZC Mid-Term project - Q4/2022<img align=\"right\" width=\"60\" height=\"60\" src=\"../media/heart.png\">"
   ]
  },
  {
   "cell_type": "markdown",
   "id": "14dfe89b",
   "metadata": {},
   "source": [
    "# 15 Validation Framework"
   ]
  },
  {
   "cell_type": "code",
   "execution_count": 1,
   "id": "09d78c2e",
   "metadata": {},
   "outputs": [
    {
     "data": {
      "text/plain": [
       "('1.23.4', '1.5.1')"
      ]
     },
     "execution_count": 1,
     "metadata": {},
     "output_type": "execute_result"
    }
   ],
   "source": [
    "import pandas as pda\n",
    "import numpy as npy\n",
    "\n",
    "npy.__version__ , pda.__version__"
   ]
  },
  {
   "cell_type": "code",
   "execution_count": 2,
   "id": "e00371a9",
   "metadata": {},
   "outputs": [],
   "source": [
    "import pickle\n",
    "from IPython.display import display"
   ]
  },
  {
   "cell_type": "code",
   "execution_count": 3,
   "id": "e1916ea9",
   "metadata": {},
   "outputs": [],
   "source": [
    "from sklearn.model_selection import train_test_split"
   ]
  },
  {
   "cell_type": "markdown",
   "id": "2753bb6b",
   "metadata": {},
   "source": [
    "#### Reload data from previous notebooks"
   ]
  },
  {
   "cell_type": "code",
   "execution_count": 4,
   "id": "23cac446",
   "metadata": {},
   "outputs": [
    {
     "data": {
      "text/plain": [
       "(299, 13)"
      ]
     },
     "execution_count": 4,
     "metadata": {},
     "output_type": "execute_result"
    }
   ],
   "source": [
    "strFil = '.\\pickle\\dfrMid.bin'\n",
    "with open(strFil, 'rb') as filIn: \n",
    "    dfrMid = pickle.load(filIn)\n",
    "dfrMid.shape"
   ]
  },
  {
   "cell_type": "code",
   "execution_count": 5,
   "id": "69fbd76e",
   "metadata": {},
   "outputs": [
    {
     "data": {
      "text/plain": [
       "13"
      ]
     },
     "execution_count": 5,
     "metadata": {},
     "output_type": "execute_result"
    }
   ],
   "source": [
    "strFil = '.\\pickle\\lstCol.bin'\n",
    "with open(strFil, 'rb') as filIn: \n",
    "    lstCol = pickle.load(filIn)\n",
    "len(lstCol)"
   ]
  },
  {
   "cell_type": "code",
   "execution_count": 6,
   "id": "7e13ff95",
   "metadata": {},
   "outputs": [
    {
     "data": {
      "text/plain": [
       "6"
      ]
     },
     "execution_count": 6,
     "metadata": {},
     "output_type": "execute_result"
    }
   ],
   "source": [
    "strFil = '.\\pickle\\lstColCat.bin'\n",
    "with open(strFil, 'rb') as filIn: \n",
    "    lstColCat = pickle.load(filIn)\n",
    "len(lstColCat)"
   ]
  },
  {
   "cell_type": "code",
   "execution_count": 7,
   "id": "4836c244",
   "metadata": {},
   "outputs": [
    {
     "data": {
      "text/plain": [
       "7"
      ]
     },
     "execution_count": 7,
     "metadata": {},
     "output_type": "execute_result"
    }
   ],
   "source": [
    "strFil = '.\\pickle\\lstColNum.bin'\n",
    "with open(strFil, 'rb') as filIn: \n",
    "    lstColNum = pickle.load(filIn)\n",
    "len(lstColNum)"
   ]
  },
  {
   "cell_type": "markdown",
   "id": "e1d6d016",
   "metadata": {},
   "source": [
    "## Build list of Features (num , cat) + Target"
   ]
  },
  {
   "cell_type": "code",
   "execution_count": 8,
   "id": "e9e92607",
   "metadata": {},
   "outputs": [
    {
     "data": {
      "text/plain": [
       "['anaemia', 'diabetes', 'high_blood_pressure', 'sex', 'smoking', 'death_event']"
      ]
     },
     "execution_count": 8,
     "metadata": {},
     "output_type": "execute_result"
    }
   ],
   "source": [
    "lstColCat"
   ]
  },
  {
   "cell_type": "code",
   "execution_count": 9,
   "id": "48a10c19",
   "metadata": {},
   "outputs": [
    {
     "name": "stdout",
     "output_type": "stream",
     "text": [
      "Target: death_event\n",
      "Features Categorical: ['anaemia', 'diabetes', 'high_blood_pressure', 'sex', 'smoking']\n",
      "Features Categorical: ['age', 'creatinine_phosphokinase', 'ejection_fraction', 'platelets', 'serum_creatinine', 'serum_sodium', 'time']\n"
     ]
    }
   ],
   "source": [
    "# let's define our Target and Cat-Features\n",
    "strTar = 'death_event'\n",
    "lstFeaCat = lstColCat\n",
    "lstFeaCat.remove(strTar)\n",
    "lstFeaNum = lstColNum\n",
    "print('Target:' , strTar)\n",
    "print('Features Categorical:' , lstFeaCat )\n",
    "print('Features Categorical:' , lstFeaNum )"
   ]
  },
  {
   "cell_type": "markdown",
   "id": "8b95c4f6",
   "metadata": {},
   "source": [
    "## Split Dataset"
   ]
  },
  {
   "cell_type": "code",
   "execution_count": 10,
   "id": "61cf0def",
   "metadata": {},
   "outputs": [
    {
     "data": {
      "text/plain": [
       "((299, 13), (239, 13), (179, 13), (60, 13), (60, 13))"
      ]
     },
     "execution_count": 10,
     "metadata": {},
     "output_type": "execute_result"
    }
   ],
   "source": [
    "dfrTraFul, dfrTst = train_test_split(dfrMid   , test_size=0.20, random_state=1)\n",
    "dfrTra   , dfrVal = train_test_split(dfrTraFul, test_size=0.25, random_state=1)\n",
    "\n",
    "dfrMid.shape , dfrTraFul.shape , dfrTra.shape, dfrVal.shape , dfrTst.shape"
   ]
  },
  {
   "cell_type": "code",
   "execution_count": 11,
   "id": "da2bad15",
   "metadata": {},
   "outputs": [
    {
     "data": {
      "text/plain": [
       "(299, 239, 179, 60, 60)"
      ]
     },
     "execution_count": 11,
     "metadata": {},
     "output_type": "execute_result"
    }
   ],
   "source": [
    "# Target variables\n",
    "y_TraFul = dfrTraFul[strTar].values\n",
    "y_Tra    = dfrTra   [strTar].values\n",
    "y_Val    = dfrVal   [strTar].values\n",
    "y_Tst    = dfrTst   [strTar].values\n",
    "len(dfrMid) , len(y_TraFul) , len(y_Tra) , len(y_Val) , len(y_Tst)"
   ]
  },
  {
   "cell_type": "code",
   "execution_count": 12,
   "id": "5ee50e25",
   "metadata": {},
   "outputs": [
    {
     "data": {
      "text/plain": [
       "((299, 13), (239, 13), (179, 12), (60, 12), (60, 12))"
      ]
     },
     "execution_count": 12,
     "metadata": {},
     "output_type": "execute_result"
    }
   ],
   "source": [
    "# Keep the Target in TraFul but remove form others !\n",
    "dfrTraFul.reset_index(drop=True) \n",
    "\n",
    "for dfr in [ dfrTra, dfrVal , dfrTst ]:\n",
    "    dfr.reset_index(drop=True , inplace=True)\n",
    "    dfr.drop(columns=[strTar] , axis=1 , inplace=True)\n",
    "\n",
    "dfrMid.shape , dfrTraFul.shape , dfrTra.shape, dfrVal.shape , dfrTst.shape"
   ]
  },
  {
   "cell_type": "markdown",
   "id": "6527088a",
   "metadata": {},
   "source": [
    "## Saving object for next notebooks (\\\\pickle)"
   ]
  },
  {
   "cell_type": "code",
   "execution_count": 13,
   "id": "f7b073ed",
   "metadata": {},
   "outputs": [],
   "source": [
    "strFil = '.\\pickle\\strTar.bin'\n",
    "with open(strFil, 'wb') as filOut: \n",
    "    pickle.dump(strTar, filOut)"
   ]
  },
  {
   "cell_type": "code",
   "execution_count": 14,
   "id": "61afbdcf",
   "metadata": {},
   "outputs": [],
   "source": [
    "strFil = '.\\pickle\\lstFeaCat.bin'\n",
    "with open(strFil, 'wb') as filOut: \n",
    "    pickle.dump(lstFeaCat, filOut)"
   ]
  },
  {
   "cell_type": "code",
   "execution_count": 15,
   "id": "8099ccbb",
   "metadata": {},
   "outputs": [],
   "source": [
    "strFil = '.\\pickle\\lstFeaNum.bin'\n",
    "with open(strFil, 'wb') as filOut: \n",
    "    pickle.dump(lstFeaNum, filOut)"
   ]
  },
  {
   "cell_type": "code",
   "execution_count": 16,
   "id": "f960cd23",
   "metadata": {},
   "outputs": [],
   "source": [
    "strFil = '.\\pickle\\dstTraFul.bin'\n",
    "with open(strFil, 'wb') as filOut: \n",
    "    pickle.dump([dfrTraFul, y_TraFul], filOut)"
   ]
  },
  {
   "cell_type": "code",
   "execution_count": 17,
   "id": "8e348ffb",
   "metadata": {},
   "outputs": [],
   "source": [
    "strFil = '.\\pickle\\dstTra.bin'\n",
    "with open(strFil, 'wb') as filOut: \n",
    "    pickle.dump([dfrTra, y_Tra], filOut)"
   ]
  },
  {
   "cell_type": "code",
   "execution_count": 18,
   "id": "ebe8572c",
   "metadata": {},
   "outputs": [],
   "source": [
    "strFil = '.\\pickle\\dstVal.bin'\n",
    "with open(strFil, 'wb') as filOut: \n",
    "    pickle.dump([dfrVal, y_Val], filOut)"
   ]
  },
  {
   "cell_type": "code",
   "execution_count": 19,
   "id": "0709f4cf",
   "metadata": {},
   "outputs": [],
   "source": [
    "strFil = '.\\pickle\\dstTst.bin'\n",
    "with open(strFil, 'wb') as filOut: \n",
    "    pickle.dump([dfrTst, y_Tst], filOut)"
   ]
  },
  {
   "cell_type": "code",
   "execution_count": 20,
   "id": "645ce2d3",
   "metadata": {},
   "outputs": [
    {
     "name": "stdout",
     "output_type": "stream",
     "text": [
      " Volume in drive C has no label.\n",
      " Volume Serial Number is E8A5-BC16\n",
      "\n",
      " Directory of C:\\Users\\alain\\Documents\\prv\\IT\\mlzc-mid\\jupyter\\pickle\n",
      "\n",
      "30/10/2022  20:42    <DIR>          .\n",
      "30/10/2022  20:42    <DIR>          ..\n",
      "30/10/2022  17:48             1,730 dfrFea.bin\n",
      "06/11/2022  18:32            32,141 dfrMid.bin\n",
      "06/11/2022  18:37            19,707 dstTra.bin\n",
      "06/11/2022  18:37            29,802 dstTraFul.bin\n",
      "06/11/2022  18:37             7,331 dstTst.bin\n",
      "06/11/2022  18:37             7,331 dstVal.bin\n",
      "06/11/2022  18:32               195 lstCol.bin\n",
      "06/11/2022  18:36                89 lstColCat.bin\n",
      "06/11/2022  18:36               122 lstColNum.bin\n",
      "06/11/2022  18:37                75 lstFeaCat.bin\n",
      "06/11/2022  18:37               122 lstFeaNum.bin\n",
      "03/11/2022  13:02                 0 modLoR.bin\n",
      "06/11/2022  18:37                26 strTar.bin\n",
      "              13 File(s)         98,671 bytes\n",
      "               2 Dir(s)  88,279,355,392 bytes free\n"
     ]
    }
   ],
   "source": [
    "!dir .\\pickle\\*.*"
   ]
  },
  {
   "cell_type": "code",
   "execution_count": null,
   "id": "6a2f3dda",
   "metadata": {},
   "outputs": [],
   "source": []
  }
 ],
 "metadata": {
  "celltoolbar": "Raw Cell Format",
  "kernelspec": {
   "display_name": "Python 3 (ipykernel)",
   "language": "python",
   "name": "python3"
  },
  "language_info": {
   "codemirror_mode": {
    "name": "ipython",
    "version": 3
   },
   "file_extension": ".py",
   "mimetype": "text/x-python",
   "name": "python",
   "nbconvert_exporter": "python",
   "pygments_lexer": "ipython3",
   "version": "3.9.11"
  }
 },
 "nbformat": 4,
 "nbformat_minor": 5
}
