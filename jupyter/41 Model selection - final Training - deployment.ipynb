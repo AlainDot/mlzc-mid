{
 "cells": [
  {
   "cell_type": "markdown",
   "id": "5ace2bc5",
   "metadata": {},
   "source": [
    "### <center>MLZC Mid-Term project - Q4/2022<img align=\"right\" width=\"60\" height=\"60\" src=\"../media/heart.png\">"
   ]
  },
  {
   "cell_type": "markdown",
   "id": "14dfe89b",
   "metadata": {},
   "source": [
    "# 41 Model selection - final Training - deployment (bentoml)"
   ]
  },
  {
   "cell_type": "markdown",
   "id": "29fe59a1",
   "metadata": {},
   "source": [
    "<h3>Recap of tested models</h3> (ROC AUC on VAL-idation dataset):\n",
    "\n",
    "<ul>\n",
    "\n",
    "<li>Logistic Regression: \n",
    "<br>floAucSca = <b>0.84019</b> \n",
    "<br>(See: 21 Logistic Regression - Binary classification Optimization)\n",
    "\n",
    "<li>Decision Tree Classifier: \n",
    "<br>floAucValDtc = <b>0.93831</b> \n",
    "<br>(See: 31 Tree)\n",
    "\n",
    "<li>Random Forest: \n",
    "<br>floAucValRfo = <b>0.93302</b> \n",
    "<br>(See: 31 Tree)\n",
    "\n",
    "<li><b>Xgboost</b>: \n",
    "<br>floAucValXgb = <b>0.94595</b> \n",
    "<br>(See: 31 Tree)\n",
    "    \n",
    "</ul>"
   ]
  },
  {
   "cell_type": "markdown",
   "id": "9f4e1d80",
   "metadata": {},
   "source": [
    "<div class=\"alert alert-block alert-success\">\n",
    "<b>Xgboost</b> with the optimized parameters is the winner for this dataset.\n",
    "<p>We will re-train it with the \"Full Train\", test it with the \"Test\" dataset and save it for deployment    \n",
    "</div>"
   ]
  },
  {
   "cell_type": "code",
   "execution_count": 1,
   "id": "09d78c2e",
   "metadata": {},
   "outputs": [
    {
     "data": {
      "text/plain": [
       "('1.23.4', '1.5.1')"
      ]
     },
     "execution_count": 1,
     "metadata": {},
     "output_type": "execute_result"
    }
   ],
   "source": [
    "import pandas as pda\n",
    "import numpy as npy\n",
    "\n",
    "npy.__version__ , pda.__version__"
   ]
  },
  {
   "cell_type": "code",
   "execution_count": 2,
   "id": "e00371a9",
   "metadata": {},
   "outputs": [],
   "source": [
    "import pickle\n",
    "from IPython.display import display"
   ]
  },
  {
   "cell_type": "code",
   "execution_count": 3,
   "id": "e9b8d20d",
   "metadata": {},
   "outputs": [],
   "source": [
    "from sklearn.feature_extraction import DictVectorizer\n",
    "from sklearn.metrics import roc_auc_score"
   ]
  },
  {
   "cell_type": "code",
   "execution_count": 4,
   "id": "a54f2a22",
   "metadata": {},
   "outputs": [],
   "source": [
    "import xgboost as xgb"
   ]
  },
  {
   "cell_type": "code",
   "execution_count": 5,
   "id": "f4aa8ab0",
   "metadata": {},
   "outputs": [],
   "source": [
    "from pydantic import BaseModel"
   ]
  },
  {
   "cell_type": "code",
   "execution_count": 6,
   "id": "f773a1be",
   "metadata": {},
   "outputs": [
    {
     "data": {
      "text/plain": [
       "'1.0.7'"
      ]
     },
     "execution_count": 6,
     "metadata": {},
     "output_type": "execute_result"
    }
   ],
   "source": [
    "import bentoml\n",
    "bentoml.__version__"
   ]
  },
  {
   "cell_type": "code",
   "execution_count": 7,
   "id": "8f05c1f0",
   "metadata": {},
   "outputs": [],
   "source": [
    "import json"
   ]
  },
  {
   "cell_type": "code",
   "execution_count": 8,
   "id": "7b43bb47",
   "metadata": {},
   "outputs": [],
   "source": [
    "import requests"
   ]
  },
  {
   "cell_type": "markdown",
   "id": "2753bb6b",
   "metadata": {},
   "source": [
    "#### Reload data from previous notebooks"
   ]
  },
  {
   "cell_type": "code",
   "execution_count": 9,
   "id": "7702daa0",
   "metadata": {},
   "outputs": [
    {
     "data": {
      "text/plain": [
       "((239, 13), 239)"
      ]
     },
     "execution_count": 9,
     "metadata": {},
     "output_type": "execute_result"
    }
   ],
   "source": [
    "# use TRAin FULL dataset\n",
    "strFil = '.\\pickle\\dstTraFul.bin'\n",
    "with open(strFil, 'rb') as filIn: \n",
    "    dfrTraFul, y_TraFul = pickle.load(filIn)\n",
    "dfrTraFul.shape , len(y_TraFul)"
   ]
  },
  {
   "cell_type": "code",
   "execution_count": 10,
   "id": "6d170b48",
   "metadata": {},
   "outputs": [
    {
     "data": {
      "text/plain": [
       "((179, 12), 179)"
      ]
     },
     "execution_count": 10,
     "metadata": {},
     "output_type": "execute_result"
    }
   ],
   "source": [
    "# use TRAin dataset\n",
    "strFil = '.\\pickle\\dstTra.bin'\n",
    "with open(strFil, 'rb') as filIn: \n",
    "    dfrTra, y_Tra = pickle.load(filIn)\n",
    "dfrTra.shape , len(y_Tra)"
   ]
  },
  {
   "cell_type": "code",
   "execution_count": 11,
   "id": "b6380468",
   "metadata": {},
   "outputs": [
    {
     "data": {
      "text/plain": [
       "((60, 12), 60)"
      ]
     },
     "execution_count": 11,
     "metadata": {},
     "output_type": "execute_result"
    }
   ],
   "source": [
    "# check wil VALidation dataset\n",
    "strFil = '.\\pickle\\dstVal.bin'\n",
    "with open(strFil, 'rb') as filIn: \n",
    "    dfrVal, y_Val = pickle.load(filIn)\n",
    "dfrVal.shape , len(y_Val)"
   ]
  },
  {
   "cell_type": "code",
   "execution_count": 12,
   "id": "b1fecc48",
   "metadata": {},
   "outputs": [
    {
     "data": {
      "text/plain": [
       "((60, 12), 60)"
      ]
     },
     "execution_count": 12,
     "metadata": {},
     "output_type": "execute_result"
    }
   ],
   "source": [
    "# use TST dataset\n",
    "strFil = '.\\pickle\\dstTst.bin'\n",
    "with open(strFil, 'rb') as filIn: \n",
    "    dfrTst, y_Tst = pickle.load(filIn)\n",
    "dfrTst.shape , len(y_Tst)"
   ]
  },
  {
   "cell_type": "code",
   "execution_count": 13,
   "id": "69fbd76e",
   "metadata": {},
   "outputs": [
    {
     "data": {
      "text/plain": [
       "'death_event'"
      ]
     },
     "execution_count": 13,
     "metadata": {},
     "output_type": "execute_result"
    }
   ],
   "source": [
    "strFil = '.\\pickle\\strTar.bin'\n",
    "with open(strFil, 'rb') as filIn: \n",
    "    strTar = pickle.load(filIn)\n",
    "strTar"
   ]
  },
  {
   "cell_type": "code",
   "execution_count": 14,
   "id": "7e13ff95",
   "metadata": {},
   "outputs": [
    {
     "data": {
      "text/html": [
       "<div>\n",
       "<style scoped>\n",
       "    .dataframe tbody tr th:only-of-type {\n",
       "        vertical-align: middle;\n",
       "    }\n",
       "\n",
       "    .dataframe tbody tr th {\n",
       "        vertical-align: top;\n",
       "    }\n",
       "\n",
       "    .dataframe thead th {\n",
       "        text-align: right;\n",
       "    }\n",
       "</style>\n",
       "<table border=\"1\" class=\"dataframe\">\n",
       "  <thead>\n",
       "    <tr style=\"text-align: right;\">\n",
       "      <th></th>\n",
       "      <th>FeaTyp</th>\n",
       "      <th>Cor</th>\n",
       "      <th>CorAbs</th>\n",
       "      <th>Log</th>\n",
       "      <th>LogBst</th>\n",
       "      <th>LogCor</th>\n",
       "      <th>LogCorAbs</th>\n",
       "      <th>Auc</th>\n",
       "    </tr>\n",
       "  </thead>\n",
       "  <tbody>\n",
       "    <tr>\n",
       "      <th>anaemia</th>\n",
       "      <td>Cat</td>\n",
       "      <td>0.040565</td>\n",
       "      <td>0.040565</td>\n",
       "      <td>NaN</td>\n",
       "      <td>NaN</td>\n",
       "      <td>NaN</td>\n",
       "      <td>NaN</td>\n",
       "      <td>0.521244</td>\n",
       "    </tr>\n",
       "    <tr>\n",
       "      <th>diabetes</th>\n",
       "      <td>Cat</td>\n",
       "      <td>0.030201</td>\n",
       "      <td>0.030201</td>\n",
       "      <td>NaN</td>\n",
       "      <td>NaN</td>\n",
       "      <td>NaN</td>\n",
       "      <td>NaN</td>\n",
       "      <td>0.515691</td>\n",
       "    </tr>\n",
       "    <tr>\n",
       "      <th>high_blood_pressure</th>\n",
       "      <td>Cat</td>\n",
       "      <td>0.053208</td>\n",
       "      <td>0.053208</td>\n",
       "      <td>NaN</td>\n",
       "      <td>NaN</td>\n",
       "      <td>NaN</td>\n",
       "      <td>NaN</td>\n",
       "      <td>0.526604</td>\n",
       "    </tr>\n",
       "    <tr>\n",
       "      <th>sex</th>\n",
       "      <td>Cat</td>\n",
       "      <td>0.008830</td>\n",
       "      <td>0.008830</td>\n",
       "      <td>NaN</td>\n",
       "      <td>NaN</td>\n",
       "      <td>NaN</td>\n",
       "      <td>NaN</td>\n",
       "      <td>0.504428</td>\n",
       "    </tr>\n",
       "    <tr>\n",
       "      <th>smoking</th>\n",
       "      <td>Cat</td>\n",
       "      <td>-0.013503</td>\n",
       "      <td>0.013503</td>\n",
       "      <td>NaN</td>\n",
       "      <td>NaN</td>\n",
       "      <td>NaN</td>\n",
       "      <td>NaN</td>\n",
       "      <td>0.506525</td>\n",
       "    </tr>\n",
       "    <tr>\n",
       "      <th>age</th>\n",
       "      <td>Num</td>\n",
       "      <td>0.226820</td>\n",
       "      <td>0.226820</td>\n",
       "      <td>-</td>\n",
       "      <td>-5.0</td>\n",
       "      <td>0.215981</td>\n",
       "      <td>0.215981</td>\n",
       "      <td>0.616009</td>\n",
       "    </tr>\n",
       "    <tr>\n",
       "      <th>creatinine_phosphokinase</th>\n",
       "      <td>Num</td>\n",
       "      <td>0.085204</td>\n",
       "      <td>0.085204</td>\n",
       "      <td>-</td>\n",
       "      <td>-32.0</td>\n",
       "      <td>0.057817</td>\n",
       "      <td>0.057817</td>\n",
       "      <td>0.526293</td>\n",
       "    </tr>\n",
       "    <tr>\n",
       "      <th>ejection_fraction</th>\n",
       "      <td>Num</td>\n",
       "      <td>-0.252100</td>\n",
       "      <td>0.252100</td>\n",
       "      <td>+</td>\n",
       "      <td>19.0</td>\n",
       "      <td>-0.299468</td>\n",
       "      <td>0.299468</td>\n",
       "      <td>0.663780</td>\n",
       "    </tr>\n",
       "    <tr>\n",
       "      <th>platelets</th>\n",
       "      <td>Num</td>\n",
       "      <td>-0.069756</td>\n",
       "      <td>0.069756</td>\n",
       "      <td>+</td>\n",
       "      <td>26.0</td>\n",
       "      <td>-0.087695</td>\n",
       "      <td>0.087695</td>\n",
       "      <td>0.544275</td>\n",
       "    </tr>\n",
       "    <tr>\n",
       "      <th>serum_creatinine</th>\n",
       "      <td>Num</td>\n",
       "      <td>0.312228</td>\n",
       "      <td>0.312228</td>\n",
       "      <td>+</td>\n",
       "      <td>15.0</td>\n",
       "      <td>0.359451</td>\n",
       "      <td>0.359451</td>\n",
       "      <td>0.725183</td>\n",
       "    </tr>\n",
       "    <tr>\n",
       "      <th>serum_sodium</th>\n",
       "      <td>Num</td>\n",
       "      <td>-0.203004</td>\n",
       "      <td>0.203004</td>\n",
       "      <td>-</td>\n",
       "      <td>-0.0</td>\n",
       "      <td>-0.202032</td>\n",
       "      <td>0.202032</td>\n",
       "      <td>0.642225</td>\n",
       "    </tr>\n",
       "    <tr>\n",
       "      <th>time</th>\n",
       "      <td>Num</td>\n",
       "      <td>-0.519556</td>\n",
       "      <td>0.519556</td>\n",
       "      <td>+</td>\n",
       "      <td>9.0</td>\n",
       "      <td>-0.567556</td>\n",
       "      <td>0.567556</td>\n",
       "      <td>0.827326</td>\n",
       "    </tr>\n",
       "  </tbody>\n",
       "</table>\n",
       "</div>"
      ],
      "text/plain": [
       "                         FeaTyp       Cor    CorAbs  Log  LogBst    LogCor  \\\n",
       "anaemia                     Cat  0.040565  0.040565  NaN     NaN       NaN   \n",
       "diabetes                    Cat  0.030201  0.030201  NaN     NaN       NaN   \n",
       "high_blood_pressure         Cat  0.053208  0.053208  NaN     NaN       NaN   \n",
       "sex                         Cat  0.008830  0.008830  NaN     NaN       NaN   \n",
       "smoking                     Cat -0.013503  0.013503  NaN     NaN       NaN   \n",
       "age                         Num  0.226820  0.226820    -    -5.0  0.215981   \n",
       "creatinine_phosphokinase    Num  0.085204  0.085204    -   -32.0  0.057817   \n",
       "ejection_fraction           Num -0.252100  0.252100    +    19.0 -0.299468   \n",
       "platelets                   Num -0.069756  0.069756    +    26.0 -0.087695   \n",
       "serum_creatinine            Num  0.312228  0.312228    +    15.0  0.359451   \n",
       "serum_sodium                Num -0.203004  0.203004    -    -0.0 -0.202032   \n",
       "time                        Num -0.519556  0.519556    +     9.0 -0.567556   \n",
       "\n",
       "                          LogCorAbs       Auc  \n",
       "anaemia                         NaN  0.521244  \n",
       "diabetes                        NaN  0.515691  \n",
       "high_blood_pressure             NaN  0.526604  \n",
       "sex                             NaN  0.504428  \n",
       "smoking                         NaN  0.506525  \n",
       "age                        0.215981  0.616009  \n",
       "creatinine_phosphokinase   0.057817  0.526293  \n",
       "ejection_fraction          0.299468  0.663780  \n",
       "platelets                  0.087695  0.544275  \n",
       "serum_creatinine           0.359451  0.725183  \n",
       "serum_sodium               0.202032  0.642225  \n",
       "time                       0.567556  0.827326  "
      ]
     },
     "execution_count": 14,
     "metadata": {},
     "output_type": "execute_result"
    }
   ],
   "source": [
    "strFil = '.\\pickle\\dfrFea.bin'\n",
    "with open(strFil, 'rb') as filIn: \n",
    "    dfrFea = pickle.load(filIn)\n",
    "dfrFea"
   ]
  },
  {
   "cell_type": "code",
   "execution_count": 15,
   "id": "e63a8706",
   "metadata": {},
   "outputs": [
    {
     "data": {
      "text/html": [
       "<div>\n",
       "<style scoped>\n",
       "    .dataframe tbody tr th:only-of-type {\n",
       "        vertical-align: middle;\n",
       "    }\n",
       "\n",
       "    .dataframe tbody tr th {\n",
       "        vertical-align: top;\n",
       "    }\n",
       "\n",
       "    .dataframe thead th {\n",
       "        text-align: right;\n",
       "    }\n",
       "</style>\n",
       "<table border=\"1\" class=\"dataframe\">\n",
       "  <thead>\n",
       "    <tr style=\"text-align: right;\">\n",
       "      <th></th>\n",
       "      <th>age</th>\n",
       "      <th>anaemia</th>\n",
       "      <th>creatinine_phosphokinase</th>\n",
       "      <th>diabetes</th>\n",
       "      <th>ejection_fraction</th>\n",
       "      <th>high_blood_pressure</th>\n",
       "      <th>platelets</th>\n",
       "      <th>serum_creatinine</th>\n",
       "      <th>serum_sodium</th>\n",
       "      <th>sex</th>\n",
       "      <th>smoking</th>\n",
       "      <th>time</th>\n",
       "    </tr>\n",
       "  </thead>\n",
       "  <tbody>\n",
       "    <tr>\n",
       "      <th>161</th>\n",
       "      <td>45.0</td>\n",
       "      <td>1</td>\n",
       "      <td>130</td>\n",
       "      <td>0</td>\n",
       "      <td>35</td>\n",
       "      <td>0</td>\n",
       "      <td>174000.0</td>\n",
       "      <td>0.8</td>\n",
       "      <td>139</td>\n",
       "      <td>1</td>\n",
       "      <td>1</td>\n",
       "      <td>121</td>\n",
       "    </tr>\n",
       "    <tr>\n",
       "      <th>260</th>\n",
       "      <td>55.0</td>\n",
       "      <td>0</td>\n",
       "      <td>66</td>\n",
       "      <td>0</td>\n",
       "      <td>40</td>\n",
       "      <td>0</td>\n",
       "      <td>203000.0</td>\n",
       "      <td>1.0</td>\n",
       "      <td>138</td>\n",
       "      <td>1</td>\n",
       "      <td>0</td>\n",
       "      <td>233</td>\n",
       "    </tr>\n",
       "    <tr>\n",
       "      <th>218</th>\n",
       "      <td>68.0</td>\n",
       "      <td>1</td>\n",
       "      <td>1021</td>\n",
       "      <td>1</td>\n",
       "      <td>35</td>\n",
       "      <td>0</td>\n",
       "      <td>271000.0</td>\n",
       "      <td>1.1</td>\n",
       "      <td>134</td>\n",
       "      <td>1</td>\n",
       "      <td>0</td>\n",
       "      <td>197</td>\n",
       "    </tr>\n",
       "    <tr>\n",
       "      <th>123</th>\n",
       "      <td>60.0</td>\n",
       "      <td>1</td>\n",
       "      <td>582</td>\n",
       "      <td>0</td>\n",
       "      <td>30</td>\n",
       "      <td>1</td>\n",
       "      <td>127000.0</td>\n",
       "      <td>0.9</td>\n",
       "      <td>145</td>\n",
       "      <td>0</td>\n",
       "      <td>0</td>\n",
       "      <td>95</td>\n",
       "    </tr>\n",
       "    <tr>\n",
       "      <th>39</th>\n",
       "      <td>60.0</td>\n",
       "      <td>0</td>\n",
       "      <td>235</td>\n",
       "      <td>1</td>\n",
       "      <td>38</td>\n",
       "      <td>0</td>\n",
       "      <td>329000.0</td>\n",
       "      <td>3.0</td>\n",
       "      <td>142</td>\n",
       "      <td>0</td>\n",
       "      <td>0</td>\n",
       "      <td>30</td>\n",
       "    </tr>\n",
       "    <tr>\n",
       "      <th>...</th>\n",
       "      <td>...</td>\n",
       "      <td>...</td>\n",
       "      <td>...</td>\n",
       "      <td>...</td>\n",
       "      <td>...</td>\n",
       "      <td>...</td>\n",
       "      <td>...</td>\n",
       "      <td>...</td>\n",
       "      <td>...</td>\n",
       "      <td>...</td>\n",
       "      <td>...</td>\n",
       "      <td>...</td>\n",
       "    </tr>\n",
       "    <tr>\n",
       "      <th>203</th>\n",
       "      <td>60.0</td>\n",
       "      <td>0</td>\n",
       "      <td>59</td>\n",
       "      <td>0</td>\n",
       "      <td>25</td>\n",
       "      <td>1</td>\n",
       "      <td>212000.0</td>\n",
       "      <td>3.5</td>\n",
       "      <td>136</td>\n",
       "      <td>1</td>\n",
       "      <td>1</td>\n",
       "      <td>187</td>\n",
       "    </tr>\n",
       "    <tr>\n",
       "      <th>255</th>\n",
       "      <td>52.0</td>\n",
       "      <td>1</td>\n",
       "      <td>191</td>\n",
       "      <td>1</td>\n",
       "      <td>30</td>\n",
       "      <td>1</td>\n",
       "      <td>334000.0</td>\n",
       "      <td>1.0</td>\n",
       "      <td>142</td>\n",
       "      <td>1</td>\n",
       "      <td>1</td>\n",
       "      <td>216</td>\n",
       "    </tr>\n",
       "    <tr>\n",
       "      <th>72</th>\n",
       "      <td>85.0</td>\n",
       "      <td>0</td>\n",
       "      <td>5882</td>\n",
       "      <td>0</td>\n",
       "      <td>35</td>\n",
       "      <td>0</td>\n",
       "      <td>243000.0</td>\n",
       "      <td>1.0</td>\n",
       "      <td>132</td>\n",
       "      <td>1</td>\n",
       "      <td>1</td>\n",
       "      <td>72</td>\n",
       "    </tr>\n",
       "    <tr>\n",
       "      <th>235</th>\n",
       "      <td>77.0</td>\n",
       "      <td>1</td>\n",
       "      <td>109</td>\n",
       "      <td>0</td>\n",
       "      <td>50</td>\n",
       "      <td>1</td>\n",
       "      <td>406000.0</td>\n",
       "      <td>1.1</td>\n",
       "      <td>137</td>\n",
       "      <td>1</td>\n",
       "      <td>0</td>\n",
       "      <td>209</td>\n",
       "    </tr>\n",
       "    <tr>\n",
       "      <th>37</th>\n",
       "      <td>82.0</td>\n",
       "      <td>1</td>\n",
       "      <td>855</td>\n",
       "      <td>1</td>\n",
       "      <td>50</td>\n",
       "      <td>1</td>\n",
       "      <td>321000.0</td>\n",
       "      <td>1.0</td>\n",
       "      <td>145</td>\n",
       "      <td>0</td>\n",
       "      <td>0</td>\n",
       "      <td>30</td>\n",
       "    </tr>\n",
       "  </tbody>\n",
       "</table>\n",
       "<p>239 rows × 12 columns</p>\n",
       "</div>"
      ],
      "text/plain": [
       "      age anaemia  creatinine_phosphokinase diabetes  ejection_fraction  \\\n",
       "161  45.0       1                       130        0                 35   \n",
       "260  55.0       0                        66        0                 40   \n",
       "218  68.0       1                      1021        1                 35   \n",
       "123  60.0       1                       582        0                 30   \n",
       "39   60.0       0                       235        1                 38   \n",
       "..    ...     ...                       ...      ...                ...   \n",
       "203  60.0       0                        59        0                 25   \n",
       "255  52.0       1                       191        1                 30   \n",
       "72   85.0       0                      5882        0                 35   \n",
       "235  77.0       1                       109        0                 50   \n",
       "37   82.0       1                       855        1                 50   \n",
       "\n",
       "    high_blood_pressure  platelets  serum_creatinine  serum_sodium sex  \\\n",
       "161                   0   174000.0               0.8           139   1   \n",
       "260                   0   203000.0               1.0           138   1   \n",
       "218                   0   271000.0               1.1           134   1   \n",
       "123                   1   127000.0               0.9           145   0   \n",
       "39                    0   329000.0               3.0           142   0   \n",
       "..                  ...        ...               ...           ...  ..   \n",
       "203                   1   212000.0               3.5           136   1   \n",
       "255                   1   334000.0               1.0           142   1   \n",
       "72                    0   243000.0               1.0           132   1   \n",
       "235                   1   406000.0               1.1           137   1   \n",
       "37                    1   321000.0               1.0           145   0   \n",
       "\n",
       "    smoking  time  \n",
       "161       1   121  \n",
       "260       0   233  \n",
       "218       0   197  \n",
       "123       0    95  \n",
       "39        0    30  \n",
       "..      ...   ...  \n",
       "203       1   187  \n",
       "255       1   216  \n",
       "72        1    72  \n",
       "235       0   209  \n",
       "37        0    30  \n",
       "\n",
       "[239 rows x 12 columns]"
      ]
     },
     "execution_count": 15,
     "metadata": {},
     "output_type": "execute_result"
    }
   ],
   "source": [
    "dfrTraFul = dfrTraFul.drop( ['death_event'] , axis=1)\n",
    "dfrTraFul"
   ]
  },
  {
   "cell_type": "markdown",
   "id": "312ddce5",
   "metadata": {},
   "source": [
    "### xgboost: Final"
   ]
  },
  {
   "cell_type": "markdown",
   "id": "4ad7bf0b",
   "metadata": {},
   "source": [
    "<div class=\"alert alert-block alert-danger\">\n",
    "    As in the Bentoml lesson, we will <b>remove</b> the features names:\n",
    "\n",
    "<p>Train Before:  \n",
    "<br>lstFea = dvt.get_feature_names_out().tolist()\n",
    "<br>dmaTraFul = xgb.DMatrix(X_TraFul, label=y_TraFul, feature_names=lstFea)\n",
    "<p>Train After:  \n",
    "<br>dmaTraFul = xgb.DMatrix(X_TraFul, label=y_TraFul)\n",
    "    \n",
    "</div>"
   ]
  },
  {
   "cell_type": "markdown",
   "id": "b34cff14",
   "metadata": {},
   "source": [
    "### Before"
   ]
  },
  {
   "cell_type": "code",
   "execution_count": 16,
   "id": "d5eff424",
   "metadata": {},
   "outputs": [],
   "source": [
    "# Before\n",
    "\n",
    "# dvt = DictVectorizer(sparse=False)\n",
    "# dicTraFul = dfrTraFul.to_dict(orient='records')\n",
    "# X_TraFul = dvt.fit_transform(dicTraFul)\n",
    "# lstFea = dvt.get_feature_names_out().tolist()\n",
    "# dmaTraFul = xgb.DMatrix(X_TraFul, label=y_TraFul, feature_names=lstFea)\n",
    "\n",
    "# dicTst = dfrTst.to_dict(orient='records')\n",
    "# X_Tst = dvt.transform(dicTst)\n",
    "# dmaTst = xgb.DMatrix(X_Tst, label=y_Tst, feature_names=lstFea)\n",
    "\n",
    "# ( dmaTraFul.num_col() , dmaTraFul.num_row() ), len(y_TraFul) , ( dmaTst.num_col() , dmaTst.num_row() ) "
   ]
  },
  {
   "cell_type": "code",
   "execution_count": 17,
   "id": "2fae9a2a",
   "metadata": {},
   "outputs": [],
   "source": [
    "# watchlist = [(dmaTraFul, 'train'), (dmaTst, 'val')]\n",
    "\n",
    "# xgb_params = { \n",
    "#     'eta': 0.5, \n",
    "#     'max_depth': 2,\n",
    "#     'min_child_weight': 2,\n",
    "#     'objective': 'binary:logistic',\n",
    "#     'eval_metric': 'auc',\n",
    "#     'nthread': 8, 'seed': 1, 'verbosity': 1  }\n",
    "\n",
    "# modXgb = xgb.train(xgb_params, dmaTraFul, num_boost_round=125 ,\n",
    "#                evals=watchlist , verbose_eval=125 )"
   ]
  },
  {
   "cell_type": "markdown",
   "id": "ca4d646e",
   "metadata": {},
   "source": [
    "### After"
   ]
  },
  {
   "cell_type": "code",
   "execution_count": 18,
   "id": "fb2a83e9",
   "metadata": {},
   "outputs": [
    {
     "data": {
      "text/plain": [
       "((17, 239), (17, 60), 239)"
      ]
     },
     "execution_count": 18,
     "metadata": {},
     "output_type": "execute_result"
    }
   ],
   "source": [
    "# After\n",
    "dvt = DictVectorizer(sparse=False)\n",
    "dicTraFul = dfrTraFul.to_dict(orient='records')\n",
    "X_TraFul = dvt.fit_transform(dicTraFul)\n",
    "#lstFea = dvt.get_feature_names_out().tolist()\n",
    "#dmaTraFul = xgb.DMatrix(X_TraFul, label=y_TraFul, feature_names=lstFea)\n",
    "dmaTraFul = xgb.DMatrix(X_TraFul, label=y_TraFul )\n",
    "\n",
    "dicTst = dfrTst.to_dict(orient='records')\n",
    "X_Tst = dvt.transform(dicTst)\n",
    "#dmaTst = xgb.DMatrix(X_Tst, label=y_Tst)\n",
    "dmaTst = xgb.DMatrix(X_Tst)\n",
    "\n",
    "( dmaTraFul.num_col() , dmaTraFul.num_row() ) , ( dmaTst.num_col() , dmaTst.num_row() ) , len(y_TraFul)"
   ]
  },
  {
   "cell_type": "code",
   "execution_count": 19,
   "id": "d0d4bc67",
   "metadata": {},
   "outputs": [],
   "source": [
    "xgb_params = { \n",
    "    'eta': 0.5, \n",
    "    'max_depth': 2,\n",
    "    'min_child_weight': 2,\n",
    "    'objective': 'binary:logistic',\n",
    "    'eval_metric': 'auc',\n",
    "    'nthread': 8, 'seed': 1, 'verbosity': 1  }\n",
    "\n",
    "modXgb = xgb.train(xgb_params, dmaTraFul, num_boost_round=125 )"
   ]
  },
  {
   "cell_type": "code",
   "execution_count": 20,
   "id": "f52cde5b",
   "metadata": {},
   "outputs": [
    {
     "data": {
      "text/plain": [
       "0.9223602484472049"
      ]
     },
     "execution_count": 20,
     "metadata": {},
     "output_type": "execute_result"
    }
   ],
   "source": [
    "# Predict on TST   \n",
    "y_PrdTst = modXgb.predict(dmaTst)\n",
    "floAucTstXgb = roc_auc_score(y_Tst, y_PrdTst)\n",
    "floAucTstXgb"
   ]
  },
  {
   "cell_type": "code",
   "execution_count": 21,
   "id": "7bdee66c",
   "metadata": {},
   "outputs": [
    {
     "data": {
      "text/plain": [
       "1.0"
      ]
     },
     "execution_count": 21,
     "metadata": {},
     "output_type": "execute_result"
    }
   ],
   "source": [
    "# Predict on Tra (curiosity) \n",
    "dicTra = dfrTra.to_dict(orient='records')\n",
    "X_Tra = dvt.transform(dicTra)\n",
    "dmaTra = xgb.DMatrix(X_Tra)\n",
    "\n",
    "y_PrdTra = modXgb.predict(dmaTra)\n",
    "floAucTraXgb = roc_auc_score(y_Tra, y_PrdTra)\n",
    "floAucTraXgb"
   ]
  },
  {
   "cell_type": "code",
   "execution_count": 22,
   "id": "5742318e",
   "metadata": {
    "scrolled": true
   },
   "outputs": [
    {
     "data": {
      "text/plain": [
       "1.0"
      ]
     },
     "execution_count": 22,
     "metadata": {},
     "output_type": "execute_result"
    }
   ],
   "source": [
    "# Predict on TraFul (curiosity) \n",
    "dicTraFul = dfrTraFul.to_dict(orient='records')\n",
    "X_TraFul = dvt.transform(dicTraFul)\n",
    "dmaTraFul = xgb.DMatrix(X_TraFul)\n",
    "\n",
    "y_PrdTraFul = modXgb.predict(dmaTraFul)\n",
    "floAucTraFulXgb = roc_auc_score(y_TraFul, y_PrdTraFul)\n",
    "floAucTraXgb"
   ]
  },
  {
   "cell_type": "code",
   "execution_count": 23,
   "id": "27bf68fb",
   "metadata": {},
   "outputs": [
    {
     "data": {
      "text/plain": [
       "1.0"
      ]
     },
     "execution_count": 23,
     "metadata": {},
     "output_type": "execute_result"
    }
   ],
   "source": [
    "# Predict on Val (curiosity) \n",
    "dicVal = dfrVal.to_dict(orient='records')\n",
    "X_Val = dvt.transform(dicVal)\n",
    "dmaVal = xgb.DMatrix(X_Val)\n",
    "\n",
    "y_PrdVal = modXgb.predict(dmaVal)\n",
    "floAucValXgb = roc_auc_score(y_Val, y_PrdVal)\n",
    "floAucValXgb"
   ]
  },
  {
   "cell_type": "markdown",
   "id": "e2c23fa1",
   "metadata": {},
   "source": [
    "# Test Data"
   ]
  },
  {
   "cell_type": "markdown",
   "id": "15980032",
   "metadata": {},
   "source": [
    "### Record(s) to test: dmaRec + y_Rec"
   ]
  },
  {
   "cell_type": "code",
   "execution_count": 24,
   "id": "41ccf553",
   "metadata": {},
   "outputs": [],
   "source": [
    "# Some record from Train Full - start at + nbr of records\n",
    "idx =23\n",
    "nbr =2\n",
    "\n",
    "dicRec = dfrTraFul[idx:idx+nbr].to_dict(orient='records')\n",
    "X_Rec = dvt.transform(dicRec)\n",
    "y_Rec = y_TraFul[idx:idx+nbr]\n",
    "dmaRec = xgb.DMatrix(X_Rec)"
   ]
  },
  {
   "cell_type": "code",
   "execution_count": 25,
   "id": "b8868d92",
   "metadata": {
    "scrolled": true
   },
   "outputs": [
    {
     "data": {
      "text/plain": [
       "([{'age': 55.0,\n",
       "   'anaemia': '0',\n",
       "   'creatinine_phosphokinase': 835,\n",
       "   'diabetes': '0',\n",
       "   'ejection_fraction': 40,\n",
       "   'high_blood_pressure': '0',\n",
       "   'platelets': 279000.0,\n",
       "   'serum_creatinine': 0.7,\n",
       "   'serum_sodium': 140,\n",
       "   'sex': '1',\n",
       "   'smoking': '1',\n",
       "   'time': 147},\n",
       "  {'age': 45.0,\n",
       "   'anaemia': '0',\n",
       "   'creatinine_phosphokinase': 2442,\n",
       "   'diabetes': '1',\n",
       "   'ejection_fraction': 30,\n",
       "   'high_blood_pressure': '0',\n",
       "   'platelets': 334000.0,\n",
       "   'serum_creatinine': 1.1,\n",
       "   'serum_sodium': 139,\n",
       "   'sex': '1',\n",
       "   'smoking': '0',\n",
       "   'time': 129}],\n",
       " array(['0', '1'], dtype=object))"
      ]
     },
     "execution_count": 25,
     "metadata": {},
     "output_type": "execute_result"
    }
   ],
   "source": [
    "dicRec , y_Rec"
   ]
  },
  {
   "cell_type": "markdown",
   "id": "976ad373",
   "metadata": {},
   "source": [
    "# Build Web service"
   ]
  },
  {
   "cell_type": "markdown",
   "id": "d77c6aa9",
   "metadata": {},
   "source": [
    "### Class to validate data "
   ]
  },
  {
   "cell_type": "code",
   "execution_count": 26,
   "id": "170c6d2d",
   "metadata": {},
   "outputs": [],
   "source": [
    "class Patient(BaseModel):\n",
    "    age : float\n",
    "    anaemia : str\n",
    "    creatinine_phosphokinase: int\n",
    "    diabetes: str\n",
    "    ejection_fraction: int \n",
    "    high_blood_pressure: str\n",
    "    platelets: float\n",
    "    serum_creatinine: float\n",
    "    serum_sodium: int\n",
    "    sex: str\n",
    "    smoking: str\n",
    "    time: int    "
   ]
  },
  {
   "cell_type": "code",
   "execution_count": 27,
   "id": "390b0be0",
   "metadata": {},
   "outputs": [
    {
     "name": "stdout",
     "output_type": "stream",
     "text": [
      "age=55.0 anaemia='0' creatinine_phosphokinase=835 diabetes='0' ejection_fraction=40 high_blood_pressure='0' platelets=279000.0 serum_creatinine=0.7 serum_sodium=140 sex='1' smoking='1' time=147\n",
      "*** OK ***\n"
     ]
    }
   ],
   "source": [
    "try:\n",
    "    print(Patient(**dicRec[0]))\n",
    "    print(\"*** OK ***\")\n",
    "except Exception as err:\n",
    "    print(\"*** NOT OK *** Error: \\n\" , err)"
   ]
  },
  {
   "cell_type": "code",
   "execution_count": 28,
   "id": "7c4f5f0a",
   "metadata": {},
   "outputs": [
    {
     "name": "stdout",
     "output_type": "stream",
     "text": [
      "age=45.0 anaemia='0' creatinine_phosphokinase=2442 diabetes='1' ejection_fraction=30 high_blood_pressure='0' platelets=334000.0 serum_creatinine=1.1 serum_sodium=139 sex='1' smoking='0' time=129\n",
      "*** OK ***\n"
     ]
    }
   ],
   "source": [
    "try:\n",
    "    print(Patient(**dicRec[1]))\n",
    "    print(\"*** OK ***\")\n",
    "except Exception as err:\n",
    "    print(\"*** NOT OK *** Error: \\n\" , err)"
   ]
  },
  {
   "cell_type": "code",
   "execution_count": 29,
   "id": "5c8f510a",
   "metadata": {},
   "outputs": [
    {
     "data": {
      "text/plain": [
       "{'age': 'WTF?',\n",
       " 'anaemia': '0',\n",
       " 'creatinine_phosphokinase': 835,\n",
       " 'diabetes': '0',\n",
       " 'ejection_fraction': 40,\n",
       " 'high_blood_pressure': '0',\n",
       " 'platelets': 279000.0,\n",
       " 'serum_creatinine': 0.7,\n",
       " 'serum_sodium': 140,\n",
       " 'sex': '1',\n",
       " 'smoking': '1',\n",
       " 'time': 'WTF?'}"
      ]
     },
     "execution_count": 29,
     "metadata": {},
     "output_type": "execute_result"
    }
   ],
   "source": [
    "recNok = dicRec[0].copy()\n",
    "recNok['age'] = 'WTF?' # to create error\n",
    "recNok['time'] = 'WTF?' # to create error\n",
    "recNok"
   ]
  },
  {
   "cell_type": "code",
   "execution_count": 30,
   "id": "3bc2b2f0",
   "metadata": {},
   "outputs": [
    {
     "name": "stdout",
     "output_type": "stream",
     "text": [
      "*** NOT OK *** Error: \n",
      " 2 validation errors for Patient : age :   value is not a valid float (type=type_error.float) : time :   value is not a valid integer (type=type_error.integer)\n"
     ]
    }
   ],
   "source": [
    "try:\n",
    "    print(Patient(**recNok))\n",
    "    print(\"*** OK ***\")\n",
    "except Exception as err:\n",
    "    print(\"*** NOT OK *** Error: \\n\" , str(err).replace('\\n' , ' : '))"
   ]
  },
  {
   "cell_type": "markdown",
   "id": "04722451",
   "metadata": {},
   "source": [
    "### Using parse_obj (pydantic)"
   ]
  },
  {
   "cell_type": "code",
   "execution_count": 31,
   "id": "b566e5b1",
   "metadata": {
    "scrolled": true
   },
   "outputs": [
    {
     "data": {
      "text/plain": [
       "Patient(age=55.0, anaemia='0', creatinine_phosphokinase=835, diabetes='0', ejection_fraction=40, high_blood_pressure='0', platelets=279000.0, serum_creatinine=0.7, serum_sodium=140, sex='1', smoking='1', time=147)"
      ]
     },
     "execution_count": 31,
     "metadata": {},
     "output_type": "execute_result"
    }
   ],
   "source": [
    "Patient.parse_obj(dicRec[0])"
   ]
  },
  {
   "cell_type": "code",
   "execution_count": 32,
   "id": "eb956545",
   "metadata": {
    "scrolled": true
   },
   "outputs": [
    {
     "name": "stdout",
     "output_type": "stream",
     "text": [
      "*** NOT OK *** Error: \n",
      " 2 validation errors for Patient: age:   value is not a valid float (type=type_error.float): time:   value is not a valid integer (type=type_error.integer)\n"
     ]
    }
   ],
   "source": [
    "try:\n",
    "    Patient.parse_obj(recNok)\n",
    "    print(\"*** OK ***\")\n",
    "except Exception as err:\n",
    "    print(\"*** NOT OK *** Error: \\n\" , str(err).replace('\\n' , ': '))"
   ]
  },
  {
   "cell_type": "markdown",
   "id": "43ea046a",
   "metadata": {},
   "source": [
    "### save xgb model + dic vectorizer"
   ]
  },
  {
   "cell_type": "code",
   "execution_count": 33,
   "id": "f4b6def4",
   "metadata": {},
   "outputs": [],
   "source": [
    "modBen = bentoml.xgboost.save_model(\n",
    "    'patient_death_risk',\n",
    "    modXgb,\n",
    "    custom_objects={\n",
    "        'dictVectorizer': dvt\n",
    "    })"
   ]
  },
  {
   "cell_type": "code",
   "execution_count": 34,
   "id": "f3d8bda8",
   "metadata": {},
   "outputs": [
    {
     "data": {
      "text/plain": [
       "{'name': 'patient_death_risk',\n",
       " 'version': 'lzpccrs6akcn6nht',\n",
       " 'module': 'bentoml.xgboost',\n",
       " 'labels': {},\n",
       " 'options': {'model_class': 'Booster'},\n",
       " 'metadata': {},\n",
       " 'context': {'framework_name': 'xgboost',\n",
       "  'framework_versions': {'xgboost': '1.6.2'},\n",
       "  'bentoml_version': '1.0.7',\n",
       "  'python_version': '3.9.11'},\n",
       " 'signatures': {'predict': {'batchable': False}},\n",
       " 'api_version': 'v2',\n",
       " 'creation_time': '2022-11-06T18:39:38.453601+00:00'}"
      ]
     },
     "execution_count": 34,
     "metadata": {},
     "output_type": "execute_result"
    }
   ],
   "source": [
    "modBen.info.to_dict()"
   ]
  },
  {
   "cell_type": "code",
   "execution_count": 35,
   "id": "cac18581",
   "metadata": {},
   "outputs": [
    {
     "data": {
      "text/plain": [
       "'C:\\\\Users\\\\alain\\\\bentoml\\\\models\\\\patient_death_risk\\\\lzpccrs6akcn6nht\\\\'"
      ]
     },
     "execution_count": 35,
     "metadata": {},
     "output_type": "execute_result"
    }
   ],
   "source": [
    "modBen.path"
   ]
  },
  {
   "cell_type": "code",
   "execution_count": 36,
   "id": "7c67d6f3",
   "metadata": {},
   "outputs": [
    {
     "data": {
      "text/plain": [
       "{'dictVectorizer': DictVectorizer(sparse=False)}"
      ]
     },
     "execution_count": 36,
     "metadata": {},
     "output_type": "execute_result"
    }
   ],
   "source": [
    "modBen.custom_objects"
   ]
  },
  {
   "cell_type": "code",
   "execution_count": 37,
   "id": "4e6bb365",
   "metadata": {},
   "outputs": [
    {
     "name": "stdout",
     "output_type": "stream",
     "text": [
      " Volume in drive C has no label.\n",
      " Volume Serial Number is E8A5-BC16\n",
      "\n",
      " Directory of C:\\Users\\alain\\bentoml\\models\\patient_death_risk\\rcznhj22xwjg4nht\n",
      "\n",
      "02/11/2022  15:49    <DIR>          .\n",
      "02/11/2022  15:49    <DIR>          ..\n",
      "02/11/2022  15:49               545 custom_objects.pkl\n",
      "02/11/2022  15:49               367 model.yaml\n",
      "02/11/2022  15:49           108,019 saved_model.ubj\n",
      "               3 File(s)        108,931 bytes\n",
      "               2 Dir(s)  88,250,863,616 bytes free\n"
     ]
    }
   ],
   "source": [
    "# check files saved\n",
    "!dir C:\\Users\\alain\\bentoml\\models\\patient_death_risk\\rcznhj22xwjg4nht\\*.*"
   ]
  },
  {
   "cell_type": "code",
   "execution_count": 38,
   "id": "18e4224b",
   "metadata": {},
   "outputs": [
    {
     "name": "stdout",
     "output_type": "stream",
     "text": [
      "name: patient_death_risk\n",
      "version: rcznhj22xwjg4nht\n",
      "module: bentoml.xgboost\n",
      "labels: {}\n",
      "options:\n",
      "  model_class: Booster\n",
      "metadata: {}\n",
      "context:\n",
      "  framework_name: xgboost\n",
      "  framework_versions:\n",
      "    xgboost: 1.6.2\n",
      "  bentoml_version: 1.0.7\n",
      "  python_version: 3.9.11\n",
      "signatures:\n",
      "  predict:\n",
      "    batchable: false\n",
      "api_version: v2\n",
      "creation_time: '2022-11-02T14:49:20.711289+00:00'\n"
     ]
    }
   ],
   "source": [
    "# Chef the content of the yaml file\n",
    "!type C:\\Users\\alain\\bentoml\\models\\patient_death_risk\\rcznhj22xwjg4nht\\model.yaml"
   ]
  },
  {
   "cell_type": "markdown",
   "id": "0667afa5",
   "metadata": {},
   "source": [
    "# Test Bentoml model (using booster)"
   ]
  },
  {
   "cell_type": "code",
   "execution_count": 39,
   "id": "d46051d4",
   "metadata": {},
   "outputs": [],
   "source": [
    "booster = bentoml.xgboost.load_model(\"patient_death_risk:rcznhj22xwjg4nht\")"
   ]
  },
  {
   "cell_type": "code",
   "execution_count": 40,
   "id": "1e25aea0",
   "metadata": {},
   "outputs": [
    {
     "data": {
      "text/plain": [
       "array([0.02292895, 0.92127746], dtype=float32)"
      ]
     },
     "execution_count": 40,
     "metadata": {},
     "output_type": "execute_result"
    }
   ],
   "source": [
    "booster.predict(dmaRec)"
   ]
  },
  {
   "cell_type": "markdown",
   "id": "58ed0167",
   "metadata": {},
   "source": [
    "### WS: patient_death_risk.py  "
   ]
  },
  {
   "cell_type": "code",
   "execution_count": 41,
   "id": "8464171d",
   "metadata": {
    "scrolled": false
   },
   "outputs": [
    {
     "name": "stdout",
     "output_type": "stream",
     "text": [
      "print('***** Starting patient_death_risk.py 11.54 *****')\n",
      "\n",
      "import numpy as npy\n",
      "import bentoml\n",
      "from bentoml.io import JSON\n",
      "from pydantic import BaseModel\n",
      "\n",
      "print('*** Import completed ***')\n",
      "\n",
      "class Patient(BaseModel):\n",
      "    age: float\n",
      "    anaemia: str\n",
      "    creatinine_phosphokinase: int\n",
      "    diabetes: str\n",
      "    ejection_fraction: int\n",
      "    high_blood_pressure: str\n",
      "    platelets: float\n",
      "    serum_creatinine: float\n",
      "    serum_sodium: int\n",
      "    sex: str\n",
      "    smoking: str\n",
      "    time: int\n",
      "\n",
      "print('*** Get model ***')\n",
      "modBnt = bentoml.xgboost.get(\"patient_death_risk:rcznhj22xwjg4nht\")\n",
      "dvt = modBnt.custom_objects['dictVectorizer']\n",
      "\n",
      "print('*** Run mmodel ***')\n",
      "modBntRun = modBnt.to_runner()\n",
      "svc = bentoml.Service(\"patient_death_risk_service\", runners=[modBntRun])\n",
      "\n",
      "@svc.api(input=JSON(), output=JSON())\n",
      "# Next option will not allow error handling: better to check later pydantic model with parse_obj !\n",
      "#@svc.api(input=JSON(pydantic_model=Patient), output=JSON())\n",
      "\n",
      "async def classify(patient):\n",
      "    print('\\n\\n*** in classify ***')\n",
      "\n",
      "    # should be a dict\n",
      "    print('*** type(patient) :' , type(patient)) \n",
      "    # \"must be like { \"val1\" : val1 , ...}\"\n",
      "    print('*** patient :' , patient)\n",
      "\n",
      "    print('*** parsing patient with pydantc Class')\n",
      "    try:\n",
      "        booOK = False\n",
      "        Patient.parse_obj(patient)\n",
      "        print('*** parsing patient OK')\n",
      "        booOK = True\n",
      "    except Exception as err:\n",
      "        strErr = str(err).replace('\\n' , ' : ')\n",
      "        print(\"*** parsing patient NOT OK *** Error: \\n\" , strErr )\n",
      "    \n",
      "\n",
      "    if booOK:\n",
      "        X_pat = dvt.transform(patient)\n",
      "        print('*** X:' , X_pat)\n",
      "\n",
      "        print('*** predict... beg' )\n",
      "        prd = await modBntRun.predict.async_run( X_pat )\n",
      "        print('*** predict... end' )\n",
      "\n",
      "        if prd > 0.5:\n",
      "            strPrd = 'Death probable'\n",
      "        else:\n",
      "            strPrd = 'Death NOT probable' \n",
      "    else:\n",
      "        # in case of error return -1\n",
      "        prd = -1\n",
      "        strPrd = strErr\n",
      "    \n",
      "    print('>*** prd = ' , prd , ' - interpret :' , strPrd  )\n",
      "    return( { \"prediction\" : prd , \"interpret\" : strPrd  })\n"
     ]
    }
   ],
   "source": [
    "!type ..\\code\\patient_death_risk.py"
   ]
  },
  {
   "cell_type": "markdown",
   "id": "eaa7ecd6",
   "metadata": {},
   "source": [
    "### Launch Bentoml service\n",
    "- in C:\\Users\\alain\\Documents\\prv\\IT\\mlzc-mid>\n",
    "- > pipenv shell\n",
    "- > cd code\n",
    "- > bentoml serve patient_death_risk:svc --reload       \n",
    "    (see https://docs.bentoml.org/en/latest/reference/cli.html#bentoml-serve)\n"
   ]
  },
  {
   "cell_type": "markdown",
   "id": "b4f77b5a",
   "metadata": {},
   "source": [
    "### Test Bentoml service with 3 records (bentoml serving)"
   ]
  },
  {
   "cell_type": "code",
   "execution_count": 77,
   "id": "b2e3319c",
   "metadata": {},
   "outputs": [],
   "source": [
    "url = 'http://localhost:3000/classify'"
   ]
  },
  {
   "cell_type": "code",
   "execution_count": 78,
   "id": "919862e6",
   "metadata": {
    "scrolled": true
   },
   "outputs": [
    {
     "data": {
      "text/plain": [
       "{'age': 55.0,\n",
       " 'anaemia': '0',\n",
       " 'creatinine_phosphokinase': 835,\n",
       " 'diabetes': '0',\n",
       " 'ejection_fraction': 40,\n",
       " 'high_blood_pressure': '0',\n",
       " 'platelets': 279000.0,\n",
       " 'serum_creatinine': 0.7,\n",
       " 'serum_sodium': 140,\n",
       " 'sex': '1',\n",
       " 'smoking': '1',\n",
       " 'time': 147}"
      ]
     },
     "execution_count": 78,
     "metadata": {},
     "output_type": "execute_result"
    }
   ],
   "source": [
    "# y = 0\n",
    "dicRec[0]"
   ]
  },
  {
   "cell_type": "code",
   "execution_count": 79,
   "id": "540142cd",
   "metadata": {},
   "outputs": [
    {
     "data": {
      "text/plain": [
       "{'prediction': [0.02292894944548607], 'interpret': 'Death NOT probable'}"
      ]
     },
     "execution_count": 79,
     "metadata": {},
     "output_type": "execute_result"
    }
   ],
   "source": [
    "requests.post(url, json=dicRec[0]).json()"
   ]
  },
  {
   "cell_type": "code",
   "execution_count": 80,
   "id": "95aa4877",
   "metadata": {
    "scrolled": true
   },
   "outputs": [
    {
     "data": {
      "text/plain": [
       "{'age': 45.0,\n",
       " 'anaemia': '0',\n",
       " 'creatinine_phosphokinase': 2442,\n",
       " 'diabetes': '1',\n",
       " 'ejection_fraction': 30,\n",
       " 'high_blood_pressure': '0',\n",
       " 'platelets': 334000.0,\n",
       " 'serum_creatinine': 1.1,\n",
       " 'serum_sodium': 139,\n",
       " 'sex': '1',\n",
       " 'smoking': '0',\n",
       " 'time': 129}"
      ]
     },
     "execution_count": 80,
     "metadata": {},
     "output_type": "execute_result"
    }
   ],
   "source": [
    "# y = 1\n",
    "dicRec[1]"
   ]
  },
  {
   "cell_type": "code",
   "execution_count": 81,
   "id": "60e2db44",
   "metadata": {},
   "outputs": [
    {
     "data": {
      "text/plain": [
       "{'prediction': [0.9212774634361267], 'interpret': 'Death probable'}"
      ]
     },
     "execution_count": 81,
     "metadata": {},
     "output_type": "execute_result"
    }
   ],
   "source": [
    "requests.post(url, json=dicRec[1]).json()"
   ]
  },
  {
   "cell_type": "code",
   "execution_count": 82,
   "id": "e60a1b93",
   "metadata": {},
   "outputs": [
    {
     "data": {
      "text/plain": [
       "{'age': 'WTF?',\n",
       " 'anaemia': '0',\n",
       " 'creatinine_phosphokinase': 835,\n",
       " 'diabetes': '0',\n",
       " 'ejection_fraction': 40,\n",
       " 'high_blood_pressure': '0',\n",
       " 'platelets': 279000.0,\n",
       " 'serum_creatinine': 0.7,\n",
       " 'serum_sodium': 140,\n",
       " 'sex': '1',\n",
       " 'smoking': '1',\n",
       " 'time': 'WTF?'}"
      ]
     },
     "execution_count": 82,
     "metadata": {},
     "output_type": "execute_result"
    }
   ],
   "source": [
    "# errors in json\n",
    "recNok"
   ]
  },
  {
   "cell_type": "code",
   "execution_count": 83,
   "id": "e1a09179",
   "metadata": {},
   "outputs": [
    {
     "data": {
      "text/plain": [
       "{'prediction': -1,\n",
       " 'interpret': '2 validation errors for Patient : age :   value is not a valid float (type=type_error.float) : time :   value is not a valid integer (type=type_error.integer)'}"
      ]
     },
     "execution_count": 83,
     "metadata": {},
     "output_type": "execute_result"
    }
   ],
   "source": [
    "requests.post(url, json=recNok).json()"
   ]
  },
  {
   "cell_type": "markdown",
   "id": "5a4e73c0",
   "metadata": {},
   "source": [
    "## Bentoml docker\n",
    "- in C:\\Users\\alain\\Documents\\prv\\IT\\mlzc-mid>\n",
    "- > pipenv shell\n",
    "- > cd code "
   ]
  },
  {
   "cell_type": "markdown",
   "id": "537b0edd",
   "metadata": {},
   "source": [
    "#### bentofile.yaml"
   ]
  },
  {
   "cell_type": "code",
   "execution_count": 84,
   "id": "f589dd76",
   "metadata": {},
   "outputs": [
    {
     "name": "stdout",
     "output_type": "stream",
     "text": [
      "# Same as `bentoml serve <service-name>`\n",
      "service: \"patient_death_risk:svc\"  \n",
      "\n",
      "labels:\n",
      "    owner: alainD\n",
      "    stage: dev\n",
      "\n",
      "# all files to be loaded\n",
      "include:\n",
      "- \"patient_death_risk.py\"  \n",
      "\n",
      "# all package needed\n",
      "python:\n",
      "    packages:  \n",
      "    - xgboost\n",
      "    - pandas\n",
      "    - sklearn\n",
      "    - pydantic\n"
     ]
    }
   ],
   "source": [
    "!type \"..\\code\\bentofile.yaml\""
   ]
  },
  {
   "cell_type": "markdown",
   "id": "df2e25eb",
   "metadata": {},
   "source": [
    "- > cd bentoml\n",
    "- > bentoml build"
   ]
  },
  {
   "cell_type": "markdown",
   "id": "71a1ff0a",
   "metadata": {},
   "source": [
    "```\n",
    "(mlzc-mid-xr52rCJ4) C:\\Users\\alain\\Documents\\prv\\IT\\mlzc-mid\\code>bentoml build\n",
    "***** Starting patient_death_risk.py 11.54 *****\n",
    "*** Import completed ***\n",
    "*** Get model ***\n",
    "*** Run mmodel ***\n",
    "Building BentoML service \"patient_death_risk_service:6tya6x24j62hcnht\" from build context \"C:\\Users\\alain\\Documents\\prv\\IT\\mlzc-mid\\code\"\n",
    "Packing model \"patient_death_risk:rcznhj22xwjg4nht\"\n",
    "Locking PyPI package versions..\n",
    "\n",
    "██████╗░███████╗███╗░░██╗████████╗░█████╗░███╗░░░███╗██╗░░░░░\n",
    "██╔══██╗██╔════╝████╗░██║╚══██╔══╝██╔══██╗████╗░████║██║░░░░░\n",
    "██████╦╝█████╗░░██╔██╗██║░░░██║░░░██║░░██║██╔████╔██║██║░░░░░\n",
    "██╔══██╗██╔══╝░░██║╚████║░░░██║░░░██║░░██║██║╚██╔╝██║██║░░░░░\n",
    "██████╦╝███████╗██║░╚███║░░░██║░░░╚█████╔╝██║░╚═╝░██║███████╗\n",
    "╚═════╝░╚══════╝╚═╝░░╚══╝░░░╚═╝░░░░╚════╝░╚═╝░░░░░╚═╝╚══════╝\n",
    "\n",
    "Successfully built Bento(tag=\"patient_death_risk_service:6tya6x24j62hcnht\")\n",
    "\n",
    "(mlzc-mid-xr52rCJ4) C:\\Users\\alain\\Documents\\prv\\IT\\mlzc-mid\\code>\n",
    "```"
   ]
  },
  {
   "cell_type": "markdown",
   "id": "eec0afa3",
   "metadata": {},
   "source": [
    "( ! ) Docker must be running !\n",
    "- > bentoml containerize patient_death_risk_service:6tya6x24j62hcnht"
   ]
  },
  {
   "cell_type": "markdown",
   "id": "c9355475",
   "metadata": {},
   "source": [
    "```\n",
    "(mlzc-mid-xr52rCJ4) C:\\Users\\alain\\Documents\\prv\\IT\\mlzc-mid\\code>bentoml containerize patient_death_risk_service:6tya6x24j62hcnht\n",
    "Building docker image for Bento(tag=\"patient_death_risk_service:6tya6x24j62hcnht\")...\n",
    "Successfully built docker image for \"patient_death_risk_service:6tya6x24j62hcnht\" with tags \"patient_death_risk_service:6tya6x24j62hcnht\"\n",
    "To run your newly built Bento container, pass \"patient_death_risk_service:6tya6x24j62hcnht\" to \"docker run\". For example: \"docker run -it --rm -p 3000:3000 patient_death_risk_service:6tya6x24j62hcnht serve --production\".\n",
    "```"
   ]
  },
  {
   "cell_type": "markdown",
   "id": "a818b80f",
   "metadata": {},
   "source": [
    "- > docker run -it --rm -p 3000:3000 patient_death_risk_service:6tya6x24j62hcnht serve --production"
   ]
  },
  {
   "cell_type": "markdown",
   "id": "72195250",
   "metadata": {},
   "source": [
    "### Test Bentoml service with 3 records (docker serving)"
   ]
  },
  {
   "cell_type": "code",
   "execution_count": 42,
   "id": "248fe640",
   "metadata": {},
   "outputs": [],
   "source": [
    "url = 'http://localhost:3000/classify'"
   ]
  },
  {
   "cell_type": "code",
   "execution_count": 43,
   "id": "d8f162da",
   "metadata": {
    "scrolled": true
   },
   "outputs": [
    {
     "data": {
      "text/plain": [
       "{'age': 55.0,\n",
       " 'anaemia': '0',\n",
       " 'creatinine_phosphokinase': 835,\n",
       " 'diabetes': '0',\n",
       " 'ejection_fraction': 40,\n",
       " 'high_blood_pressure': '0',\n",
       " 'platelets': 279000.0,\n",
       " 'serum_creatinine': 0.7,\n",
       " 'serum_sodium': 140,\n",
       " 'sex': '1',\n",
       " 'smoking': '1',\n",
       " 'time': 147}"
      ]
     },
     "execution_count": 43,
     "metadata": {},
     "output_type": "execute_result"
    }
   ],
   "source": [
    "# y = 0\n",
    "dicRec[0]"
   ]
  },
  {
   "cell_type": "code",
   "execution_count": 45,
   "id": "1e166cb1",
   "metadata": {},
   "outputs": [
    {
     "data": {
      "text/plain": [
       "{'prediction': [0.02292894944548607], 'interpret': 'Death NOT probable'}"
      ]
     },
     "execution_count": 45,
     "metadata": {},
     "output_type": "execute_result"
    }
   ],
   "source": [
    "requests.post(url, json=dicRec[0]).json()"
   ]
  },
  {
   "cell_type": "code",
   "execution_count": 46,
   "id": "9141753f",
   "metadata": {
    "scrolled": true
   },
   "outputs": [
    {
     "data": {
      "text/plain": [
       "{'age': 45.0,\n",
       " 'anaemia': '0',\n",
       " 'creatinine_phosphokinase': 2442,\n",
       " 'diabetes': '1',\n",
       " 'ejection_fraction': 30,\n",
       " 'high_blood_pressure': '0',\n",
       " 'platelets': 334000.0,\n",
       " 'serum_creatinine': 1.1,\n",
       " 'serum_sodium': 139,\n",
       " 'sex': '1',\n",
       " 'smoking': '0',\n",
       " 'time': 129}"
      ]
     },
     "execution_count": 46,
     "metadata": {},
     "output_type": "execute_result"
    }
   ],
   "source": [
    "# y = 1\n",
    "dicRec[1]"
   ]
  },
  {
   "cell_type": "code",
   "execution_count": 47,
   "id": "9195e6c5",
   "metadata": {},
   "outputs": [
    {
     "data": {
      "text/plain": [
       "{'prediction': [0.9212774634361267], 'interpret': 'Death probable'}"
      ]
     },
     "execution_count": 47,
     "metadata": {},
     "output_type": "execute_result"
    }
   ],
   "source": [
    "requests.post(url, json=dicRec[1]).json()"
   ]
  },
  {
   "cell_type": "code",
   "execution_count": 48,
   "id": "41e056ab",
   "metadata": {},
   "outputs": [
    {
     "data": {
      "text/plain": [
       "{'age': 'WTF?',\n",
       " 'anaemia': '0',\n",
       " 'creatinine_phosphokinase': 835,\n",
       " 'diabetes': '0',\n",
       " 'ejection_fraction': 40,\n",
       " 'high_blood_pressure': '0',\n",
       " 'platelets': 279000.0,\n",
       " 'serum_creatinine': 0.7,\n",
       " 'serum_sodium': 140,\n",
       " 'sex': '1',\n",
       " 'smoking': '1',\n",
       " 'time': 'WTF?'}"
      ]
     },
     "execution_count": 48,
     "metadata": {},
     "output_type": "execute_result"
    }
   ],
   "source": [
    "# errors in json\n",
    "recNok"
   ]
  },
  {
   "cell_type": "code",
   "execution_count": 49,
   "id": "bdf05b0d",
   "metadata": {},
   "outputs": [
    {
     "data": {
      "text/plain": [
       "{'prediction': -1,\n",
       " 'interpret': '2 validation errors for Patient : age :   value is not a valid float (type=type_error.float) : time :   value is not a valid integer (type=type_error.integer)'}"
      ]
     },
     "execution_count": 49,
     "metadata": {},
     "output_type": "execute_result"
    }
   ],
   "source": [
    "requests.post(url, json=recNok).json()"
   ]
  },
  {
   "attachments": {
    "image.png": {
     "image/png": "[encoded data removed]"
    }
   },
   "cell_type": "markdown",
   "id": "57382b83",
   "metadata": {},
   "source": [
    "### Docker desktop screen\n",
    "![image.png](attachment:image.png)"
   ]
  }
 ],
 "metadata": {
  "celltoolbar": "Raw Cell Format",
  "kernelspec": {
   "display_name": "Python 3 (ipykernel)",
   "language": "python",
   "name": "python3"
  },
  "language_info": {
   "codemirror_mode": {
    "name": "ipython",
    "version": 3
   },
   "file_extension": ".py",
   "mimetype": "text/x-python",
   "name": "python",
   "nbconvert_exporter": "python",
   "pygments_lexer": "ipython3",
   "version": "3.9.11"
  }
 },
 "nbformat": 4,
 "nbformat_minor": 5
}
